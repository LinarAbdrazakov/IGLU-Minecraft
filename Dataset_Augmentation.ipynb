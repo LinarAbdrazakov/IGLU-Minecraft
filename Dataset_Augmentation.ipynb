{
  "nbformat": 4,
  "nbformat_minor": 0,
  "metadata": {
    "colab": {
      "name": "Dataset_Augmentation.ipynb",
      "provenance": [],
      "collapsed_sections": [
        "ygWp_OsYNoo7",
        "zV38A_o-Nc6Z",
        "iJo1WttMN6hU",
        "4aWe9714N0eJ"
      ]
    },
    "kernelspec": {
      "name": "python3",
      "display_name": "Python 3"
    },
    "language_info": {
      "name": "python"
    }
  },
  "cells": [
    {
      "cell_type": "code",
      "metadata": {
        "id": "_oFrItdFzONE"
      },
      "source": [
        "!git clone https://github.com/iglu-contest/iglu\n",
        "!apt-get -qq install openjdk-8-jdk xvfb > /dev/null\n",
        "!update-alternatives --config java\n",
        "!sudo add-apt-repository ppa:openjdk-r/ppa\n",
        "!sudo apt-get update\n",
        "!sudo apt-get install openjdk-8-jdk\n",
        "!sudo apt-get install xvfb\n",
        "!pip uninstall -y iglu && pip install git+https://github.com/iglu-contest/iglu.git\n",
        "!pip install gym==0.18.3"
      ],
      "execution_count": null,
      "outputs": []
    },
    {
      "cell_type": "code",
      "metadata": {
        "id": "Pbf9D1rKzSja"
      },
      "source": [
        "# exec this cell ONLY in colab\n",
        "!wget -q https://raw.githubusercontent.com/iglu-contest/tutorials/main/env/colab_setup.sh -O - | sh > /dev/null 2>&1\n",
        "!pip install -q pyvirtualdisplay\n",
        "from pyvirtualdisplay import Display\n",
        "disp = Display(backend=\"xvnc\", size=(800, 600))\n",
        "disp.start();\n",
        "# for local notebooks instead launch jupyter as: xvfb-run -s \"-screen 0 640x480x24\" jupyter ..."
      ],
      "execution_count": null,
      "outputs": []
    },
    {
      "cell_type": "code",
      "metadata": {
        "id": "_PRDOvpZzTMZ",
        "colab": {
          "base_uri": "https://localhost:8080/"
        },
        "outputId": "d426fdeb-67f6-4a81-fc36-d3163cdea65b"
      },
      "source": [
        "import iglu\n",
        "import gym\n",
        "from iglu.tasks import RandomTasks\n",
        "from iglu.tasks.task_set import TaskSet\n",
        "\n",
        "env = gym.make('IGLUSilentBuilder-v0')\n",
        "obs = env.reset()"
      ],
      "execution_count": null,
      "outputs": [
        {
          "output_type": "stream",
          "name": "stderr",
          "text": [
            "/usr/local/lib/python3.7/dist-packages/gym/logger.py:30: UserWarning: \u001b[33mWARN: Box bound precision lowered by casting to float32\u001b[0m\n",
            "  warnings.warn(colorize('%s: %s'%('WARN', msg % args), 'yellow'))\n",
            "downloading task dataset into /root/.iglu/data: 258976it [00:02, 104615.09it/s]\n"
          ]
        }
      ]
    },
    {
      "cell_type": "code",
      "metadata": {
        "id": "_N_Tc76_04kF"
      },
      "source": [
        "targets = []\n",
        "chats = []\n",
        "name_targets = []\n",
        "chat_embeddings = []\n",
        "for i in range(1,156):\n",
        "  if ('C'+str(i)) == 'C38': continue\n",
        "  name_targets.append('C'+str(i))\n",
        "  targets.append(TaskSet(preset=['C'+str(i)]).sample().target_grid)\n",
        "  chats.append(TaskSet(preset=['C'+str(i)]).sample().chat)"
      ],
      "execution_count": null,
      "outputs": []
    },
    {
      "cell_type": "markdown",
      "metadata": {
        "id": "ygWp_OsYNoo7"
      },
      "source": [
        "## Augmentation chats throw colorizing"
      ]
    },
    {
      "cell_type": "code",
      "metadata": {
        "id": "d7mxPzFkw20N"
      },
      "source": [
        "colours = [\"blue\",\"yellow\",\"green\",\"orange\",\"purple\",\"red\"]"
      ],
      "execution_count": null,
      "outputs": []
    },
    {
      "cell_type": "code",
      "metadata": {
        "id": "r2XlHIDzAi8a"
      },
      "source": [
        "import re\n",
        "\n",
        "augmented_targets = [] \n",
        "augmented_chats = []\n",
        "augmented_target_name = []\n",
        "chat_set = set()\n",
        "target_set = set()\n",
        "\n",
        "for c1 in range(len(colours)):\n",
        "  pattern = colours[c1]\n",
        "  for c2 in range(len(colours)):\n",
        "    if (colours[c1] == colours[c2]): continue\n",
        "    for i in range(len(targets)):\n",
        "      new_chat = re.sub(pattern,colours[c2],chats[i])\n",
        "      new_target = targets[i].copy()\n",
        "      for j in range(9):\n",
        "        for k in range(11):\n",
        "          for m in range(11):\n",
        "            if(new_target[j][k][m] == c1 + 1):\n",
        "              new_target[j][k][m] = c2 + 1\n",
        "      if(new_chat not in chat_set):\n",
        "        chat_set.add(new_chat)\n",
        "        augmented_chats.append(new_chat)\n",
        "        augmented_targets.append(new_target)\n",
        "        augmented_target_name.append(name_targets[i])"
      ],
      "execution_count": null,
      "outputs": []
    },
    {
      "cell_type": "code",
      "metadata": {
        "colab": {
          "base_uri": "https://localhost:8080/"
        },
        "id": "cebLkCQSDz-r",
        "outputId": "7ef1b359-40da-41a1-cee5-a0a5177e347f"
      },
      "source": [
        "len(augmented_chats),len(augmented_target_name),len(augmented_targets)"
      ],
      "execution_count": null,
      "outputs": [
        {
          "output_type": "execute_result",
          "data": {
            "text/plain": [
              "(2845, 2845, 2845)"
            ]
          },
          "metadata": {},
          "execution_count": 21
        }
      ]
    },
    {
      "cell_type": "code",
      "metadata": {
        "id": "ik56Ts6ePJWL"
      },
      "source": [
        "from google.colab import drive\n",
        "drive.mount('/content/drive')"
      ],
      "execution_count": null,
      "outputs": []
    },
    {
      "cell_type": "markdown",
      "metadata": {
        "id": "zV38A_o-Nc6Z"
      },
      "source": [
        "## Random delete messages of builder from chat"
      ]
    },
    {
      "cell_type": "code",
      "metadata": {
        "id": "SDkkTXMAfdAT"
      },
      "source": [
        "def del_random_builder_messages(chat):\n",
        "  length = 0\n",
        "  lines=[]\n",
        "  lines = chat.split('\\n')\n",
        "  new_chat = lines.copy()\n",
        "  for i in range(len(new_chat)):\n",
        "    if new_chat[i][:9]==\"<Builder>\":\n",
        "      length += 1\n",
        "  if(length > 0):\n",
        "    lines_to_del = np.random.randint(0,length)\n",
        "    if(length > 1 and lines_to_del == 0):\n",
        "      lines_to_del = 1\n",
        "    for i in range(lines_to_del):\n",
        "      builder_arr = []\n",
        "      for i in range(len(new_chat)):\n",
        "        if new_chat[i][:9]==\"<Builder>\":\n",
        "          builder_arr.append(i)\n",
        "      index_to_del = np.random.randint(0,len(builder_arr))\n",
        "      new_chat.pop(builder_arr[index_to_del])\n",
        "    return new_chat\n",
        "  else:\n",
        "    return new_chat\n"
      ],
      "execution_count": null,
      "outputs": []
    },
    {
      "cell_type": "code",
      "metadata": {
        "id": "gDcamZtLMkpi",
        "colab": {
          "base_uri": "https://localhost:8080/"
        },
        "outputId": "4f2ad52d-f43d-4c8f-af69-559572a96120"
      },
      "source": [
        "random_augmented_targets = [] \n",
        "random_augmented_chats = []\n",
        "random_augmented_target_name = []\n",
        "random_chat_set = set()\n",
        "random_target_set = set()\n",
        "for j in range(10):\n",
        "  for i in range(len(augmented_chats)):\n",
        "    lines = del_random_builder_messages(augmented_chats[i])\n",
        "    new_chat = \"\"\n",
        "    for line in lines:\n",
        "      new_chat += line + \"\\n\"\n",
        "    new_chat = new_chat[:len(new_chat)-1]\n",
        "    if(new_chat not in chat_set):\n",
        "      chat_set.add(new_chat)\n",
        "      random_augmented_chats.append(new_chat)\n",
        "      random_augmented_targets.append(augmented_targets[i])\n",
        "      random_augmented_target_name.append(augmented_target_name[i])\n",
        "len(random_augmented_chats)"
      ],
      "execution_count": null,
      "outputs": [
        {
          "output_type": "execute_result",
          "data": {
            "text/plain": [
              "202464"
            ]
          },
          "metadata": {},
          "execution_count": 31
        }
      ]
    },
    {
      "cell_type": "markdown",
      "metadata": {
        "id": "iJo1WttMN6hU"
      },
      "source": [
        "## Delete all builder messages"
      ]
    },
    {
      "cell_type": "code",
      "metadata": {
        "id": "AqJOw9U2KJsP"
      },
      "source": [
        "def del_all_builder_messages(chat):\n",
        "  length = 0\n",
        "  lines=[]\n",
        "  lines = chat.split('\\n')\n",
        "  new_chat = lines.copy()\n",
        "  for i in range(len(new_chat)):\n",
        "    if new_chat[i][:9]==\"<Builder>\":\n",
        "      length += 1\n",
        "  if(length > 0):\n",
        "    for i in range(length):\n",
        "      builder_arr = []\n",
        "      for i in range(len(new_chat)):\n",
        "        if new_chat[i][:9]==\"<Builder>\":\n",
        "          builder_arr.append(i)\n",
        "      index_to_del = 0\n",
        "      new_chat.pop(builder_arr[index_to_del])\n",
        "    return new_chat\n",
        "  else:\n",
        "    return new_chat"
      ],
      "execution_count": null,
      "outputs": []
    },
    {
      "cell_type": "code",
      "metadata": {
        "id": "7X2t1HcHhIU4",
        "colab": {
          "base_uri": "https://localhost:8080/"
        },
        "outputId": "8eff22a9-686f-46c2-deb8-34136499be3e"
      },
      "source": [
        "without_builder_augmented_targets = [] \n",
        "without_builder_augmented_chats = []\n",
        "without_builder_augmented_target_name = []\n",
        "without_builder_chat_set = set()\n",
        "without_builder_target_set = set()\n",
        "for j in range(1):\n",
        "  for i in range(len(augmented_chats)):\n",
        "    lines = del_all_builder_messages(augmented_chats[i])\n",
        "    new_chat = \"\"\n",
        "    for line in lines:\n",
        "      new_chat += line + \"\\n\"\n",
        "    new_chat = new_chat[:len(new_chat)-1]\n",
        "    if(new_chat not in without_builder_chat_set):\n",
        "      without_builder_chat_set.add(new_chat)\n",
        "      without_builder_augmented_chats.append(new_chat)\n",
        "      without_builder_augmented_targets.append(augmented_targets[i])\n",
        "      without_builder_augmented_target_name.append(augmented_target_name[i])\n",
        "\n",
        "len(without_builder_augmented_chats)"
      ],
      "execution_count": null,
      "outputs": [
        {
          "output_type": "execute_result",
          "data": {
            "text/plain": [
              "2825"
            ]
          },
          "metadata": {},
          "execution_count": 18
        }
      ]
    },
    {
      "cell_type": "markdown",
      "metadata": {
        "id": "4aWe9714N0eJ"
      },
      "source": [
        "## Fragmented Chats"
      ]
    },
    {
      "cell_type": "code",
      "metadata": {
        "colab": {
          "base_uri": "https://localhost:8080/"
        },
        "id": "oMCvs7M6K1uk",
        "outputId": "82a40c2c-7032-4e9c-dfda-33c9860cd6f5"
      },
      "source": [
        "fragmented_augmented_targets = [] \n",
        "fragmented_augmented_chats = []\n",
        "fragmented_augmented_target_name = []\n",
        "fragmented_chat_set = set()\n",
        "\n",
        "for c1 in range(len(colours)):\n",
        "  pattern = colours[c1]\n",
        "  for c2 in range(len(colours)):\n",
        "    if (colours[c1] == colours[c2]): continue\n",
        "    for i in range(len(targets)):\n",
        "      new_chat = re.sub(pattern,colours[c2],chats[i])\n",
        "      first_part = new_chat[:int(len(new_chat)/2)]\n",
        "      second_part = new_chat[int(len(new_chat)/2):]\n",
        "      new_target = targets[i].copy()\n",
        "      for j in range(9):\n",
        "        for k in range(11):\n",
        "          for m in range(11):\n",
        "            if(new_target[j][k][m] == c1 + 1):\n",
        "              new_target[j][k][m] = c2 + 1\n",
        "      if(first_part not in fragmented_chat_set and second_part not in fragmented_chat_set):\n",
        "        fragmented_chat_set.add(first_part)\n",
        "        fragmented_chat_set.add(second_part)\n",
        "        fragmented_augmented_chats.append(first_part)\n",
        "        fragmented_augmented_targets.append(new_target)\n",
        "        fragmented_augmented_target_name.append(name_targets[i])\n",
        "        fragmented_augmented_chats.append(second_part)\n",
        "        fragmented_augmented_targets.append(new_target)\n",
        "        fragmented_augmented_target_name.append(name_targets[i])\n",
        "len(fragmented_augmented_chats),len(fragmented_augmented_target_name),len(fragmented_augmented_targets)"
      ],
      "execution_count": null,
      "outputs": [
        {
          "output_type": "execute_result",
          "data": {
            "text/plain": [
              "(3902, 3902, 3902)"
            ]
          },
          "metadata": {},
          "execution_count": 12
        }
      ]
    }
  ]
}