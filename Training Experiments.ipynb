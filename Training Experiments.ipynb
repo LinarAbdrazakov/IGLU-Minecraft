{
 "cells": [
  {
   "cell_type": "code",
   "execution_count": 4,
   "id": "cf296cf1",
   "metadata": {},
   "outputs": [
    {
     "name": "stdout",
     "output_type": "stream",
     "text": [
      "Collecting torch\n",
      "  Downloading torch-1.9.0-cp37-cp37m-manylinux1_x86_64.whl (831.4 MB)\n",
      "\u001b[K     |████████████████████████████████| 831.4 MB 2.0 kB/s eta 0:00:01    |▉                               | 20.4 MB 678 kB/s eta 0:19:56     |█▌                              | 38.2 MB 791 kB/s eta 0:16:42     |██▋                             | 66.7 MB 471 kB/s eta 0:27:03     |██████                          | 155.6 MB 446 kB/s eta 0:25:15     |████████▊                       | 227.7 MB 974 kB/s eta 0:10:20     |███████████                     | 283.0 MB 790 kB/s eta 0:11:34     |██████████████▊                 | 382.2 MB 941 kB/s eta 0:07:58     |████████████████                | 415.0 MB 811 kB/s eta 0:08:34     |██████████████████▌             | 480.2 MB 791 kB/s eta 0:07:24     |███████████████████▊            | 513.0 MB 983 kB/s eta 0:05:24\n",
      "\u001b[?25hRequirement already satisfied: typing-extensions in /root/miniconda/envs/py37/lib/python3.7/site-packages (from torch) (3.10.0.2)\n",
      "Installing collected packages: torch\n",
      "Successfully installed torch-1.9.0\n",
      "\u001b[33mWARNING: Running pip as root will break packages and permissions. You should install packages reliably by using venv: https://pip.pypa.io/warnings/venv\u001b[0m\n"
     ]
    }
   ],
   "source": [
    "#!pip3 install torch"
   ]
  },
  {
   "cell_type": "code",
   "execution_count": 5,
   "id": "0e2cf3cf",
   "metadata": {},
   "outputs": [
    {
     "name": "stdout",
     "output_type": "stream",
     "text": [
      "Collecting torchvision\n",
      "  Downloading torchvision-0.10.0-cp37-cp37m-manylinux1_x86_64.whl (22.1 MB)\n",
      "\u001b[K     |████████████████████████████████| 22.1 MB 197 kB/s  eta 0:00:01\n",
      "\u001b[?25hRequirement already satisfied: pillow>=5.3.0 in /root/miniconda/envs/py37/lib/python3.7/site-packages (from torchvision) (8.2.0)\n",
      "Requirement already satisfied: torch==1.9.0 in /root/miniconda/envs/py37/lib/python3.7/site-packages (from torchvision) (1.9.0)\n",
      "Requirement already satisfied: numpy in /root/miniconda/envs/py37/lib/python3.7/site-packages (from torchvision) (1.20.3)\n",
      "Requirement already satisfied: typing-extensions in /root/miniconda/envs/py37/lib/python3.7/site-packages (from torch==1.9.0->torchvision) (3.10.0.2)\n",
      "Installing collected packages: torchvision\n",
      "Successfully installed torchvision-0.10.0\n",
      "\u001b[33mWARNING: Running pip as root will break packages and permissions. You should install packages reliably by using venv: https://pip.pypa.io/warnings/venv\u001b[0m\n"
     ]
    }
   ],
   "source": [
    "#!pip3 install torchvision"
   ]
  },
  {
   "cell_type": "code",
   "execution_count": 2,
   "id": "8776f665",
   "metadata": {},
   "outputs": [
    {
     "name": "stdout",
     "output_type": "stream",
     "text": [
      "Found existing installation: iglu 0.2.2\n",
      "Uninstalling iglu-0.2.2:\n",
      "  Successfully uninstalled iglu-0.2.2\n",
      "\u001b[33mWARNING: Running pip as root will break packages and permissions. You should install packages reliably by using venv: https://pip.pypa.io/warnings/venv\u001b[0m\n",
      "Collecting git+https://github.com/iglu-contest/iglu.git\n",
      "  Cloning https://github.com/iglu-contest/iglu.git to /tmp/pip-req-build-5m2s2_s4\n",
      "  Running command git clone -q https://github.com/iglu-contest/iglu.git /tmp/pip-req-build-5m2s2_s4\n",
      "Requirement already satisfied: gym>=0.18.3 in /root/miniconda/envs/py37/lib/python3.7/site-packages (from iglu==0.2.2) (0.18.3)\n",
      "Requirement already satisfied: opencv-python>=4.1.0.25 in /root/miniconda/envs/py37/lib/python3.7/site-packages/opencv_python-4.5.2.54-py3.7-linux-x86_64.egg (from iglu==0.2.2) (4.5.2.54)\n",
      "Requirement already satisfied: setuptools>=49.2.0 in /root/miniconda/envs/py37/lib/python3.7/site-packages (from iglu==0.2.2) (52.0.0.post20210125)\n",
      "Requirement already satisfied: tqdm>=4.32.2 in /root/miniconda/envs/py37/lib/python3.7/site-packages/tqdm-4.61.2-py3.7.egg (from iglu==0.2.2) (4.61.2)\n",
      "Requirement already satisfied: numpy>=1.16.2 in /root/miniconda/envs/py37/lib/python3.7/site-packages (from iglu==0.2.2) (1.20.3)\n",
      "Requirement already satisfied: requests>=2.20.0 in /root/miniconda/envs/py37/lib/python3.7/site-packages/requests-2.25.1-py3.7.egg (from iglu==0.2.2) (2.25.1)\n",
      "Requirement already satisfied: ipython>=7.5.0 in /root/miniconda/envs/py37/lib/python3.7/site-packages/ipython-7.25.0-py3.7.egg (from iglu==0.2.2) (7.25.0)\n",
      "Requirement already satisfied: typing>=3.6.6 in /root/miniconda/envs/py37/lib/python3.7/site-packages/typing-3.10.0.0-py3.7.egg (from iglu==0.2.2) (3.10.0.0)\n",
      "Requirement already satisfied: lxml>=4.3.3 in /root/miniconda/envs/py37/lib/python3.7/site-packages/lxml-4.6.3-py3.7-linux-x86_64.egg (from iglu==0.2.2) (4.6.3)\n",
      "Requirement already satisfied: psutil>=5.6.2 in /root/miniconda/envs/py37/lib/python3.7/site-packages/psutil-5.8.0-py3.7-linux-x86_64.egg (from iglu==0.2.2) (5.8.0)\n",
      "Requirement already satisfied: Pyro4>=4.76 in /root/miniconda/envs/py37/lib/python3.7/site-packages/Pyro4-4.80-py3.7.egg (from iglu==0.2.2) (4.80)\n",
      "Requirement already satisfied: coloredlogs>=10.0 in /root/miniconda/envs/py37/lib/python3.7/site-packages/coloredlogs-15.0.1-py3.7.egg (from iglu==0.2.2) (15.0.1)\n",
      "Requirement already satisfied: pillow<=8.2.0,>=8.0.0 in /root/miniconda/envs/py37/lib/python3.7/site-packages (from iglu==0.2.2) (8.2.0)\n",
      "Requirement already satisfied: matplotlib>=3.2.2 in /root/miniconda/envs/py37/lib/python3.7/site-packages/matplotlib-3.4.2-py3.7-linux-x86_64.egg (from iglu==0.2.2) (3.4.2)\n",
      "Requirement already satisfied: dill>=0.3.1.1 in /root/miniconda/envs/py37/lib/python3.7/site-packages/dill-0.3.4-py3.7.egg (from iglu==0.2.2) (0.3.4)\n",
      "Requirement already satisfied: daemoniker>=0.2.3 in /root/miniconda/envs/py37/lib/python3.7/site-packages/daemoniker-0.2.3-py3.7.egg (from iglu==0.2.2) (0.2.3)\n",
      "Requirement already satisfied: xmltodict==0.12.0 in /root/miniconda/envs/py37/lib/python3.7/site-packages/xmltodict-0.12.0-py3.7.egg (from iglu==0.2.2) (0.12.0)\n",
      "Requirement already satisfied: inflection>=0.3.1 in /root/miniconda/envs/py37/lib/python3.7/site-packages/inflection-0.5.1-py3.7.egg (from iglu==0.2.2) (0.5.1)\n",
      "Requirement already satisfied: jinja2>=2.11.2 in /root/miniconda/envs/py37/lib/python3.7/site-packages/Jinja2-3.0.1-py3.7.egg (from iglu==0.2.2) (3.0.1)\n",
      "Requirement already satisfied: simple-term-menu in /root/miniconda/envs/py37/lib/python3.7/site-packages/simple_term_menu-1.2.1-py3.7.egg (from iglu==0.2.2) (1.2.1)\n",
      "Requirement already satisfied: bullet in /root/miniconda/envs/py37/lib/python3.7/site-packages/bullet-2.2.0-py3.7.egg (from iglu==0.2.2) (2.2.0)\n",
      "Requirement already satisfied: minerl-patched==0.1.0 in /root/miniconda/envs/py37/lib/python3.7/site-packages/minerl_patched-0.1.0-py3.7-linux-x86_64.egg (from iglu==0.2.2) (0.1.0)\n",
      "Requirement already satisfied: pandas==1.1.3 in /root/miniconda/envs/py37/lib/python3.7/site-packages/pandas-1.1.3-py3.7-linux-x86_64.egg (from iglu==0.2.2) (1.1.3)\n",
      "Requirement already satisfied: getch>=1.0 in /root/miniconda/envs/py37/lib/python3.7/site-packages/getch-1.0-py3.7-linux-x86_64.egg (from iglu==0.2.2) (1.0)\n",
      "Requirement already satisfied: python-dateutil>=2.7.3 in /root/miniconda/envs/py37/lib/python3.7/site-packages/python_dateutil-2.8.1-py3.7.egg (from pandas==1.1.3->iglu==0.2.2) (2.8.1)\n",
      "Requirement already satisfied: pytz>=2017.2 in /root/miniconda/envs/py37/lib/python3.7/site-packages/pytz-2021.1-py3.7.egg (from pandas==1.1.3->iglu==0.2.2) (2021.1)\n",
      "Requirement already satisfied: humanfriendly>=9.1 in /root/miniconda/envs/py37/lib/python3.7/site-packages/humanfriendly-9.2-py3.7.egg (from coloredlogs>=10.0->iglu==0.2.2) (9.2)\n",
      "Requirement already satisfied: scipy in /root/miniconda/envs/py37/lib/python3.7/site-packages (from gym>=0.18.3->iglu==0.2.2) (1.6.3)\n",
      "Requirement already satisfied: cloudpickle<1.7.0,>=1.2.0 in /root/miniconda/envs/py37/lib/python3.7/site-packages (from gym>=0.18.3->iglu==0.2.2) (1.6.0)\n",
      "Requirement already satisfied: pyglet<=1.5.15,>=1.4.0 in /root/miniconda/envs/py37/lib/python3.7/site-packages (from gym>=0.18.3->iglu==0.2.2) (1.5.15)\n",
      "Requirement already satisfied: backcall in /root/miniconda/envs/py37/lib/python3.7/site-packages/backcall-0.2.0-py3.7.egg (from ipython>=7.5.0->iglu==0.2.2) (0.2.0)\n",
      "Requirement already satisfied: decorator in /root/miniconda/envs/py37/lib/python3.7/site-packages/decorator-5.0.9-py3.7.egg (from ipython>=7.5.0->iglu==0.2.2) (5.0.9)\n",
      "Requirement already satisfied: jedi>=0.16 in /root/miniconda/envs/py37/lib/python3.7/site-packages/jedi-0.18.0-py3.7.egg (from ipython>=7.5.0->iglu==0.2.2) (0.18.0)\n",
      "Requirement already satisfied: matplotlib-inline in /root/miniconda/envs/py37/lib/python3.7/site-packages/matplotlib_inline-0.1.2-py3.7.egg (from ipython>=7.5.0->iglu==0.2.2) (0.1.2)\n",
      "Requirement already satisfied: pexpect>4.3 in /root/miniconda/envs/py37/lib/python3.7/site-packages/pexpect-4.8.0-py3.7.egg (from ipython>=7.5.0->iglu==0.2.2) (4.8.0)\n",
      "Requirement already satisfied: pickleshare in /root/miniconda/envs/py37/lib/python3.7/site-packages/pickleshare-0.7.5-py3.7.egg (from ipython>=7.5.0->iglu==0.2.2) (0.7.5)\n",
      "Requirement already satisfied: prompt-toolkit!=3.0.0,!=3.0.1,<3.1.0,>=2.0.0 in /root/miniconda/envs/py37/lib/python3.7/site-packages/prompt_toolkit-3.0.19-py3.7.egg (from ipython>=7.5.0->iglu==0.2.2) (3.0.19)\n",
      "Requirement already satisfied: pygments in /root/miniconda/envs/py37/lib/python3.7/site-packages/Pygments-2.9.0-py3.7.egg (from ipython>=7.5.0->iglu==0.2.2) (2.9.0)\n",
      "Requirement already satisfied: traitlets>=4.2 in /root/miniconda/envs/py37/lib/python3.7/site-packages/traitlets-5.0.5-py3.7.egg (from ipython>=7.5.0->iglu==0.2.2) (5.0.5)\n",
      "Requirement already satisfied: parso<0.9.0,>=0.8.0 in /root/miniconda/envs/py37/lib/python3.7/site-packages/parso-0.8.2-py3.7.egg (from jedi>=0.16->ipython>=7.5.0->iglu==0.2.2) (0.8.2)\n",
      "Requirement already satisfied: MarkupSafe>=2.0 in /root/miniconda/envs/py37/lib/python3.7/site-packages/MarkupSafe-2.0.1-py3.7-linux-x86_64.egg (from jinja2>=2.11.2->iglu==0.2.2) (2.0.1)\n",
      "Requirement already satisfied: cycler>=0.10 in /root/miniconda/envs/py37/lib/python3.7/site-packages/cycler-0.10.0-py3.7.egg (from matplotlib>=3.2.2->iglu==0.2.2) (0.10.0)\n",
      "Requirement already satisfied: kiwisolver>=1.0.1 in /root/miniconda/envs/py37/lib/python3.7/site-packages/kiwisolver-1.3.1-py3.7-linux-x86_64.egg (from matplotlib>=3.2.2->iglu==0.2.2) (1.3.1)\n",
      "Requirement already satisfied: pyparsing>=2.2.1 in /root/miniconda/envs/py37/lib/python3.7/site-packages/pyparsing-3.0.0b2-py3.7.egg (from matplotlib>=3.2.2->iglu==0.2.2) (3.0.0b2)\n",
      "Requirement already satisfied: six in /root/miniconda/envs/py37/lib/python3.7/site-packages/six-1.16.0-py3.7.egg (from cycler>=0.10->matplotlib>=3.2.2->iglu==0.2.2) (1.16.0)\n",
      "Requirement already satisfied: ptyprocess>=0.5 in /root/miniconda/envs/py37/lib/python3.7/site-packages/ptyprocess-0.7.0-py3.7.egg (from pexpect>4.3->ipython>=7.5.0->iglu==0.2.2) (0.7.0)\n",
      "Requirement already satisfied: wcwidth in /root/miniconda/envs/py37/lib/python3.7/site-packages/wcwidth-0.2.5-py3.7.egg (from prompt-toolkit!=3.0.0,!=3.0.1,<3.1.0,>=2.0.0->ipython>=7.5.0->iglu==0.2.2) (0.2.5)\n",
      "Requirement already satisfied: serpent>=1.27 in /root/miniconda/envs/py37/lib/python3.7/site-packages/serpent-1.40-py3.7.egg (from Pyro4>=4.76->iglu==0.2.2) (1.40)\n",
      "Requirement already satisfied: certifi>=2017.4.17 in /root/miniconda/envs/py37/lib/python3.7/site-packages (from requests>=2.20.0->iglu==0.2.2) (2021.5.30)\n",
      "Requirement already satisfied: chardet<5,>=3.0.2 in /root/miniconda/envs/py37/lib/python3.7/site-packages/chardet-4.0.0-py3.7.egg (from requests>=2.20.0->iglu==0.2.2) (4.0.0)\n",
      "Requirement already satisfied: idna<3,>=2.5 in /root/miniconda/envs/py37/lib/python3.7/site-packages/idna-2.10-py3.7.egg (from requests>=2.20.0->iglu==0.2.2) (2.10)\n",
      "Requirement already satisfied: urllib3<1.27,>=1.21.1 in /root/miniconda/envs/py37/lib/python3.7/site-packages/urllib3-1.26.6-py3.7.egg (from requests>=2.20.0->iglu==0.2.2) (1.26.6)\n"
     ]
    },
    {
     "name": "stdout",
     "output_type": "stream",
     "text": [
      "Requirement already satisfied: ipython-genutils in /root/miniconda/envs/py37/lib/python3.7/site-packages/ipython_genutils-0.2.0-py3.7.egg (from traitlets>=4.2->ipython>=7.5.0->iglu==0.2.2) (0.2.0)\n",
      "Building wheels for collected packages: iglu\n",
      "  Building wheel for iglu (setup.py) ... \u001b[?25ldone\n",
      "\u001b[?25h  Created wheel for iglu: filename=iglu-0.2.2-py3-none-any.whl size=16227 sha256=a857a7decc8c09fedb4a74c3036c22896e2af680f9c7e27fe896e330a9ac1991\n",
      "  Stored in directory: /tmp/pip-ephem-wheel-cache-dh2sz45u/wheels/b2/78/de/9361281dfe0286c1bef1a0d2925f099f64753327a0779e4561\n",
      "Successfully built iglu\n",
      "Installing collected packages: iglu\n",
      "Successfully installed iglu-0.2.2\n",
      "\u001b[33mWARNING: Running pip as root will break packages and permissions. You should install packages reliably by using venv: https://pip.pypa.io/warnings/venv\u001b[0m\n"
     ]
    }
   ],
   "source": [
    "!pip3 uninstall -y iglu && pip3 install git+https://github.com/iglu-contest/iglu.git"
   ]
  },
  {
   "cell_type": "code",
   "execution_count": 1,
   "id": "7fdd1d4d",
   "metadata": {
    "scrolled": false
   },
   "outputs": [
    {
     "name": "stderr",
     "output_type": "stream",
     "text": [
      "/root/miniconda/envs/py37/lib/python3.7/site-packages/gym/logger.py:30: UserWarning: \u001b[33mWARN: Box bound precision lowered by casting to float32\u001b[0m\n",
      "  warnings.warn(colorize('%s: %s'%('WARN', msg % args), 'yellow'))\n",
      "/root/miniconda/envs/py37/lib/python3.7/site-packages/gym/logger.py:30: UserWarning: \u001b[33mWARN: Box bound precision lowered by casting to float32\u001b[0m\n",
      "  warnings.warn(colorize('%s: %s'%('WARN', msg % args), 'yellow'))\n"
     ]
    }
   ],
   "source": [
    "from iglu.tasks import TaskSet\n"
   ]
  },
  {
   "cell_type": "code",
   "execution_count": 2,
   "id": "0c1c8921",
   "metadata": {},
   "outputs": [],
   "source": [
    "%load_ext autoreload\n",
    "%autoreload 2"
   ]
  },
  {
   "cell_type": "code",
   "execution_count": 3,
   "id": "8052d406",
   "metadata": {},
   "outputs": [],
   "source": [
    "from train import *"
   ]
  },
  {
   "cell_type": "code",
   "execution_count": 4,
   "id": "a74f8287",
   "metadata": {},
   "outputs": [
    {
     "data": {
      "text/plain": [
       "Discrete(18)"
      ]
     },
     "execution_count": 4,
     "metadata": {},
     "output_type": "execute_result"
    }
   ],
   "source": [
    "env.action_space"
   ]
  },
  {
   "cell_type": "code",
   "execution_count": 5,
   "id": "8e5d852d",
   "metadata": {},
   "outputs": [
    {
     "name": "stderr",
     "output_type": "stream",
     "text": [
      "/root/miniconda/envs/py37/lib/python3.7/site-packages/gym/logger.py:30: UserWarning: \u001b[33mWARN: Box bound precision lowered by casting to float32\u001b[0m\n",
      "  warnings.warn(colorize('%s: %s'%('WARN', msg % args), 'yellow'))\n",
      "/root/miniconda/envs/py37/lib/python3.7/site-packages/gym/logger.py:30: UserWarning: \u001b[33mWARN: Box bound precision lowered by casting to float32\u001b[0m\n",
      "  warnings.warn(colorize('%s: %s'%('WARN', msg % args), 'yellow'))\n",
      "/root/miniconda/envs/py37/lib/python3.7/runpy.py:125: RuntimeWarning: 'minerl_patched.utils.process_watcher' found in sys.modules after import of package 'minerl_patched.utils', but prior to execution of 'minerl_patched.utils.process_watcher'; this may result in unpredictable behaviour\n",
      "  warn(RuntimeWarning(msg))\n"
     ]
    }
   ],
   "source": [
    "obs = env.reset()"
   ]
  },
  {
   "cell_type": "code",
   "execution_count": 6,
   "id": "c1e377fe",
   "metadata": {},
   "outputs": [
    {
     "data": {
      "text/plain": [
       "<matplotlib.image.AxesImage at 0x7fbe71adcc50>"
      ]
     },
     "execution_count": 6,
     "metadata": {},
     "output_type": "execute_result"
    },
    {
     "data": {
      "image/png": "[encoded data removed]",
      "text/plain": [
       "<Figure size 432x288 with 1 Axes>"
      ]
     },
     "metadata": {
      "needs_background": "light"
     },
     "output_type": "display_data"
    }
   ],
   "source": [
    "import matplotlib.pyplot as plt\n",
    "\n",
    "plt.imshow(obs)"
   ]
  },
  {
   "cell_type": "code",
   "execution_count": 7,
   "id": "ff86ed63",
   "metadata": {},
   "outputs": [
    {
     "data": {
      "text/plain": [
       "(64, 64, 3)"
      ]
     },
     "execution_count": 7,
     "metadata": {},
     "output_type": "execute_result"
    }
   ],
   "source": [
    "obs.shape"
   ]
  },
  {
   "cell_type": "code",
   "execution_count": 8,
   "id": "a23f3acb",
   "metadata": {},
   "outputs": [],
   "source": [
    "img = torch.tensor(obs.astype(float), dtype=torch.float).permute(2, 0, 1) \n",
    "imgs = img[None,:,:,:]"
   ]
  },
  {
   "cell_type": "code",
   "execution_count": 9,
   "id": "ebbf11e4",
   "metadata": {},
   "outputs": [],
   "source": [
    "imgs = img[None,:,:,:]"
   ]
  },
  {
   "cell_type": "code",
   "execution_count": 10,
   "id": "3acc3e0a",
   "metadata": {},
   "outputs": [],
   "source": [
    "result = policy_net(imgs)"
   ]
  },
  {
   "cell_type": "code",
   "execution_count": 11,
   "id": "1915a6c7",
   "metadata": {},
   "outputs": [
    {
     "data": {
      "text/plain": [
       "tensor([[1]])"
      ]
     },
     "execution_count": 11,
     "metadata": {},
     "output_type": "execute_result"
    }
   ],
   "source": [
    "result.max(1)[1].view(1, 1)"
   ]
  },
  {
   "cell_type": "code",
   "execution_count": 13,
   "id": "4feda62c",
   "metadata": {},
   "outputs": [],
   "source": [
    "EPS_END = 0.01"
   ]
  },
  {
   "cell_type": "code",
   "execution_count": 14,
   "id": "30cde7bc",
   "metadata": {},
   "outputs": [],
   "source": [
    "import random\n",
    "import math\n",
    "\n",
    "device = torch.device(\"cuda\")\n",
    "\n",
    "\n",
    "steps_done = 0\n",
    "def select_action(state):\n",
    "    global steps_done\n",
    "    sample = random.random()\n",
    "    eps_threshold = EPS_END + (EPS_START - EPS_END) * \\\n",
    "        math.exp(-1. * steps_done / EPS_DECAY)\n",
    "    steps_done += 1\n",
    "    if sample > eps_threshold:\n",
    "        with torch.no_grad():\n",
    "            # t.max(1) will return largest column value of each row.\n",
    "            # second column on max result is index of where max element was\n",
    "            # found, so we pick action with the larger expected reward.\n",
    "            return policy_net(state).max(1)[1].view(1, 1)\n",
    "    else:\n",
    "        return torch.tensor([[random.randrange(num_actions)]], device=device, dtype=torch.long)"
   ]
  },
  {
   "cell_type": "code",
   "execution_count": 15,
   "id": "49bb28fb",
   "metadata": {},
   "outputs": [
    {
     "data": {
      "text/plain": [
       "DQN(\n",
       "  (visual_encoder): VisualEncoder(\n",
       "    (cnn): Sequential(\n",
       "      (0): Conv2d(3, 32, kernel_size=(8, 8), stride=(4, 4))\n",
       "      (1): ReLU()\n",
       "      (2): Conv2d(32, 64, kernel_size=(4, 4), stride=(2, 2))\n",
       "      (3): ReLU()\n",
       "      (4): Conv2d(64, 64, kernel_size=(3, 3), stride=(1, 1))\n",
       "      (5): ReLU()\n",
       "      (6): Flatten(start_dim=1, end_dim=-1)\n",
       "    )\n",
       "    (linear): Sequential(\n",
       "      (0): Linear(in_features=1024, out_features=512, bias=True)\n",
       "      (1): ReLU()\n",
       "    )\n",
       "  )\n",
       "  (head): Linear(in_features=512, out_features=18, bias=True)\n",
       ")"
      ]
     },
     "execution_count": 15,
     "metadata": {},
     "output_type": "execute_result"
    }
   ],
   "source": [
    "policy_net = DQN(num_actions)\n",
    "target_net = DQN(num_actions)\n",
    "target_net.load_state_dict(policy_net.state_dict())\n",
    "target_net.eval()\n",
    "\n",
    "policy_net.to(device)\n",
    "target_net.to(device)"
   ]
  },
  {
   "cell_type": "code",
   "execution_count": 16,
   "id": "3a6f48ad",
   "metadata": {},
   "outputs": [
    {
     "data": {
      "text/plain": [
       "tensor([[1]], device='cuda:0')"
      ]
     },
     "execution_count": 16,
     "metadata": {},
     "output_type": "execute_result"
    }
   ],
   "source": [
    "select_action(imgs)"
   ]
  },
  {
   "cell_type": "code",
   "execution_count": 17,
   "id": "2de0f1e4",
   "metadata": {},
   "outputs": [],
   "source": [
    "def optimize_model():\n",
    "    if len(buffer) < BATCH_SIZE:\n",
    "        return\n",
    "    transitions = buffer.sample(BATCH_SIZE)\n",
    "    # Transpose the batch (see https://stackoverflow.com/a/19343/3343043 for\n",
    "    # detailed explanation). This converts batch-array of Transitions\n",
    "    # to Transition of batch-arrays.\n",
    "    batch = Transition(*zip(*transitions))\n",
    "\n",
    "    # Compute a mask of non-final states and concatenate the batch elements\n",
    "    # (a final state would've been the one after which simulation ended)\n",
    "    non_final_mask = torch.tensor(tuple(map(lambda s: s is not None,\n",
    "                                          batch.next_state)), device=device, dtype=torch.bool)\n",
    "    non_final_next_states = torch.cat([s for s in batch.next_state\n",
    "                                                if s is not None])\n",
    "    state_batch = torch.cat(batch.state)\n",
    "    action_batch = torch.cat(batch.action)\n",
    "    reward_batch = torch.cat(batch.reward)\n",
    "\n",
    "    # Compute Q(s_t, a) - the model computes Q(s_t), then we select the\n",
    "    # columns of actions taken. These are the actions which would've been taken\n",
    "    # for each batch state according to policy_net\n",
    "    state_action_values = policy_net(state_batch).gather(1, action_batch)\n",
    "\n",
    "    # Compute V(s_{t+1}) for all next states.\n",
    "    # Expected values of actions for non_final_next_states are computed based\n",
    "    # on the \"older\" target_net; selecting their best reward with max(1)[0].\n",
    "    # This is merged based on the mask, such that we'll have either the expected\n",
    "    # state value or 0 in case the state was final.\n",
    "    next_state_values = torch.zeros(BATCH_SIZE, device=device)\n",
    "    next_state_values[non_final_mask] = target_net(non_final_next_states).max(1)[0].detach()\n",
    "    # Compute the expected Q values\n",
    "    expected_state_action_values = (next_state_values * GAMMA) + reward_batch\n",
    "\n",
    "    # Compute Huber loss\n",
    "    criterion = nn.SmoothL1Loss()\n",
    "    loss = criterion(state_action_values, expected_state_action_values.unsqueeze(1))\n",
    "\n",
    "    # Optimize the model\n",
    "    optimizer.zero_grad()\n",
    "    loss.backward()\n",
    "    for param in policy_net.parameters():\n",
    "        param.grad.data.clamp_(-1, 1)\n",
    "    optimizer.step()"
   ]
  },
  {
   "cell_type": "code",
   "execution_count": 18,
   "id": "08f0a5dc",
   "metadata": {},
   "outputs": [],
   "source": [
    "# set up matplotlib\n",
    "import matplotlib\n",
    "is_ipython = 'inline' in matplotlib.get_backend()\n",
    "if is_ipython:\n",
    "    from IPython import display\n",
    "\n",
    "plt.ion()\n",
    "\n",
    "episode_durations = []\n",
    " \n",
    "def plot_durations():\n",
    "    plt.figure(2)\n",
    "    plt.clf()\n",
    "    durations_t = torch.tensor(episode_durations, dtype=torch.float)\n",
    "    plt.title('Training...')\n",
    "    plt.xlabel('Episode')\n",
    "    plt.ylabel('Duration')\n",
    "    plt.plot(durations_t.numpy())\n",
    "    # Take 100 episode averages and plot them too\n",
    "    if len(durations_t) >= 100:\n",
    "        means = durations_t.unfold(0, 100, 1).mean(1).view(-1)\n",
    "        means = torch.cat((torch.zeros(99), means))\n",
    "        plt.plot(means.numpy())\n",
    "\n",
    "    plt.pause(0.001)  # pause a bit so that plots are updated\n",
    "    if is_ipython:\n",
    "        display.clear_output(wait=True)\n",
    "        display.display(plt.gcf())"
   ]
  },
  {
   "cell_type": "code",
   "execution_count": null,
   "id": "36df9bc9",
   "metadata": {},
   "outputs": [
    {
     "data": {
      "text/plain": [
       "<Figure size 432x288 with 0 Axes>"
      ]
     },
     "metadata": {},
     "output_type": "display_data"
    },
    {
     "name": "stderr",
     "output_type": "stream",
     "text": [
      "/root/miniconda/envs/py37/lib/python3.7/site-packages/gym/logger.py:30: UserWarning: \u001b[33mWARN: Box bound precision lowered by casting to float32\u001b[0m\n",
      "  warnings.warn(colorize('%s: %s'%('WARN', msg % args), 'yellow'))\n"
     ]
    }
   ],
   "source": [
    "from itertools import count\n",
    "from algorithms import *\n",
    "from tqdm.notebook import tqdm\n",
    "\n",
    "buffer = ReplayBuffer(10000)\n",
    "optimizer = optim.Adam(policy_net.parameters(), lr=0.001)\n",
    "\n",
    "num_episodes = 10000\n",
    "for i_episode in tqdm(range(num_episodes)):\n",
    "    # Initialize the environment and state\n",
    "    state = env.reset()\n",
    "    state = torch.tensor(state.astype(float), dtype=torch.float, device=device).permute(2, 0, 1)[None,:,:,:]\n",
    "    for t in count():\n",
    "        # Select and perform an action\n",
    "        \n",
    "        action = select_action(state)\n",
    "        next_state, reward, done, _ = env.step(action.item())\n",
    "        reward = torch.tensor([reward], device=device)\n",
    "        next_state = torch.tensor(next_state.astype(float), dtype=torch.float, device=device).permute(2, 0, 1)[None,:,:,:]\n",
    "\n",
    "        # Observe new state\n",
    "        if done:\n",
    "            next_state = None\n",
    "\n",
    "        # Store the transition in memory\n",
    "        buffer.push(state, action, next_state, reward)\n",
    "\n",
    "        # Move to the next state\n",
    "        state = next_state\n",
    "\n",
    "        # Perform one step of the optimization (on the policy network)\n",
    "        optimize_model()\n",
    "        if done:\n",
    "            episode_durations.append(t + 1)\n",
    "            plot_durations()\n",
    "            break\n",
    "    # Update the target network, copying all weights and biases in DQN\n",
    "    if i_episode % TARGET_UPDATE == 0:\n",
    "        target_net.load_state_dict(policy_net.state_dict())\n"
   ]
  },
  {
   "cell_type": "code",
   "execution_count": 21,
   "id": "463e97c7",
   "metadata": {},
   "outputs": [
    {
     "data": {
      "text/plain": [
       "[<matplotlib.lines.Line2D at 0x7fbe36d547b8>]"
      ]
     },
     "execution_count": 21,
     "metadata": {},
     "output_type": "execute_result"
    },
    {
     "data": {
      "image/png": "[encoded data removed]",
      "text/plain": [
       "<Figure size 432x288 with 1 Axes>"
      ]
     },
     "metadata": {
      "needs_background": "light"
     },
     "output_type": "display_data"
    }
   ],
   "source": [
    "plt.plot(episode_durations)"
   ]
  },
  {
   "cell_type": "code",
   "execution_count": 52,
   "id": "ce8f06f7",
   "metadata": {},
   "outputs": [
    {
     "data": {
      "text/plain": [
       "0.01"
      ]
     },
     "execution_count": 52,
     "metadata": {},
     "output_type": "execute_result"
    }
   ],
   "source": [
    "eps_threshold = EPS_END + (EPS_START - EPS_END) * \\\n",
    "        math.exp(-1. * steps_done / EPS_DECAY)\n",
    "eps_threshold"
   ]
  },
  {
   "cell_type": "code",
   "execution_count": null,
   "id": "02834a53",
   "metadata": {},
   "outputs": [],
   "source": []
  }
 ],
 "metadata": {
  "kernelspec": {
   "display_name": "Python 3 (ipykernel)",
   "language": "python",
   "name": "python3"
  },
  "language_info": {
   "codemirror_mode": {
    "name": "ipython",
    "version": 3
   },
   "file_extension": ".py",
   "mimetype": "text/x-python",
   "name": "python",
   "nbconvert_exporter": "python",
   "pygments_lexer": "ipython3",
   "version": "3.7.3"
  }
 },
 "nbformat": 4,
 "nbformat_minor": 5
}
