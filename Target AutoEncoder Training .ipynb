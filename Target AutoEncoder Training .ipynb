{
 "cells": [
  {
   "cell_type": "code",
   "execution_count": 1,
   "id": "f9f06de2",
   "metadata": {},
   "outputs": [
    {
     "name": "stderr",
     "output_type": "stream",
     "text": [
      "/root/miniconda/envs/py37/lib/python3.7/site-packages/gym/logger.py:30: UserWarning: \u001b[33mWARN: Box bound precision lowered by casting to float32\u001b[0m\n",
      "  warnings.warn(colorize('%s: %s'%('WARN', msg % args), 'yellow'))\n",
      "/root/miniconda/envs/py37/lib/python3.7/site-packages/gym/logger.py:30: UserWarning: \u001b[33mWARN: Box bound precision lowered by casting to float32\u001b[0m\n",
      "  warnings.warn(colorize('%s: %s'%('WARN', msg % args), 'yellow'))\n"
     ]
    }
   ],
   "source": [
    "%load_ext autoreload\n",
    "%autoreload 2\n",
    "\n",
    "import gym\n",
    "import iglu"
   ]
  },
  {
   "cell_type": "code",
   "execution_count": 2,
   "id": "d21e4ad5",
   "metadata": {},
   "outputs": [
    {
     "name": "stdout",
     "output_type": "stream",
     "text": [
      "\u001b[33mWARNING: Running pip as root will break packages and permissions. You should install packages reliably by using venv: https://pip.pypa.io/warnings/venv\u001b[0m\r\n"
     ]
    }
   ],
   "source": [
    "# exec this cell ONLY in colab\n",
    "!wget -q https://raw.githubusercontent.com/iglu-contest/tutorials/main/env/colab_setup.sh -O - | sh > /dev/null 2>&1\n",
    "!pip install -q pyvirtualdisplay\n",
    "from pyvirtualdisplay import Display\n",
    "disp = Display(backend=\"xvnc\", size=(800, 600))\n",
    "disp.start();\n",
    "# for local notebooks instead launch jupyter as: xvfb-run -s \"-screen 0 640x480x24\" jupyter ..."
   ]
  },
  {
   "cell_type": "code",
   "execution_count": 3,
   "id": "60108c7b",
   "metadata": {},
   "outputs": [],
   "source": [
    "env = gym.make('IGLUSilentBuilder-v0')"
   ]
  },
  {
   "cell_type": "code",
   "execution_count": 2,
   "id": "13c29213",
   "metadata": {},
   "outputs": [],
   "source": [
    "from tqdm import tqdm\n",
    "import matplotlib.pyplot as plt\n",
    "from IPython.display import clear_output\n",
    "from PIL import Image"
   ]
  },
  {
   "cell_type": "code",
   "execution_count": 5,
   "id": "6f7f36e2",
   "metadata": {},
   "outputs": [
    {
     "name": "stderr",
     "output_type": "stream",
     "text": [
      "/root/miniconda/envs/py37/lib/python3.7/site-packages/gym/logger.py:30: UserWarning: \u001b[33mWARN: Box bound precision lowered by casting to float32\u001b[0m\n",
      "  warnings.warn(colorize('%s: %s'%('WARN', msg % args), 'yellow'))\n",
      "/root/miniconda/envs/py37/lib/python3.7/site-packages/gym/logger.py:30: UserWarning: \u001b[33mWARN: Box bound precision lowered by casting to float32\u001b[0m\n",
      "  warnings.warn(colorize('%s: %s'%('WARN', msg % args), 'yellow'))\n",
      "/root/miniconda/envs/py37/lib/python3.7/runpy.py:125: RuntimeWarning: 'minerl_patched.utils.process_watcher' found in sys.modules after import of package 'minerl_patched.utils', but prior to execution of 'minerl_patched.utils.process_watcher'; this may result in unpredictable behaviour\n",
      "  warn(RuntimeWarning(msg))\n"
     ]
    }
   ],
   "source": [
    "obs = env.reset()"
   ]
  },
  {
   "cell_type": "code",
   "execution_count": 6,
   "id": "85e71faf",
   "metadata": {},
   "outputs": [
    {
     "data": {
      "image/png": "[encoded data removed]",
      "text/plain": [
       "<PIL.Image.Image image mode=RGB size=64x64 at 0x7F16751C9FD0>"
      ]
     },
     "metadata": {},
     "output_type": "display_data"
    }
   ],
   "source": [
    "display(Image.fromarray(obs['pov'], ))\n"
   ]
  },
  {
   "cell_type": "code",
   "execution_count": 7,
   "id": "0e9e0e52",
   "metadata": {},
   "outputs": [
    {
     "data": {
      "image/png": "[encoded data removed]",
      "text/plain": [
       "<PIL.Image.Image image mode=RGB size=256x256 at 0x7F1675120710>"
      ]
     },
     "metadata": {},
     "output_type": "display_data"
    }
   ],
   "source": [
    "total_reward = 0.\n",
    "done = False\n",
    "while not done:\n",
    "    display(Image.fromarray(obs['pov'],).resize((256, 256)), )\n",
    "    action = env.action_space.sample()\n",
    "    # action['camera'][0] *= 0.1\n",
    "    # action['camera'][0] *= 0.3\n",
    "    obs, reward, done, info = env.step(action)\n",
    "    total_reward += reward\n",
    "    clear_output(wait=True)"
   ]
  },
  {
   "cell_type": "code",
   "execution_count": 3,
   "id": "eda02708",
   "metadata": {},
   "outputs": [],
   "source": [
    "from iglu.tasks import RandomTasks\n"
   ]
  },
  {
   "cell_type": "code",
   "execution_count": 4,
   "id": "54e838ca",
   "metadata": {},
   "outputs": [],
   "source": [
    "target = RandomTasks(max_blocks=3, max_dist=5, num_colors=3).sample().target_grid "
   ]
  },
  {
   "cell_type": "code",
   "execution_count": 5,
   "id": "90c4855e",
   "metadata": {},
   "outputs": [
    {
     "data": {
      "text/plain": [
       "(9, 11, 11)"
      ]
     },
     "execution_count": 5,
     "metadata": {},
     "output_type": "execute_result"
    }
   ],
   "source": [
    "target.shape"
   ]
  },
  {
   "cell_type": "code",
   "execution_count": 6,
   "id": "b0a60447",
   "metadata": {},
   "outputs": [],
   "source": [
    "import torch\n",
    "from torch.nn.functional import one_hot\n",
    "\n",
    "target_tensor = one_hot(torch.tensor(target, dtype=torch.long), num_classes=7).permute(3, 0, 1, 2)"
   ]
  },
  {
   "cell_type": "code",
   "execution_count": 23,
   "id": "c626220f",
   "metadata": {},
   "outputs": [],
   "source": [
    "from models import TargetEncoder"
   ]
  },
  {
   "cell_type": "code",
   "execution_count": 24,
   "id": "23ec99b2",
   "metadata": {},
   "outputs": [],
   "source": [
    "target_encoder = TargetEncoder()"
   ]
  },
  {
   "cell_type": "code",
   "execution_count": 26,
   "id": "c12c970c",
   "metadata": {},
   "outputs": [],
   "source": [
    "features = target_encoder(target_tensor[None,:,:,:,:].float())"
   ]
  },
  {
   "cell_type": "code",
   "execution_count": 34,
   "id": "96e0c12f",
   "metadata": {},
   "outputs": [],
   "source": [
    "from models import TargetDecoder"
   ]
  },
  {
   "cell_type": "code",
   "execution_count": 35,
   "id": "de609ff4",
   "metadata": {},
   "outputs": [],
   "source": [
    "target_decoder = TargetDecoder()"
   ]
  },
  {
   "cell_type": "code",
   "execution_count": 37,
   "id": "5f40a888",
   "metadata": {},
   "outputs": [
    {
     "data": {
      "text/plain": [
       "torch.Size([1, 7, 9, 11, 11])"
      ]
     },
     "execution_count": 37,
     "metadata": {},
     "output_type": "execute_result"
    }
   ],
   "source": [
    "target_decoder(features).shape"
   ]
  },
  {
   "cell_type": "code",
   "execution_count": null,
   "id": "b14d1a6a",
   "metadata": {},
   "outputs": [],
   "source": []
  }
 ],
 "metadata": {
  "kernelspec": {
   "display_name": "Python 3 (ipykernel)",
   "language": "python",
   "name": "python3"
  },
  "language_info": {
   "codemirror_mode": {
    "name": "ipython",
    "version": 3
   },
   "file_extension": ".py",
   "mimetype": "text/x-python",
   "name": "python",
   "nbconvert_exporter": "python",
   "pygments_lexer": "ipython3",
   "version": "3.7.3"
  }
 },
 "nbformat": 4,
 "nbformat_minor": 5
}
