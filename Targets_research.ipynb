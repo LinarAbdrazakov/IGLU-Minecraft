{
 "cells": [
  {
   "cell_type": "code",
   "execution_count": 18,
   "id": "6582eea9",
   "metadata": {},
   "outputs": [],
   "source": [
    "import numpy as np\n",
    "\n",
    "augmented_chats = np.load(\"data/augmented_chats.npy\")\n",
    "augmented_tasks = np.load(\"data/augmented_targets.npy\")\n",
    "augmented_target_names = np.load(\"data/augmented_target_name.npy\")"
   ]
  },
  {
   "cell_type": "code",
   "execution_count": 19,
   "id": "a61f9de7",
   "metadata": {},
   "outputs": [
    {
     "data": {
      "text/plain": [
       "(2850,)"
      ]
     },
     "execution_count": 19,
     "metadata": {},
     "output_type": "execute_result"
    }
   ],
   "source": [
    "augmented_chats.shape"
   ]
  },
  {
   "cell_type": "code",
   "execution_count": 20,
   "id": "2b72c15b",
   "metadata": {},
   "outputs": [
    {
     "data": {
      "text/plain": [
       "(2850,)"
      ]
     },
     "execution_count": 20,
     "metadata": {},
     "output_type": "execute_result"
    }
   ],
   "source": [
    "augmented_chats.shape"
   ]
  },
  {
   "cell_type": "code",
   "execution_count": 21,
   "id": "f1939f77",
   "metadata": {},
   "outputs": [
    {
     "data": {
      "text/plain": [
       "array([[0, 0, 0, 0, 0, 0, 0, 0, 0, 0, 0],\n",
       "       [0, 0, 0, 0, 0, 0, 0, 0, 0, 0, 0],\n",
       "       [0, 0, 0, 0, 0, 6, 0, 0, 0, 0, 0],\n",
       "       [0, 0, 0, 0, 0, 0, 0, 0, 0, 0, 0],\n",
       "       [0, 0, 0, 0, 0, 0, 0, 0, 0, 0, 0],\n",
       "       [0, 0, 0, 0, 0, 0, 0, 0, 0, 0, 0],\n",
       "       [0, 0, 0, 0, 0, 0, 0, 0, 0, 0, 0],\n",
       "       [0, 0, 0, 0, 0, 0, 0, 0, 0, 0, 0],\n",
       "       [0, 0, 0, 0, 0, 0, 0, 0, 0, 0, 0],\n",
       "       [0, 0, 0, 0, 0, 0, 0, 0, 0, 0, 0],\n",
       "       [0, 0, 0, 0, 0, 3, 0, 0, 0, 0, 0]], dtype=int32)"
      ]
     },
     "execution_count": 21,
     "metadata": {},
     "output_type": "execute_result"
    }
   ],
   "source": [
    "augmented_tasks[0][0]"
   ]
  },
  {
   "cell_type": "code",
   "execution_count": 29,
   "id": "cba85b94",
   "metadata": {},
   "outputs": [
    {
     "data": {
      "text/plain": [
       "(6, 9, 11, 11)"
      ]
     },
     "execution_count": 29,
     "metadata": {},
     "output_type": "execute_result"
    }
   ],
   "source": [
    "augmented_tasks[target_names == \"C17\"].shape"
   ]
  },
  {
   "cell_type": "code",
   "execution_count": null,
   "id": "eea6fb63",
   "metadata": {},
   "outputs": [],
   "source": []
  }
 ],
 "metadata": {
  "kernelspec": {
   "display_name": "Python 3 (ipykernel)",
   "language": "python",
   "name": "python3"
  },
  "language_info": {
   "codemirror_mode": {
    "name": "ipython",
    "version": 3
   },
   "file_extension": ".py",
   "mimetype": "text/x-python",
   "name": "python",
   "nbconvert_exporter": "python",
   "pygments_lexer": "ipython3",
   "version": "3.7.3"
  }
 },
 "nbformat": 4,
 "nbformat_minor": 5
}
