{
 "cells": [
  {
   "cell_type": "code",
   "execution_count": 1,
   "id": "6582eea9",
   "metadata": {},
   "outputs": [],
   "source": [
    "import numpy as np\n",
    "\n",
    "augmented_chats = np.load(\"data/augmented_chats.npy\")\n",
    "augmented_tasks = np.load(\"data/augmented_targets.npy\")"
   ]
  },
  {
   "cell_type": "code",
   "execution_count": 3,
   "id": "a61f9de7",
   "metadata": {},
   "outputs": [
    {
     "data": {
      "text/plain": [
       "\"<Builder> Mission has started.\\n<Builder> ready!\\n<Architect> Ok, this on looks sort of like a hanging bell.\\n<Architect> close to the left edge make a pillar of red blocks\\n<Builder> how high?\\n<Architect> 8 blocks\\n<Builder> done!\\n<Architect> cool, make a green pillar 8 blocks to the right of that\\n<Builder> there?\\n<Architect> Yup\\n<Architect> Now put a bar of purple blocks on top of the two pillars\\n<Builder> feel free to pipeline instructions if you think it'll work better!\\n<Builder> there, or should it be lower?\\n<Architect> Thats good.\\n<Architect> Now make an orange block underneath the bar in the middle\\n<Builder> alright!\\n<Architect> Now hang a 3 by 3 square from that. Everything should look flat\\n<Builder> i'm guessing 5 below that?\\n<Builder> a row of 5?\\n<Architect> No, just add a block to the sides on the botoom layer.\\n<Builder> like that?\\n<Architect> Yup, now we just need to add a yellow block on the bottom in the middle\\n<Builder> nice!\\n<Architect> Perfect\""
      ]
     },
     "execution_count": 3,
     "metadata": {},
     "output_type": "execute_result"
    }
   ],
   "source": [
    "augmented_chats[0]"
   ]
  },
  {
   "cell_type": "code",
   "execution_count": 6,
   "id": "2b72c15b",
   "metadata": {},
   "outputs": [
    {
     "data": {
      "text/plain": [
       "\"<Builder> Mission has started.\\n<Builder> ready!\\n<Architect> Ok, this one looks sort of like a flower.\\n<Architect> We are going to start with the stalk if that's good with you?\\n<Builder> got it :)\\n<Architect> We are going to need some space so head to the middle of one of the edges\\n<Architect> Ok, make a v shape with 2 blocks from the point\\n<Builder> like that?\\n<Architect> Yup\\n<Builder> okay!\\n<Architect> Now make a 3 block long line going away from you\\n<Builder> like that, or one shorter?\\n<Architect> Thats good\\n<Architect> Now we are going to have a + sign made of yellow blocks on the end of the line\\n<Builder> like that?\\n<Architect> Yup, now punch out the middle block and put down a red one\\n<Builder> got it!\\n<Architect> Cool, now add orange blocks to the corners to make a square\\n<Builder> ok!\\n<Architect> Perfect!\""
      ]
     },
     "execution_count": 6,
     "metadata": {},
     "output_type": "execute_result"
    }
   ],
   "source": [
    "augmented_chats[3]"
   ]
  },
  {
   "cell_type": "code",
   "execution_count": 9,
   "id": "f1939f77",
   "metadata": {},
   "outputs": [
    {
     "data": {
      "text/plain": [
       "array([[0, 0, 0, 0, 0, 0, 0, 0, 0, 0, 0],\n",
       "       [0, 0, 3, 0, 0, 0, 0, 0, 0, 0, 0],\n",
       "       [0, 0, 0, 0, 0, 0, 0, 0, 0, 0, 0],\n",
       "       [0, 0, 0, 0, 0, 0, 0, 0, 0, 0, 0],\n",
       "       [0, 0, 0, 0, 0, 0, 0, 0, 0, 0, 0],\n",
       "       [0, 0, 0, 0, 0, 0, 0, 0, 0, 0, 0],\n",
       "       [0, 0, 0, 0, 0, 0, 0, 0, 0, 0, 0],\n",
       "       [0, 0, 0, 0, 0, 0, 0, 0, 0, 0, 0],\n",
       "       [0, 0, 0, 0, 0, 0, 0, 0, 0, 0, 0],\n",
       "       [0, 0, 6, 0, 0, 0, 0, 0, 0, 0, 0],\n",
       "       [0, 0, 0, 0, 0, 0, 0, 0, 0, 0, 0]], dtype=int32)"
      ]
     },
     "execution_count": 9,
     "metadata": {},
     "output_type": "execute_result"
    }
   ],
   "source": [
    "augmented_tasks[0][0]"
   ]
  },
  {
   "cell_type": "code",
   "execution_count": null,
   "id": "cba85b94",
   "metadata": {},
   "outputs": [],
   "source": []
  }
 ],
 "metadata": {
  "kernelspec": {
   "display_name": "Python 3 (ipykernel)",
   "language": "python",
   "name": "python3"
  },
  "language_info": {
   "codemirror_mode": {
    "name": "ipython",
    "version": 3
   },
   "file_extension": ".py",
   "mimetype": "text/x-python",
   "name": "python",
   "nbconvert_exporter": "python",
   "pygments_lexer": "ipython3",
   "version": "3.7.3"
  }
 },
 "nbformat": 4,
 "nbformat_minor": 5
}
