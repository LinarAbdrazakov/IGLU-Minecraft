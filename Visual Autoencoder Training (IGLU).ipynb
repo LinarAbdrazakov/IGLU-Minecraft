{
 "cells": [
  {
   "cell_type": "code",
   "execution_count": 1,
   "metadata": {
    "id": "bEtC0TWMtlhX"
   },
   "outputs": [],
   "source": [
    "import numpy as np\n",
    "import torch\n",
    "import torch.nn as nn\n",
    "# import torch.nn.functional as F\n",
    "import torch.utils.data as data\n",
    "import torch.optim as optim\n",
    "import torchvision\n",
    "from torchvision import transforms\n",
    "import matplotlib.pyplot as plt\n",
    "import wandb"
   ]
  },
  {
   "cell_type": "code",
   "execution_count": 2,
   "metadata": {},
   "outputs": [],
   "source": [
    "%load_ext autoreload\n",
    "%autoreload 2\n",
    "from models import VisualEncoder, VisualDecoder"
   ]
  },
  {
   "cell_type": "code",
   "execution_count": 3,
   "metadata": {
    "id": "BhGyiJ0cmD3j"
   },
   "outputs": [],
   "source": [
    "images = np.load('data/images.npy') # путь до картинок из иглу\n",
    "images = np.transpose(images,(0,3,1,2))\n",
    "images = torch.Tensor(images)\n",
    "train_dataset = images\n",
    "train_set, val_set = torch.utils.data.random_split(train_dataset, [100000, 13873])\n",
    "train_loader = data.DataLoader(train_set, batch_size=256, shuffle=True, drop_last=True, pin_memory=False, num_workers=4)\n",
    "val_loader = data.DataLoader(val_set, batch_size=256, shuffle=False, drop_last=False, num_workers=4)"
   ]
  },
  {
   "cell_type": "markdown",
   "metadata": {},
   "source": [
    "## Training AtariCNN"
   ]
  },
  {
   "cell_type": "code",
   "execution_count": 6,
   "metadata": {
    "colab": {
     "base_uri": "https://localhost:8080/"
    },
    "id": "vj5eOljtwT-T",
    "outputId": "25df78c7-6243-45ae-c9a2-e1a08fa82262"
   },
   "outputs": [
    {
     "name": "stdout",
     "output_type": "stream",
     "text": [
      "Total params: 600736\n"
     ]
    }
   ],
   "source": [
    "class Autoencoder(nn.Module):\n",
    "    def __init__(self,\n",
    "               encoder_class : object = VisualEncoder,\n",
    "               decoder_class : object = VisualDecoder):\n",
    "        super().__init__()\n",
    "        self.encoder = encoder_class()\n",
    "        self.decoder = decoder_class()\n",
    "    def forward(self, x):\n",
    "        encode = self.encoder(x)\n",
    "        decode = self.decoder(encode)\n",
    "        return decode\n",
    "model = Autoencoder()\n",
    "model.to('cuda')\n",
    "\n",
    "total_params = sum(p.numel() for p in model.encoder.parameters() if p.requires_grad)\n",
    "print('Total params:', total_params)"
   ]
  },
  {
   "cell_type": "code",
   "execution_count": null,
   "metadata": {
    "colab": {
     "base_uri": "https://localhost:8080/"
    },
    "id": "BSCdzJtc4O6c",
    "outputId": "73b26f0e-0082-4485-9edf-c24e6f368f92"
   },
   "outputs": [],
   "source": [
    "config_defaults = {\n",
    "    'epochs': 50,\n",
    "    'batch_size': 1024,\n",
    "    'learning_rate': 1e-3,\n",
    "    'optimizer': 'adam',\n",
    "    'scheduler_step_size': 30,\n",
    "    'scheduler_gamma': 0.5\n",
    "}\n",
    "\n",
    "wandb.init(project='AutoEncoder', entity='neuro_ai', name='AtariCNN', config=config_defaults)\n",
    "config = wandb.config\n",
    "optimizer = optim.Adam(model.parameters(), config.learning_rate)\n",
    "criterion = torch.nn.MSELoss()\n",
    "scheduler = torch.optim.lr_scheduler.StepLR(optimizer, \n",
    "                                            step_size=config.scheduler_step_size, \n",
    "                                            gamma=config.scheduler_gamma)\n",
    "\n",
    "for epoch in range(config.epochs):\n",
    "    #train\n",
    "    model.train()\n",
    "    train_loss = []\n",
    "    for data in train_loader:\n",
    "        data /= 255\n",
    "        data = data.to('cuda')\n",
    "        predict = model(data)\n",
    "        loss = criterion(predict, data)    \n",
    "        optimizer.zero_grad()\n",
    "        loss.backward()\n",
    "        optimizer.step()\n",
    "        train_loss.append(loss.item())\n",
    "    train_loss = np.array(train_loss).mean()\n",
    "    \n",
    "    #evaluate\n",
    "    model.eval()\n",
    "    val_loss = []\n",
    "    for data in val_loader:\n",
    "        data /= 255\n",
    "        data = data.to('cuda')\n",
    "        predict = model(data)\n",
    "        loss = criterion(predict, data)\n",
    "        val_loss.append(loss.item())\n",
    "    val_loss = np.array(val_loss).mean()\n",
    "    scheduler.step()\n",
    "    wandb.log({\"train_loss\":train_loss, 'val_loss': val_loss})"
   ]
  },
  {
   "cell_type": "code",
   "execution_count": null,
   "metadata": {
    "id": "9d1rZFT-Bj_H"
   },
   "outputs": [],
   "source": [
    "torch.save(model.encoder.state_dict(), 'models/AtariCNN/encoder_weigths.pth')\n",
    "torch.save(model.decoder.state_dict(), 'models/AtariCNN/decoder_weigths.pth')"
   ]
  },
  {
   "cell_type": "markdown",
   "metadata": {},
   "source": [
    "##  AnnaCNN "
   ]
  },
  {
   "cell_type": "code",
   "execution_count": 13,
   "metadata": {},
   "outputs": [],
   "source": [
    "class VisualEncoder(nn.Module):\n",
    "    def __init__(self):\n",
    "        super().__init__()\n",
    "\n",
    "        self.cnn = nn.Sequential(\n",
    "            nn.Conv2d(3, 32, kernel_size=8, stride=4, padding=0),  \n",
    "            nn.ReLU(),\n",
    "            nn.Conv2d(32, 64, kernel_size=4, stride=2, padding=0), \n",
    "            nn.ReLU(),\n",
    "            nn.Conv2d(64, 64, kernel_size=3, stride=1, padding=0), \n",
    "            nn.ReLU(),\n",
    "            nn.Conv2d(64, 64, kernel_size=3, stride=1, padding=0),\n",
    "            nn.ReLU(), \n",
    "            nn.Conv2d(64, 512, kernel_size=2, stride=1, padding=0),\n",
    "            nn.ReLU(),\n",
    "            nn.Flatten(),\n",
    "        )\n",
    "\n",
    "    def forward(self, x):\n",
    "        return self.cnn(x)\n",
    "\n",
    "class VisualDecoder(nn.Module):\n",
    "    def __init__(self):\n",
    "        super().__init__()\n",
    "\n",
    "        self.cnn = nn.Sequential(\n",
    "            nn.ConvTranspose2d(512, 64, kernel_size=2, stride=1, padding=0),\n",
    "            nn.ReLU(),\n",
    "            nn.ConvTranspose2d(64, 64, kernel_size=3, stride=1, padding=0),\n",
    "            nn.ReLU(),\n",
    "            nn.ConvTranspose2d(64, 64, kernel_size=3, stride=1, padding=0),\n",
    "            nn.ReLU(),\n",
    "            nn.ConvTranspose2d(64, 32, kernel_size=4, stride=2, padding=0, output_padding=1),\n",
    "            nn.ReLU(),\n",
    "            nn.ConvTranspose2d(32, 3, kernel_size=8, stride=4, padding=0),\n",
    "            nn.Tanh()\n",
    "        )\n",
    "    \n",
    "    def forward(self, x):\n",
    "        x = x.reshape(x.shape[0], 512, 1, 1)\n",
    "        x = self.cnn(x)\n",
    "        return x "
   ]
  },
  {
   "cell_type": "code",
   "execution_count": 14,
   "metadata": {},
   "outputs": [
    {
     "name": "stdout",
     "output_type": "stream",
     "text": [
      "Total params: 244448\n"
     ]
    }
   ],
   "source": [
    "class Autoencoder(nn.Module):\n",
    "    def __init__(self,\n",
    "               encoder_class : object = VisualEncoder,\n",
    "               decoder_class : object = VisualDecoder):\n",
    "        super().__init__()\n",
    "        self.encoder = encoder_class()\n",
    "        self.decoder = decoder_class()\n",
    "    def forward(self, x):\n",
    "        encode = self.encoder(x)\n",
    "        decode = self.decoder(encode)\n",
    "        return decode\n",
    "model = Autoencoder()\n",
    "model.to('cuda')\n",
    "\n",
    "total_params = sum(p.numel() for p in model.encoder.parameters() if p.requires_grad)\n",
    "print('Total params:', total_params)"
   ]
  },
  {
   "cell_type": "code",
   "execution_count": null,
   "metadata": {},
   "outputs": [
    {
     "data": {
      "text/html": [
       "Finishing last run (ID:2o94kg1v) before initializing another..."
      ],
      "text/plain": [
       "<IPython.core.display.HTML object>"
      ]
     },
     "metadata": {},
     "output_type": "display_data"
    },
    {
     "data": {
      "text/html": [
       "<br/>Waiting for W&B process to finish, PID 2768<br/>Program ended successfully."
      ],
      "text/plain": [
       "<IPython.core.display.HTML object>"
      ]
     },
     "metadata": {},
     "output_type": "display_data"
    },
    {
     "data": {
      "application/vnd.jupyter.widget-view+json": {
       "model_id": "",
       "version_major": 2,
       "version_minor": 0
      },
      "text/plain": [
       "VBox(children=(Label(value=' 0.00MB of 0.00MB uploaded (0.00MB deduped)\\r'), FloatProgress(value=1.0, max=1.0)…"
      ]
     },
     "metadata": {},
     "output_type": "display_data"
    },
    {
     "data": {
      "text/html": [
       "Find user logs for this run at: <code>/IGLU-Minecraft/wandb/run-20210918_151552-2o94kg1v/logs/debug.log</code>"
      ],
      "text/plain": [
       "<IPython.core.display.HTML object>"
      ]
     },
     "metadata": {},
     "output_type": "display_data"
    },
    {
     "data": {
      "text/html": [
       "Find internal logs for this run at: <code>/IGLU-Minecraft/wandb/run-20210918_151552-2o94kg1v/logs/debug-internal.log</code>"
      ],
      "text/plain": [
       "<IPython.core.display.HTML object>"
      ]
     },
     "metadata": {},
     "output_type": "display_data"
    },
    {
     "data": {
      "text/html": [
       "<h3>Run summary:</h3><br/><style>\n",
       "    table.wandb td:nth-child(1) { padding: 0 10px; text-align: right }\n",
       "    </style><table class=\"wandb\">\n",
       "<tr><td>train_loss</td><td>0.02454</td></tr><tr><td>val_loss</td><td>0.02426</td></tr></table>"
      ],
      "text/plain": [
       "<IPython.core.display.HTML object>"
      ]
     },
     "metadata": {},
     "output_type": "display_data"
    },
    {
     "data": {
      "text/html": [
       "<h3>Run history:</h3><br/><style>\n",
       "    table.wandb td:nth-child(1) { padding: 0 10px; text-align: right }\n",
       "    </style><table class=\"wandb\">\n",
       "<tr><td>train_loss</td><td>█▂▂▁▁▁▁▁</td></tr><tr><td>val_loss</td><td>█▄▃▃▂▂▁▁</td></tr></table><br/>"
      ],
      "text/plain": [
       "<IPython.core.display.HTML object>"
      ]
     },
     "metadata": {},
     "output_type": "display_data"
    },
    {
     "data": {
      "text/html": [
       "Synced 6 W&B file(s), 0 media file(s), 0 artifact file(s) and 0 other file(s)"
      ],
      "text/plain": [
       "<IPython.core.display.HTML object>"
      ]
     },
     "metadata": {},
     "output_type": "display_data"
    },
    {
     "data": {
      "text/html": [
       "\n",
       "                    <br/>Synced <strong style=\"color:#cdcd00\">AnnaCNN</strong>: <a href=\"https://wandb.ai/neuro_ai/AutoEncoder/runs/2o94kg1v\" target=\"_blank\">https://wandb.ai/neuro_ai/AutoEncoder/runs/2o94kg1v</a><br/>\n",
       "                "
      ],
      "text/plain": [
       "<IPython.core.display.HTML object>"
      ]
     },
     "metadata": {},
     "output_type": "display_data"
    },
    {
     "data": {
      "text/html": [
       "...Successfully finished last run (ID:2o94kg1v). Initializing new run:<br/><br/>"
      ],
      "text/plain": [
       "<IPython.core.display.HTML object>"
      ]
     },
     "metadata": {},
     "output_type": "display_data"
    },
    {
     "data": {
      "text/html": [
       "\n",
       "                Tracking run with wandb version 0.12.2<br/>\n",
       "                Syncing run <strong style=\"color:#cdcd00\">AnnaCNN</strong> to <a href=\"https://wandb.ai\" target=\"_blank\">Weights & Biases</a> <a href=\"https://docs.wandb.com/integrations/jupyter.html\" target=\"_blank\">(Documentation)</a>.<br/>\n",
       "                Project page: <a href=\"https://wandb.ai/neuro_ai/AutoEncoder\" target=\"_blank\">https://wandb.ai/neuro_ai/AutoEncoder</a><br/>\n",
       "                Run page: <a href=\"https://wandb.ai/neuro_ai/AutoEncoder/runs/1hsk99if\" target=\"_blank\">https://wandb.ai/neuro_ai/AutoEncoder/runs/1hsk99if</a><br/>\n",
       "                Run data is saved locally in <code>/IGLU-Minecraft/wandb/run-20210918_151713-1hsk99if</code><br/><br/>\n",
       "            "
      ],
      "text/plain": [
       "<IPython.core.display.HTML object>"
      ]
     },
     "metadata": {},
     "output_type": "display_data"
    }
   ],
   "source": [
    "config_defaults = {\n",
    "    'epochs': 100,\n",
    "    'batch_size': 1024,\n",
    "    'learning_rate': 1e-3,\n",
    "    'optimizer': 'adam',\n",
    "    'scheduler_step_size': 30,\n",
    "    'scheduler_gamma': 0.5\n",
    "}\n",
    "\n",
    "wandb.init(project='AutoEncoder', entity='neuro_ai', name='AnnaCNN', config=config_defaults)\n",
    "config = wandb.config\n",
    "optimizer = optim.Adam(model.parameters(), config.learning_rate)\n",
    "criterion = torch.nn.MSELoss()\n",
    "scheduler = torch.optim.lr_scheduler.StepLR(optimizer, \n",
    "                                            step_size=config.scheduler_step_size, \n",
    "                                            gamma=config.scheduler_gamma)\n",
    "\n",
    "for epoch in range(config.epochs):\n",
    "    #train\n",
    "    model.train()\n",
    "    train_loss = []\n",
    "    for data in train_loader:\n",
    "        data /= 255\n",
    "        data = data.to('cuda')\n",
    "        predict = model(data)\n",
    "        loss = criterion(predict, data)    \n",
    "        optimizer.zero_grad()\n",
    "        loss.backward()\n",
    "        optimizer.step()\n",
    "        train_loss.append(loss.item())\n",
    "    train_loss = np.array(train_loss).mean()\n",
    "    \n",
    "    #evaluate\n",
    "    model.eval()\n",
    "    val_loss = []\n",
    "    for data in val_loader:\n",
    "        data /= 255\n",
    "        data = data.to('cuda')\n",
    "        predict = model(data)\n",
    "        loss = criterion(predict, data)\n",
    "        val_loss.append(loss.item())\n",
    "    val_loss = np.array(val_loss).mean()\n",
    "    scheduler.step()\n",
    "    wandb.log({\"train_loss\":train_loss, 'val_loss': val_loss})"
   ]
  },
  {
   "cell_type": "code",
   "execution_count": 16,
   "metadata": {},
   "outputs": [],
   "source": [
    "torch.save(model.encoder.state_dict(), 'models/AnnaCNN/encoder_weigths.pth')\n",
    "torch.save(model.decoder.state_dict(), 'models/AnnaCNN/decoder_weigths.pth')"
   ]
  },
  {
   "cell_type": "markdown",
   "metadata": {},
   "source": [
    "##  AlinaCNN "
   ]
  },
  {
   "cell_type": "code",
   "execution_count": 17,
   "metadata": {},
   "outputs": [],
   "source": [
    "class VisualEncoder(nn.Module):\n",
    "    def __init__(self):\n",
    "        super().__init__()\n",
    "\n",
    "        self.cnn = nn.Sequential(\n",
    "            nn.Conv2d(3, 32, kernel_size=8, stride=4, padding=0),  \n",
    "            nn.ReLU(),\n",
    "            nn.Conv2d(32, 64, kernel_size=4, stride=2, padding=0), \n",
    "            nn.ReLU(),\n",
    "            nn.Conv2d(64, 64, kernel_size=3, stride=1, padding=0), \n",
    "            nn.ReLU(),\n",
    "            nn.Conv2d(64, 64, kernel_size=3, stride=1, padding=0),\n",
    "            nn.ReLU(), \n",
    "            nn.Conv2d(64, 64, kernel_size=2, stride=1, padding=0),\n",
    "            nn.ReLU(),\n",
    "            nn.Flatten(),\n",
    "        )\n",
    "\n",
    "    def forward(self, x):\n",
    "        return self.cnn(x)\n",
    "\n",
    "class VisualDecoder(nn.Module):\n",
    "    def __init__(self):\n",
    "        super().__init__()\n",
    "\n",
    "        self.cnn = nn.Sequential(\n",
    "            nn.ConvTranspose2d(64, 64, kernel_size=2, stride=1, padding=0),\n",
    "            nn.ReLU(),\n",
    "            nn.ConvTranspose2d(64, 64, kernel_size=3, stride=1, padding=0),\n",
    "            nn.ReLU(),\n",
    "            nn.ConvTranspose2d(64, 64, kernel_size=3, stride=1, padding=0),\n",
    "            nn.ReLU(),\n",
    "            nn.ConvTranspose2d(64, 32, kernel_size=4, stride=2, padding=0, output_padding=1),\n",
    "            nn.ReLU(),\n",
    "            nn.ConvTranspose2d(32, 3, kernel_size=8, stride=4, padding=0),\n",
    "            nn.Tanh()\n",
    "        )\n",
    "    \n",
    "    def forward(self, x):\n",
    "        x = x.reshape(x.shape[0], 64, 1, 1)\n",
    "        x = self.cnn(x)\n",
    "        return x "
   ]
  },
  {
   "cell_type": "code",
   "execution_count": 21,
   "metadata": {},
   "outputs": [
    {
     "name": "stdout",
     "output_type": "stream",
     "text": [
      "Total params: 129312\n"
     ]
    }
   ],
   "source": [
    "class Autoencoder(nn.Module):\n",
    "    def __init__(self,\n",
    "               encoder_class : object = VisualEncoder,\n",
    "               decoder_class : object = VisualDecoder):\n",
    "        super().__init__()\n",
    "        self.encoder = encoder_class()\n",
    "        self.decoder = decoder_class()\n",
    "    def forward(self, x):\n",
    "        encode = self.encoder(x)\n",
    "        decode = self.decoder(encode)\n",
    "        return decode\n",
    "model = Autoencoder()\n",
    "model.to('cuda')\n",
    "\n",
    "total_params = sum(p.numel() for p in model.encoder.parameters() if p.requires_grad)\n",
    "print('Total params:', total_params)"
   ]
  },
  {
   "cell_type": "code",
   "execution_count": 22,
   "metadata": {},
   "outputs": [
    {
     "data": {
      "text/html": [
       "Finishing last run (ID:3c7cxexp) before initializing another..."
      ],
      "text/plain": [
       "<IPython.core.display.HTML object>"
      ]
     },
     "metadata": {},
     "output_type": "display_data"
    },
    {
     "data": {
      "text/html": [
       "<br/>Waiting for W&B process to finish, PID 19367<br/>Program ended successfully."
      ],
      "text/plain": [
       "<IPython.core.display.HTML object>"
      ]
     },
     "metadata": {},
     "output_type": "display_data"
    },
    {
     "data": {
      "application/vnd.jupyter.widget-view+json": {
       "model_id": "",
       "version_major": 2,
       "version_minor": 0
      },
      "text/plain": [
       "VBox(children=(Label(value=' 0.00MB of 0.00MB uploaded (0.00MB deduped)\\r'), FloatProgress(value=1.0, max=1.0)…"
      ]
     },
     "metadata": {},
     "output_type": "display_data"
    },
    {
     "data": {
      "text/html": [
       "Find user logs for this run at: <code>/IGLU-Minecraft/wandb/run-20210918_160147-3c7cxexp/logs/debug.log</code>"
      ],
      "text/plain": [
       "<IPython.core.display.HTML object>"
      ]
     },
     "metadata": {},
     "output_type": "display_data"
    },
    {
     "data": {
      "text/html": [
       "Find internal logs for this run at: <code>/IGLU-Minecraft/wandb/run-20210918_160147-3c7cxexp/logs/debug-internal.log</code>"
      ],
      "text/plain": [
       "<IPython.core.display.HTML object>"
      ]
     },
     "metadata": {},
     "output_type": "display_data"
    },
    {
     "data": {
      "text/html": [
       "<h3>Run summary:</h3><br/><style>\n",
       "    table.wandb td:nth-child(1) { padding: 0 10px; text-align: right }\n",
       "    </style><table class=\"wandb\">\n",
       "<tr><td>train_loss</td><td>0.0223</td></tr><tr><td>val_loss</td><td>0.02246</td></tr></table>"
      ],
      "text/plain": [
       "<IPython.core.display.HTML object>"
      ]
     },
     "metadata": {},
     "output_type": "display_data"
    },
    {
     "data": {
      "text/html": [
       "<h3>Run history:</h3><br/><style>\n",
       "    table.wandb td:nth-child(1) { padding: 0 10px; text-align: right }\n",
       "    </style><table class=\"wandb\">\n",
       "<tr><td>train_loss</td><td>█▂▂▁▁▁▁▁▁▁▁▁▁▁▁▁▁▁▁▁▁▁▁▁▁▁▁▁▁▁▁▁▁▁▁▁▁▁▁▁</td></tr><tr><td>val_loss</td><td>█▄▃▃▂▂▂▂▂▁▁▁▁▁▁▁▁▁▁▁▁▁▁▁▁▁▁▁▁▁▁▁▁▁▁▁▁▁▁▁</td></tr></table><br/>"
      ],
      "text/plain": [
       "<IPython.core.display.HTML object>"
      ]
     },
     "metadata": {},
     "output_type": "display_data"
    },
    {
     "data": {
      "text/html": [
       "Synced 6 W&B file(s), 0 media file(s), 0 artifact file(s) and 0 other file(s)"
      ],
      "text/plain": [
       "<IPython.core.display.HTML object>"
      ]
     },
     "metadata": {},
     "output_type": "display_data"
    },
    {
     "data": {
      "text/html": [
       "\n",
       "                    <br/>Synced <strong style=\"color:#cdcd00\">AlinaCNN</strong>: <a href=\"https://wandb.ai/neuro_ai/AutoEncoder/runs/3c7cxexp\" target=\"_blank\">https://wandb.ai/neuro_ai/AutoEncoder/runs/3c7cxexp</a><br/>\n",
       "                "
      ],
      "text/plain": [
       "<IPython.core.display.HTML object>"
      ]
     },
     "metadata": {},
     "output_type": "display_data"
    },
    {
     "data": {
      "text/html": [
       "...Successfully finished last run (ID:3c7cxexp). Initializing new run:<br/><br/>"
      ],
      "text/plain": [
       "<IPython.core.display.HTML object>"
      ]
     },
     "metadata": {},
     "output_type": "display_data"
    },
    {
     "data": {
      "text/html": [
       "\n",
       "                Tracking run with wandb version 0.12.2<br/>\n",
       "                Syncing run <strong style=\"color:#cdcd00\">AlinaCNN</strong> to <a href=\"https://wandb.ai\" target=\"_blank\">Weights & Biases</a> <a href=\"https://docs.wandb.com/integrations/jupyter.html\" target=\"_blank\">(Documentation)</a>.<br/>\n",
       "                Project page: <a href=\"https://wandb.ai/neuro_ai/AutoEncoder\" target=\"_blank\">https://wandb.ai/neuro_ai/AutoEncoder</a><br/>\n",
       "                Run page: <a href=\"https://wandb.ai/neuro_ai/AutoEncoder/runs/sjto2cuc\" target=\"_blank\">https://wandb.ai/neuro_ai/AutoEncoder/runs/sjto2cuc</a><br/>\n",
       "                Run data is saved locally in <code>/IGLU-Minecraft/wandb/run-20210918_162311-sjto2cuc</code><br/><br/>\n",
       "            "
      ],
      "text/plain": [
       "<IPython.core.display.HTML object>"
      ]
     },
     "metadata": {},
     "output_type": "display_data"
    }
   ],
   "source": [
    "config_defaults = {\n",
    "    'epochs': 100,\n",
    "    'batch_size': 1024,\n",
    "    'learning_rate': 1e-3,\n",
    "    'optimizer': 'adam',\n",
    "    'scheduler_step_size': 30,\n",
    "    'scheduler_gamma': 0.5\n",
    "}\n",
    "\n",
    "wandb.init(project='AutoEncoder', entity='neuro_ai', name='AlinaCNN', config=config_defaults)\n",
    "config = wandb.config\n",
    "optimizer = optim.Adam(model.parameters(), config.learning_rate)\n",
    "criterion = torch.nn.MSELoss()\n",
    "scheduler = torch.optim.lr_scheduler.StepLR(optimizer, \n",
    "                                            step_size=config.scheduler_step_size, \n",
    "                                            gamma=config.scheduler_gamma)\n",
    "\n",
    "for epoch in range(config.epochs):\n",
    "    #train\n",
    "    model.train()\n",
    "    train_loss = []\n",
    "    for data in train_loader:\n",
    "        data /= 255\n",
    "        data = data.to('cuda')\n",
    "        predict = model(data)\n",
    "        loss = criterion(predict, data)    \n",
    "        optimizer.zero_grad()\n",
    "        loss.backward()\n",
    "        optimizer.step()\n",
    "        train_loss.append(loss.item())\n",
    "    train_loss = np.array(train_loss).mean()\n",
    "    \n",
    "    #evaluate\n",
    "    model.eval()\n",
    "    val_loss = []\n",
    "    for data in val_loader:\n",
    "        data /= 255\n",
    "        data = data.to('cuda')\n",
    "        predict = model(data)\n",
    "        loss = criterion(predict, data)\n",
    "        val_loss.append(loss.item())\n",
    "    val_loss = np.array(val_loss).mean()\n",
    "    scheduler.step()\n",
    "    wandb.log({\"train_loss\":train_loss, 'val_loss': val_loss})"
   ]
  },
  {
   "cell_type": "code",
   "execution_count": 23,
   "metadata": {},
   "outputs": [],
   "source": [
    "torch.save(model.encoder.state_dict(), 'models/AlinaCNN/encoder_weigths.pth')\n",
    "torch.save(model.decoder.state_dict(), 'models/AlinaCNN/decoder_weigths.pth')"
   ]
  },
  {
   "cell_type": "markdown",
   "metadata": {},
   "source": [
    "##  AnnaSoftCNN "
   ]
  },
  {
   "cell_type": "code",
   "execution_count": 4,
   "metadata": {},
   "outputs": [
    {
     "name": "stdout",
     "output_type": "stream",
     "text": [
      "Total params: 244448\n"
     ]
    },
    {
     "name": "stderr",
     "output_type": "stream",
     "text": [
      "\u001b[34m\u001b[1mwandb\u001b[0m: Currently logged in as: \u001b[33mlinar\u001b[0m (use `wandb login --relogin` to force relogin)\n",
      "\u001b[34m\u001b[1mwandb\u001b[0m: wandb version 0.12.4 is available!  To upgrade, please run:\n",
      "\u001b[34m\u001b[1mwandb\u001b[0m:  $ pip install wandb --upgrade\n"
     ]
    },
    {
     "data": {
      "text/html": [
       "\n",
       "                Tracking run with wandb version 0.12.2<br/>\n",
       "                Syncing run <strong style=\"color:#cdcd00\">AnnaSoftCNN</strong> to <a href=\"https://wandb.ai\" target=\"_blank\">Weights & Biases</a> <a href=\"https://docs.wandb.com/integrations/jupyter.html\" target=\"_blank\">(Documentation)</a>.<br/>\n",
       "                Project page: <a href=\"https://wandb.ai/neuro_ai/AutoEncoder\" target=\"_blank\">https://wandb.ai/neuro_ai/AutoEncoder</a><br/>\n",
       "                Run page: <a href=\"https://wandb.ai/neuro_ai/AutoEncoder/runs/3k31dbtz\" target=\"_blank\">https://wandb.ai/neuro_ai/AutoEncoder/runs/3k31dbtz</a><br/>\n",
       "                Run data is saved locally in <code>/IGLU-Minecraft/wandb/run-20211008_133811-3k31dbtz</code><br/><br/>\n",
       "            "
      ],
      "text/plain": [
       "<IPython.core.display.HTML object>"
      ]
     },
     "metadata": {},
     "output_type": "display_data"
    },
    {
     "ename": "FileNotFoundError",
     "evalue": "[Errno 2] No such file or directory: 'models/AnnaSoftCNN/encoder_weigths.pth'",
     "output_type": "error",
     "traceback": [
      "\u001b[0;31m---------------------------------------------------------------------------\u001b[0m",
      "\u001b[0;31mFileNotFoundError\u001b[0m                         Traceback (most recent call last)",
      "\u001b[0;32m/tmp/ipykernel_42/2658294168.py\u001b[0m in \u001b[0;36m<module>\u001b[0;34m\u001b[0m\n\u001b[1;32m    105\u001b[0m     \u001b[0mwandb\u001b[0m\u001b[0;34m.\u001b[0m\u001b[0mlog\u001b[0m\u001b[0;34m(\u001b[0m\u001b[0;34m{\u001b[0m\u001b[0;34m\"train_loss\"\u001b[0m\u001b[0;34m:\u001b[0m\u001b[0mtrain_loss\u001b[0m\u001b[0;34m,\u001b[0m \u001b[0;34m'val_loss'\u001b[0m\u001b[0;34m:\u001b[0m \u001b[0mval_loss\u001b[0m\u001b[0;34m}\u001b[0m\u001b[0;34m)\u001b[0m\u001b[0;34m\u001b[0m\u001b[0;34m\u001b[0m\u001b[0m\n\u001b[1;32m    106\u001b[0m \u001b[0;34m\u001b[0m\u001b[0m\n\u001b[0;32m--> 107\u001b[0;31m \u001b[0mtorch\u001b[0m\u001b[0;34m.\u001b[0m\u001b[0msave\u001b[0m\u001b[0;34m(\u001b[0m\u001b[0mmodel\u001b[0m\u001b[0;34m.\u001b[0m\u001b[0mencoder\u001b[0m\u001b[0;34m.\u001b[0m\u001b[0mstate_dict\u001b[0m\u001b[0;34m(\u001b[0m\u001b[0;34m)\u001b[0m\u001b[0;34m,\u001b[0m \u001b[0;34m'models/AnnaSoftCNN/encoder_weigths.pth'\u001b[0m\u001b[0;34m)\u001b[0m\u001b[0;34m\u001b[0m\u001b[0;34m\u001b[0m\u001b[0m\n\u001b[0m\u001b[1;32m    108\u001b[0m \u001b[0mtorch\u001b[0m\u001b[0;34m.\u001b[0m\u001b[0msave\u001b[0m\u001b[0;34m(\u001b[0m\u001b[0mmodel\u001b[0m\u001b[0;34m.\u001b[0m\u001b[0mdecoder\u001b[0m\u001b[0;34m.\u001b[0m\u001b[0mstate_dict\u001b[0m\u001b[0;34m(\u001b[0m\u001b[0;34m)\u001b[0m\u001b[0;34m,\u001b[0m \u001b[0;34m'models/AnnaSoftCNN/decoder_weigths.pth'\u001b[0m\u001b[0;34m)\u001b[0m\u001b[0;34m\u001b[0m\u001b[0;34m\u001b[0m\u001b[0m\n",
      "\u001b[0;32m~/miniconda/envs/py37/lib/python3.7/site-packages/torch/serialization.py\u001b[0m in \u001b[0;36msave\u001b[0;34m(obj, f, pickle_module, pickle_protocol, _use_new_zipfile_serialization)\u001b[0m\n\u001b[1;32m    374\u001b[0m     \u001b[0m_check_dill_version\u001b[0m\u001b[0;34m(\u001b[0m\u001b[0mpickle_module\u001b[0m\u001b[0;34m)\u001b[0m\u001b[0;34m\u001b[0m\u001b[0;34m\u001b[0m\u001b[0m\n\u001b[1;32m    375\u001b[0m \u001b[0;34m\u001b[0m\u001b[0m\n\u001b[0;32m--> 376\u001b[0;31m     \u001b[0;32mwith\u001b[0m \u001b[0m_open_file_like\u001b[0m\u001b[0;34m(\u001b[0m\u001b[0mf\u001b[0m\u001b[0;34m,\u001b[0m \u001b[0;34m'wb'\u001b[0m\u001b[0;34m)\u001b[0m \u001b[0;32mas\u001b[0m \u001b[0mopened_file\u001b[0m\u001b[0;34m:\u001b[0m\u001b[0;34m\u001b[0m\u001b[0;34m\u001b[0m\u001b[0m\n\u001b[0m\u001b[1;32m    377\u001b[0m         \u001b[0;32mif\u001b[0m \u001b[0m_use_new_zipfile_serialization\u001b[0m\u001b[0;34m:\u001b[0m\u001b[0;34m\u001b[0m\u001b[0;34m\u001b[0m\u001b[0m\n\u001b[1;32m    378\u001b[0m             \u001b[0;32mwith\u001b[0m \u001b[0m_open_zipfile_writer\u001b[0m\u001b[0;34m(\u001b[0m\u001b[0mopened_file\u001b[0m\u001b[0;34m)\u001b[0m \u001b[0;32mas\u001b[0m \u001b[0mopened_zipfile\u001b[0m\u001b[0;34m:\u001b[0m\u001b[0;34m\u001b[0m\u001b[0;34m\u001b[0m\u001b[0m\n",
      "\u001b[0;32m~/miniconda/envs/py37/lib/python3.7/site-packages/torch/serialization.py\u001b[0m in \u001b[0;36m_open_file_like\u001b[0;34m(name_or_buffer, mode)\u001b[0m\n\u001b[1;32m    228\u001b[0m \u001b[0;32mdef\u001b[0m \u001b[0m_open_file_like\u001b[0m\u001b[0;34m(\u001b[0m\u001b[0mname_or_buffer\u001b[0m\u001b[0;34m,\u001b[0m \u001b[0mmode\u001b[0m\u001b[0;34m)\u001b[0m\u001b[0;34m:\u001b[0m\u001b[0;34m\u001b[0m\u001b[0;34m\u001b[0m\u001b[0m\n\u001b[1;32m    229\u001b[0m     \u001b[0;32mif\u001b[0m \u001b[0m_is_path\u001b[0m\u001b[0;34m(\u001b[0m\u001b[0mname_or_buffer\u001b[0m\u001b[0;34m)\u001b[0m\u001b[0;34m:\u001b[0m\u001b[0;34m\u001b[0m\u001b[0;34m\u001b[0m\u001b[0m\n\u001b[0;32m--> 230\u001b[0;31m         \u001b[0;32mreturn\u001b[0m \u001b[0m_open_file\u001b[0m\u001b[0;34m(\u001b[0m\u001b[0mname_or_buffer\u001b[0m\u001b[0;34m,\u001b[0m \u001b[0mmode\u001b[0m\u001b[0;34m)\u001b[0m\u001b[0;34m\u001b[0m\u001b[0;34m\u001b[0m\u001b[0m\n\u001b[0m\u001b[1;32m    231\u001b[0m     \u001b[0;32melse\u001b[0m\u001b[0;34m:\u001b[0m\u001b[0;34m\u001b[0m\u001b[0;34m\u001b[0m\u001b[0m\n\u001b[1;32m    232\u001b[0m         \u001b[0;32mif\u001b[0m \u001b[0;34m'w'\u001b[0m \u001b[0;32min\u001b[0m \u001b[0mmode\u001b[0m\u001b[0;34m:\u001b[0m\u001b[0;34m\u001b[0m\u001b[0;34m\u001b[0m\u001b[0m\n",
      "\u001b[0;32m~/miniconda/envs/py37/lib/python3.7/site-packages/torch/serialization.py\u001b[0m in \u001b[0;36m__init__\u001b[0;34m(self, name, mode)\u001b[0m\n\u001b[1;32m    209\u001b[0m \u001b[0;32mclass\u001b[0m \u001b[0m_open_file\u001b[0m\u001b[0;34m(\u001b[0m\u001b[0m_opener\u001b[0m\u001b[0;34m)\u001b[0m\u001b[0;34m:\u001b[0m\u001b[0;34m\u001b[0m\u001b[0;34m\u001b[0m\u001b[0m\n\u001b[1;32m    210\u001b[0m     \u001b[0;32mdef\u001b[0m \u001b[0m__init__\u001b[0m\u001b[0;34m(\u001b[0m\u001b[0mself\u001b[0m\u001b[0;34m,\u001b[0m \u001b[0mname\u001b[0m\u001b[0;34m,\u001b[0m \u001b[0mmode\u001b[0m\u001b[0;34m)\u001b[0m\u001b[0;34m:\u001b[0m\u001b[0;34m\u001b[0m\u001b[0;34m\u001b[0m\u001b[0m\n\u001b[0;32m--> 211\u001b[0;31m         \u001b[0msuper\u001b[0m\u001b[0;34m(\u001b[0m\u001b[0m_open_file\u001b[0m\u001b[0;34m,\u001b[0m \u001b[0mself\u001b[0m\u001b[0;34m)\u001b[0m\u001b[0;34m.\u001b[0m\u001b[0m__init__\u001b[0m\u001b[0;34m(\u001b[0m\u001b[0mopen\u001b[0m\u001b[0;34m(\u001b[0m\u001b[0mname\u001b[0m\u001b[0;34m,\u001b[0m \u001b[0mmode\u001b[0m\u001b[0;34m)\u001b[0m\u001b[0;34m)\u001b[0m\u001b[0;34m\u001b[0m\u001b[0;34m\u001b[0m\u001b[0m\n\u001b[0m\u001b[1;32m    212\u001b[0m \u001b[0;34m\u001b[0m\u001b[0m\n\u001b[1;32m    213\u001b[0m     \u001b[0;32mdef\u001b[0m \u001b[0m__exit__\u001b[0m\u001b[0;34m(\u001b[0m\u001b[0mself\u001b[0m\u001b[0;34m,\u001b[0m \u001b[0;34m*\u001b[0m\u001b[0margs\u001b[0m\u001b[0;34m)\u001b[0m\u001b[0;34m:\u001b[0m\u001b[0;34m\u001b[0m\u001b[0;34m\u001b[0m\u001b[0m\n",
      "\u001b[0;31mFileNotFoundError\u001b[0m: [Errno 2] No such file or directory: 'models/AnnaSoftCNN/encoder_weigths.pth'"
     ]
    }
   ],
   "source": [
    "class VisualEncoder(nn.Module):\n",
    "    def __init__(self):\n",
    "        super().__init__()\n",
    "\n",
    "        self.cnn = nn.Sequential(\n",
    "            nn.Conv2d(3, 32, kernel_size=8, stride=4, padding=0),  \n",
    "            nn.ELU(),\n",
    "            nn.Conv2d(32, 64, kernel_size=4, stride=2, padding=0), \n",
    "            nn.ELU(),\n",
    "            nn.Conv2d(64, 64, kernel_size=3, stride=1, padding=0), \n",
    "            nn.ELU(),\n",
    "            nn.Conv2d(64, 64, kernel_size=3, stride=1, padding=0),\n",
    "            nn.ELU(), \n",
    "            nn.Conv2d(64, 512, kernel_size=2, stride=1, padding=0),\n",
    "            nn.ELU(),\n",
    "            nn.Flatten(),\n",
    "        )\n",
    "\n",
    "    def forward(self, x):\n",
    "        return self.cnn(x)\n",
    "\n",
    "class VisualDecoder(nn.Module):\n",
    "    def __init__(self):\n",
    "        super().__init__()\n",
    "\n",
    "        self.cnn = nn.Sequential(\n",
    "            nn.ConvTranspose2d(512, 64, kernel_size=2, stride=1, padding=0),\n",
    "            nn.ELU(),\n",
    "            nn.ConvTranspose2d(64, 64, kernel_size=3, stride=1, padding=0),\n",
    "            nn.ELU(),\n",
    "            nn.ConvTranspose2d(64, 64, kernel_size=3, stride=1, padding=0),\n",
    "            nn.ELU(),\n",
    "            nn.ConvTranspose2d(64, 32, kernel_size=4, stride=2, padding=0, output_padding=1),\n",
    "            nn.ELU(),\n",
    "            nn.ConvTranspose2d(32, 3, kernel_size=8, stride=4, padding=0),\n",
    "            nn.Sigmoid()\n",
    "        )\n",
    "    \n",
    "    def forward(self, x):\n",
    "        x = x.reshape(x.shape[0], 512, 1, 1)\n",
    "        x = self.cnn(x)\n",
    "        return x \n",
    "\n",
    "class Autoencoder(nn.Module):\n",
    "    def __init__(self,\n",
    "               encoder_class : object = VisualEncoder,\n",
    "               decoder_class : object = VisualDecoder):\n",
    "        super().__init__()\n",
    "        self.encoder = encoder_class()\n",
    "        self.decoder = decoder_class()\n",
    "    def forward(self, x):\n",
    "        encode = self.encoder(x)\n",
    "        decode = self.decoder(encode)\n",
    "        return decode\n",
    "    \n",
    "model = Autoencoder()\n",
    "model.to('cuda')\n",
    "\n",
    "total_params = sum(p.numel() for p in model.encoder.parameters() if p.requires_grad)\n",
    "print('Total params:', total_params)\n",
    "\n",
    "config_defaults = {\n",
    "    'epochs': 100,\n",
    "    'batch_size': 1024,\n",
    "    'learning_rate': 1e-3,\n",
    "    'optimizer': 'adam',\n",
    "    'scheduler_step_size': 30,\n",
    "    'scheduler_gamma': 0.5\n",
    "}\n",
    "\n",
    "wandb.init(project='AutoEncoder', entity='neuro_ai', name='AnnaSoftCNN', config=config_defaults)\n",
    "config = wandb.config\n",
    "optimizer = optim.Adam(model.parameters(), config.learning_rate)\n",
    "criterion = torch.nn.MSELoss()\n",
    "scheduler = torch.optim.lr_scheduler.StepLR(optimizer, \n",
    "                                            step_size=config.scheduler_step_size, \n",
    "                                            gamma=config.scheduler_gamma)\n",
    "\n",
    "for epoch in range(config.epochs):\n",
    "    #train\n",
    "    model.train()\n",
    "    train_loss = []\n",
    "    for data in train_loader:\n",
    "        data /= 255\n",
    "        data = data.to('cuda')\n",
    "        predict = model(data)\n",
    "        loss = criterion(predict, data)    \n",
    "        optimizer.zero_grad()\n",
    "        loss.backward()\n",
    "        optimizer.step()\n",
    "        train_loss.append(loss.item())\n",
    "    train_loss = np.array(train_loss).mean()\n",
    "    \n",
    "    #evaluate\n",
    "    model.eval()\n",
    "    val_loss = []\n",
    "    for data in val_loader:\n",
    "        data /= 255\n",
    "        data = data.to('cuda')\n",
    "        predict = model(data)\n",
    "        loss = criterion(predict, data)\n",
    "        val_loss.append(loss.item())\n",
    "    val_loss = np.array(val_loss).mean()\n",
    "    scheduler.step()\n",
    "    wandb.log({\"train_loss\":train_loss, 'val_loss': val_loss})\n",
    "\n",
    "torch.save(model.encoder.state_dict(), 'models/AnnaSoftCNN/encoder_weigths.pth')\n",
    "torch.save(model.decoder.state_dict(), 'models/AnnaSoftCNN/decoder_weigths.pth')"
   ]
  },
  {
   "cell_type": "code",
   "execution_count": 5,
   "metadata": {},
   "outputs": [],
   "source": [
    "torch.save(model.encoder.state_dict(), 'models/AnnaSoftCNN/encoder_weigths.pth')\n",
    "torch.save(model.decoder.state_dict(), 'models/AnnaSoftCNN/decoder_weigths.pth')"
   ]
  },
  {
   "cell_type": "code",
   "execution_count": 35,
   "metadata": {},
   "outputs": [],
   "source": [
    "def plot_tensor(tensor):\n",
    "    plt.imshow(tensor.permute(1, 2, 0))"
   ]
  },
  {
   "cell_type": "code",
   "execution_count": 40,
   "metadata": {},
   "outputs": [
    {
     "data": {
      "image/png": "[encoded data removed]",
      "text/plain": [
       "<Figure size 432x288 with 1 Axes>"
      ]
     },
     "metadata": {
      "needs_background": "light"
     },
     "output_type": "display_data"
    }
   ],
   "source": [
    "model.cpu()\n",
    "for data in train_loader:\n",
    "    tensor_image = data[2,:,:,:] / 255.\n",
    "    plot_tensor(tensor_image)\n",
    "    break"
   ]
  },
  {
   "cell_type": "code",
   "execution_count": 41,
   "metadata": {},
   "outputs": [
    {
     "data": {
      "image/png": "[encoded data removed]",
      "text/plain": [
       "<Figure size 432x288 with 1 Axes>"
      ]
     },
     "metadata": {
      "needs_background": "light"
     },
     "output_type": "display_data"
    }
   ],
   "source": [
    "plot_tensor(model(tensor_image[None,:]).detach()[0])"
   ]
  },
  {
   "cell_type": "code",
   "execution_count": null,
   "metadata": {},
   "outputs": [],
   "source": []
  },
  {
   "cell_type": "markdown",
   "metadata": {},
   "source": [
    "## AliceCNN"
   ]
  },
  {
   "cell_type": "code",
   "execution_count": 42,
   "metadata": {},
   "outputs": [
    {
     "name": "stdout",
     "output_type": "stream",
     "text": [
      "Total params: 1457632\n"
     ]
    },
    {
     "data": {
      "text/html": [
       "Finishing last run (ID:3k31dbtz) before initializing another..."
      ],
      "text/plain": [
       "<IPython.core.display.HTML object>"
      ]
     },
     "metadata": {},
     "output_type": "display_data"
    },
    {
     "data": {
      "text/html": [
       "<br/>Waiting for W&B process to finish, PID 82<br/>Program ended successfully."
      ],
      "text/plain": [
       "<IPython.core.display.HTML object>"
      ]
     },
     "metadata": {},
     "output_type": "display_data"
    },
    {
     "data": {
      "application/vnd.jupyter.widget-view+json": {
       "model_id": "",
       "version_major": 2,
       "version_minor": 0
      },
      "text/plain": [
       "VBox(children=(Label(value=' 0.00MB of 0.00MB uploaded (0.00MB deduped)\\r'), FloatProgress(value=1.0, max=1.0)…"
      ]
     },
     "metadata": {},
     "output_type": "display_data"
    },
    {
     "data": {
      "text/html": [
       "Find user logs for this run at: <code>/IGLU-Minecraft/wandb/run-20211008_133811-3k31dbtz/logs/debug.log</code>"
      ],
      "text/plain": [
       "<IPython.core.display.HTML object>"
      ]
     },
     "metadata": {},
     "output_type": "display_data"
    },
    {
     "data": {
      "text/html": [
       "Find internal logs for this run at: <code>/IGLU-Minecraft/wandb/run-20211008_133811-3k31dbtz/logs/debug-internal.log</code>"
      ],
      "text/plain": [
       "<IPython.core.display.HTML object>"
      ]
     },
     "metadata": {},
     "output_type": "display_data"
    },
    {
     "data": {
      "text/html": [
       "<h3>Run summary:</h3><br/><style>\n",
       "    table.wandb td:nth-child(1) { padding: 0 10px; text-align: right }\n",
       "    </style><table class=\"wandb\">\n",
       "<tr><td>train_loss</td><td>0.01532</td></tr><tr><td>val_loss</td><td>0.01536</td></tr></table>"
      ],
      "text/plain": [
       "<IPython.core.display.HTML object>"
      ]
     },
     "metadata": {},
     "output_type": "display_data"
    },
    {
     "data": {
      "text/html": [
       "<h3>Run history:</h3><br/><style>\n",
       "    table.wandb td:nth-child(1) { padding: 0 10px; text-align: right }\n",
       "    </style><table class=\"wandb\">\n",
       "<tr><td>train_loss</td><td>█▃▂▂▂▂▂▂▁▁▁▁▁▁▁▁▁▁▁▁▁▁▁▁▁▁▁▁▁▁▁▁▁▁▁▁▁▁▁▁</td></tr><tr><td>val_loss</td><td>█▅▄▃▃▂▂▂▂▂▂▂▁▁▁▁▁▁▁▁▁▁▁▁▁▁▁▁▁▁▁▁▁▁▁▁▁▁▁▁</td></tr></table><br/>"
      ],
      "text/plain": [
       "<IPython.core.display.HTML object>"
      ]
     },
     "metadata": {},
     "output_type": "display_data"
    },
    {
     "data": {
      "text/html": [
       "Synced 6 W&B file(s), 0 media file(s), 0 artifact file(s) and 0 other file(s)"
      ],
      "text/plain": [
       "<IPython.core.display.HTML object>"
      ]
     },
     "metadata": {},
     "output_type": "display_data"
    },
    {
     "data": {
      "text/html": [
       "\n",
       "                    <br/>Synced <strong style=\"color:#cdcd00\">AnnaSoftCNN</strong>: <a href=\"https://wandb.ai/neuro_ai/AutoEncoder/runs/3k31dbtz\" target=\"_blank\">https://wandb.ai/neuro_ai/AutoEncoder/runs/3k31dbtz</a><br/>\n",
       "                "
      ],
      "text/plain": [
       "<IPython.core.display.HTML object>"
      ]
     },
     "metadata": {},
     "output_type": "display_data"
    },
    {
     "data": {
      "text/html": [
       "...Successfully finished last run (ID:3k31dbtz). Initializing new run:<br/><br/>"
      ],
      "text/plain": [
       "<IPython.core.display.HTML object>"
      ]
     },
     "metadata": {},
     "output_type": "display_data"
    },
    {
     "name": "stderr",
     "output_type": "stream",
     "text": [
      "\u001b[34m\u001b[1mwandb\u001b[0m: wandb version 0.12.4 is available!  To upgrade, please run:\n",
      "\u001b[34m\u001b[1mwandb\u001b[0m:  $ pip install wandb --upgrade\n"
     ]
    },
    {
     "data": {
      "text/html": [
       "\n",
       "                Tracking run with wandb version 0.12.2<br/>\n",
       "                Syncing run <strong style=\"color:#cdcd00\">AliceCNN</strong> to <a href=\"https://wandb.ai\" target=\"_blank\">Weights & Biases</a> <a href=\"https://docs.wandb.com/integrations/jupyter.html\" target=\"_blank\">(Documentation)</a>.<br/>\n",
       "                Project page: <a href=\"https://wandb.ai/neuro_ai/AutoEncoder\" target=\"_blank\">https://wandb.ai/neuro_ai/AutoEncoder</a><br/>\n",
       "                Run page: <a href=\"https://wandb.ai/neuro_ai/AutoEncoder/runs/2i6ybl30\" target=\"_blank\">https://wandb.ai/neuro_ai/AutoEncoder/runs/2i6ybl30</a><br/>\n",
       "                Run data is saved locally in <code>/IGLU-Minecraft/wandb/run-20211008_140237-2i6ybl30</code><br/><br/>\n",
       "            "
      ],
      "text/plain": [
       "<IPython.core.display.HTML object>"
      ]
     },
     "metadata": {},
     "output_type": "display_data"
    }
   ],
   "source": [
    "class VisualEncoder(nn.Module):\n",
    "    def __init__(self):\n",
    "        super().__init__()\n",
    "\n",
    "        self.cnn = nn.Sequential(\n",
    "            nn.Conv2d(3, 32, kernel_size=8, stride=4, padding=0),  \n",
    "            nn.ELU(),\n",
    "            nn.Conv2d(32, 64, kernel_size=4, stride=2, padding=0), \n",
    "            nn.ELU(),\n",
    "            nn.Conv2d(64, 128, kernel_size=3, stride=1, padding=0), \n",
    "            nn.ELU(),\n",
    "            nn.Conv2d(128, 256, kernel_size=3, stride=1, padding=0),\n",
    "            nn.ELU(), \n",
    "            nn.Conv2d(256, 1024, kernel_size=2, stride=1, padding=0),\n",
    "            nn.ELU(),\n",
    "            nn.Flatten(),\n",
    "        )\n",
    "\n",
    "    def forward(self, x):\n",
    "        return self.cnn(x)\n",
    "\n",
    "class VisualDecoder(nn.Module):\n",
    "    def __init__(self):\n",
    "        super().__init__()\n",
    "\n",
    "        self.cnn = nn.Sequential(\n",
    "            nn.ConvTranspose2d(1024, 256, kernel_size=2, stride=1, padding=0),\n",
    "            nn.ELU(),\n",
    "            nn.ConvTranspose2d(256, 128, kernel_size=3, stride=1, padding=0),\n",
    "            nn.ELU(),\n",
    "            nn.ConvTranspose2d(128, 64, kernel_size=3, stride=1, padding=0),\n",
    "            nn.ELU(),\n",
    "            nn.ConvTranspose2d(64, 32, kernel_size=4, stride=2, padding=0, output_padding=1),\n",
    "            nn.ELU(),\n",
    "            nn.ConvTranspose2d(32, 3, kernel_size=8, stride=4, padding=0),\n",
    "            nn.Sigmoid()\n",
    "        )\n",
    "    \n",
    "    def forward(self, x):\n",
    "        x = x.reshape(x.shape[0], 1024, 1, 1)\n",
    "        x = self.cnn(x)\n",
    "        return x \n",
    "\n",
    "class Autoencoder(nn.Module):\n",
    "    def __init__(self,\n",
    "               encoder_class : object = VisualEncoder,\n",
    "               decoder_class : object = VisualDecoder):\n",
    "        super().__init__()\n",
    "        self.encoder = encoder_class()\n",
    "        self.decoder = decoder_class()\n",
    "    def forward(self, x):\n",
    "        encode = self.encoder(x)\n",
    "        decode = self.decoder(encode)\n",
    "        return decode\n",
    "    \n",
    "model = Autoencoder()\n",
    "model.to('cuda')\n",
    "\n",
    "total_params = sum(p.numel() for p in model.encoder.parameters() if p.requires_grad)\n",
    "print('Total params:', total_params)\n",
    "\n",
    "config_defaults = {\n",
    "    'epochs': 100,\n",
    "    'batch_size': 1024,\n",
    "    'learning_rate': 1e-3,\n",
    "    'optimizer': 'adam',\n",
    "    'scheduler_step_size': 30,\n",
    "    'scheduler_gamma': 0.5\n",
    "}\n",
    "\n",
    "wandb.init(project='AutoEncoder', entity='neuro_ai', name='AliceCNN', config=config_defaults)\n",
    "config = wandb.config\n",
    "optimizer = optim.Adam(model.parameters(), config.learning_rate)\n",
    "criterion = torch.nn.MSELoss()\n",
    "scheduler = torch.optim.lr_scheduler.StepLR(optimizer, \n",
    "                                            step_size=config.scheduler_step_size, \n",
    "                                            gamma=config.scheduler_gamma)\n",
    "\n",
    "for epoch in range(config.epochs):\n",
    "    #train\n",
    "    model.train()\n",
    "    train_loss = []\n",
    "    for data in train_loader:\n",
    "        data /= 255\n",
    "        data = data.to('cuda')\n",
    "        predict = model(data)\n",
    "        loss = criterion(predict, data)    \n",
    "        optimizer.zero_grad()\n",
    "        loss.backward()\n",
    "        optimizer.step()\n",
    "        train_loss.append(loss.item())\n",
    "    train_loss = np.array(train_loss).mean()\n",
    "    \n",
    "    #evaluate\n",
    "    model.eval()\n",
    "    val_loss = []\n",
    "    for data in val_loader:\n",
    "        data /= 255\n",
    "        data = data.to('cuda')\n",
    "        predict = model(data)\n",
    "        loss = criterion(predict, data)\n",
    "        val_loss.append(loss.item())\n",
    "    val_loss = np.array(val_loss).mean()\n",
    "    scheduler.step()\n",
    "    wandb.log({\"train_loss\":train_loss, 'val_loss': val_loss})\n",
    "\n",
    "torch.save(model.encoder.state_dict(), 'models/AliceCNN/encoder_weigths.pth')\n",
    "torch.save(model.decoder.state_dict(), 'models/AliceCNN/decoder_weigths.pth')"
   ]
  },
  {
   "cell_type": "code",
   "execution_count": null,
   "metadata": {},
   "outputs": [],
   "source": []
  },
  {
   "cell_type": "code",
   "execution_count": 75,
   "metadata": {},
   "outputs": [
    {
     "data": {
      "image/png": "[encoded data removed]",
      "text/plain": [
       "<Figure size 432x288 with 1 Axes>"
      ]
     },
     "metadata": {
      "needs_background": "light"
     },
     "output_type": "display_data"
    }
   ],
   "source": [
    "model.cpu()\n",
    "for data in train_loader:\n",
    "    tensor_image = data[2,:,:,:] / 255.\n",
    "    plot_tensor(tensor_image)\n",
    "    break"
   ]
  },
  {
   "cell_type": "code",
   "execution_count": 76,
   "metadata": {},
   "outputs": [
    {
     "data": {
      "image/png": "[encoded data removed]",
      "text/plain": [
       "<Figure size 432x288 with 1 Axes>"
      ]
     },
     "metadata": {
      "needs_background": "light"
     },
     "output_type": "display_data"
    }
   ],
   "source": [
    "plot_tensor(model(tensor_image[None,:]).detach()[0])"
   ]
  },
  {
   "cell_type": "markdown",
   "metadata": {},
   "source": [
    "## AngelaCNN"
   ]
  },
  {
   "cell_type": "code",
   "execution_count": 80,
   "metadata": {},
   "outputs": [
    {
     "name": "stdout",
     "output_type": "stream",
     "text": [
      "Total params: 701824\n"
     ]
    },
    {
     "data": {
      "text/html": [
       "Finishing last run (ID:1lnligph) before initializing another..."
      ],
      "text/plain": [
       "<IPython.core.display.HTML object>"
      ]
     },
     "metadata": {},
     "output_type": "display_data"
    },
    {
     "data": {
      "text/html": [
       "<br/>Waiting for W&B process to finish, PID 16272<br/>Program ended successfully."
      ],
      "text/plain": [
       "<IPython.core.display.HTML object>"
      ]
     },
     "metadata": {},
     "output_type": "display_data"
    },
    {
     "data": {
      "application/vnd.jupyter.widget-view+json": {
       "model_id": "",
       "version_major": 2,
       "version_minor": 0
      },
      "text/plain": [
       "VBox(children=(Label(value=' 0.00MB of 0.00MB uploaded (0.00MB deduped)\\r'), FloatProgress(value=1.0, max=1.0)…"
      ]
     },
     "metadata": {},
     "output_type": "display_data"
    },
    {
     "data": {
      "text/html": [
       "Find user logs for this run at: <code>/IGLU-Minecraft/wandb/run-20211008_142207-1lnligph/logs/debug.log</code>"
      ],
      "text/plain": [
       "<IPython.core.display.HTML object>"
      ]
     },
     "metadata": {},
     "output_type": "display_data"
    },
    {
     "data": {
      "text/html": [
       "Find internal logs for this run at: <code>/IGLU-Minecraft/wandb/run-20211008_142207-1lnligph/logs/debug-internal.log</code>"
      ],
      "text/plain": [
       "<IPython.core.display.HTML object>"
      ]
     },
     "metadata": {},
     "output_type": "display_data"
    },
    {
     "data": {
      "text/html": [
       "Synced 6 W&B file(s), 0 media file(s), 0 artifact file(s) and 0 other file(s)"
      ],
      "text/plain": [
       "<IPython.core.display.HTML object>"
      ]
     },
     "metadata": {},
     "output_type": "display_data"
    },
    {
     "data": {
      "text/html": [
       "\n",
       "                    <br/>Synced <strong style=\"color:#cdcd00\">AngelaCNN</strong>: <a href=\"https://wandb.ai/neuro_ai/AutoEncoder/runs/1lnligph\" target=\"_blank\">https://wandb.ai/neuro_ai/AutoEncoder/runs/1lnligph</a><br/>\n",
       "                "
      ],
      "text/plain": [
       "<IPython.core.display.HTML object>"
      ]
     },
     "metadata": {},
     "output_type": "display_data"
    },
    {
     "data": {
      "text/html": [
       "...Successfully finished last run (ID:1lnligph). Initializing new run:<br/><br/>"
      ],
      "text/plain": [
       "<IPython.core.display.HTML object>"
      ]
     },
     "metadata": {},
     "output_type": "display_data"
    },
    {
     "name": "stderr",
     "output_type": "stream",
     "text": [
      "\u001b[34m\u001b[1mwandb\u001b[0m: wandb version 0.12.4 is available!  To upgrade, please run:\n",
      "\u001b[34m\u001b[1mwandb\u001b[0m:  $ pip install wandb --upgrade\n"
     ]
    },
    {
     "data": {
      "text/html": [
       "\n",
       "                Tracking run with wandb version 0.12.2<br/>\n",
       "                Syncing run <strong style=\"color:#cdcd00\">AngelaCNN</strong> to <a href=\"https://wandb.ai\" target=\"_blank\">Weights & Biases</a> <a href=\"https://docs.wandb.com/integrations/jupyter.html\" target=\"_blank\">(Documentation)</a>.<br/>\n",
       "                Project page: <a href=\"https://wandb.ai/neuro_ai/AutoEncoder\" target=\"_blank\">https://wandb.ai/neuro_ai/AutoEncoder</a><br/>\n",
       "                Run page: <a href=\"https://wandb.ai/neuro_ai/AutoEncoder/runs/2m0vz9f5\" target=\"_blank\">https://wandb.ai/neuro_ai/AutoEncoder/runs/2m0vz9f5</a><br/>\n",
       "                Run data is saved locally in <code>/IGLU-Minecraft/wandb/run-20211008_142308-2m0vz9f5</code><br/><br/>\n",
       "            "
      ],
      "text/plain": [
       "<IPython.core.display.HTML object>"
      ]
     },
     "metadata": {},
     "output_type": "display_data"
    }
   ],
   "source": [
    "class VisualEncoder(nn.Module):\n",
    "    def __init__(self):\n",
    "        super().__init__()\n",
    "\n",
    "        self.cnn = nn.Sequential(\n",
    "            nn.Conv2d(3, 32, kernel_size=2, stride=2, padding=0),  \n",
    "            nn.ELU(),\n",
    "            nn.Conv2d(32, 32, kernel_size=2, stride=2, padding=0), \n",
    "            nn.ELU(),\n",
    "            nn.Conv2d(32, 64, kernel_size=2, stride=2, padding=0), \n",
    "            nn.ELU(),\n",
    "            nn.Conv2d(64, 128, kernel_size=2, stride=2, padding=0),\n",
    "            nn.ELU(), \n",
    "            nn.Conv2d(128, 256, kernel_size=2, stride=2, padding=0),\n",
    "            nn.ELU(),\n",
    "            nn.Conv2d(256, 512, kernel_size=2, stride=2, padding=0),\n",
    "            nn.ELU(),\n",
    "            nn.Flatten(),\n",
    "        )\n",
    "\n",
    "    def forward(self, x):\n",
    "        return self.cnn(x)\n",
    "\n",
    "class VisualDecoder(nn.Module):\n",
    "    def __init__(self):\n",
    "        super().__init__()\n",
    "\n",
    "        self.cnn = nn.Sequential(\n",
    "            nn.ConvTranspose2d(512, 256, kernel_size=2, stride=2, padding=0),\n",
    "            nn.ELU(),\n",
    "            nn.ConvTranspose2d(256, 128, kernel_size=2, stride=2, padding=0),\n",
    "            nn.ELU(),\n",
    "            nn.ConvTranspose2d(128, 64, kernel_size=2, stride=2, padding=0),\n",
    "            nn.ELU(),\n",
    "            nn.ConvTranspose2d(64, 32, kernel_size=2, stride=2, padding=0),\n",
    "            nn.ELU(),\n",
    "            nn.ConvTranspose2d(32, 32, kernel_size=2, stride=2, padding=0),\n",
    "            nn.ELU(),\n",
    "            nn.ConvTranspose2d(32, 3, kernel_size=2, stride=2, padding=0),\n",
    "            nn.Sigmoid()\n",
    "        )\n",
    "    \n",
    "    def forward(self, x):\n",
    "        x = x.reshape(x.shape[0], 512, 1, 1)\n",
    "        x = self.cnn(x)\n",
    "        return x \n",
    "\n",
    "class Autoencoder(nn.Module):\n",
    "    def __init__(self,\n",
    "               encoder_class : object = VisualEncoder,\n",
    "               decoder_class : object = VisualDecoder):\n",
    "        super().__init__()\n",
    "        self.encoder = encoder_class()\n",
    "        self.decoder = decoder_class()\n",
    "    def forward(self, x):\n",
    "        encode = self.encoder(x)\n",
    "        decode = self.decoder(encode)\n",
    "        return decode\n",
    "    \n",
    "model = Autoencoder()\n",
    "model.to('cuda')\n",
    "\n",
    "total_params = sum(p.numel() for p in model.encoder.parameters() if p.requires_grad)\n",
    "print('Total params:', total_params)\n",
    "\n",
    "config_defaults = {\n",
    "    'epochs': 100,\n",
    "    'batch_size': 1024,\n",
    "    'learning_rate': 1e-3,\n",
    "    'optimizer': 'adam',\n",
    "    'scheduler_step_size': 30,\n",
    "    'scheduler_gamma': 0.5\n",
    "}\n",
    "\n",
    "wandb.init(project='AutoEncoder', entity='neuro_ai', name='AngelaCNN', config=config_defaults)\n",
    "config = wandb.config\n",
    "optimizer = optim.Adam(model.parameters(), config.learning_rate)\n",
    "criterion = torch.nn.MSELoss()\n",
    "scheduler = torch.optim.lr_scheduler.StepLR(optimizer, \n",
    "                                            step_size=config.scheduler_step_size, \n",
    "                                            gamma=config.scheduler_gamma)\n",
    "\n",
    "for epoch in range(config.epochs):\n",
    "    #train\n",
    "    model.train()\n",
    "    train_loss = []\n",
    "    for data in train_loader:\n",
    "        data /= 255\n",
    "        data = data.to('cuda')\n",
    "        predict = model(data)\n",
    "        loss = criterion(predict, data)    \n",
    "        optimizer.zero_grad()\n",
    "        loss.backward()\n",
    "        optimizer.step()\n",
    "        train_loss.append(loss.item())\n",
    "    train_loss = np.array(train_loss).mean()\n",
    "    \n",
    "    #evaluate\n",
    "    model.eval()\n",
    "    val_loss = []\n",
    "    for data in val_loader:\n",
    "        data /= 255\n",
    "        data = data.to('cuda')\n",
    "        predict = model(data)\n",
    "        loss = criterion(predict, data)\n",
    "        val_loss.append(loss.item())\n",
    "    val_loss = np.array(val_loss).mean()\n",
    "    scheduler.step()\n",
    "    wandb.log({\"train_loss\":train_loss, 'val_loss': val_loss})\n",
    "\n",
    "torch.save(model.encoder.state_dict(), 'models/AngelaCNN/encoder_weigths.pth')\n",
    "torch.save(model.decoder.state_dict(), 'models/AngelaCNN/decoder_weigths.pth')"
   ]
  },
  {
   "cell_type": "code",
   "execution_count": null,
   "metadata": {},
   "outputs": [],
   "source": []
  },
  {
   "cell_type": "code",
   "execution_count": 145,
   "metadata": {},
   "outputs": [
    {
     "data": {
      "image/png": "[encoded data removed]",
      "text/plain": [
       "<Figure size 432x288 with 1 Axes>"
      ]
     },
     "metadata": {
      "needs_background": "light"
     },
     "output_type": "display_data"
    }
   ],
   "source": [
    "model.cpu()\n",
    "for data in train_loader:\n",
    "    tensor_image = data[2,:,:,:] / 255.\n",
    "    plot_tensor(tensor_image)\n",
    "    break"
   ]
  },
  {
   "cell_type": "code",
   "execution_count": 146,
   "metadata": {},
   "outputs": [
    {
     "data": {
      "image/png": "[encoded data removed]",
      "text/plain": [
       "<Figure size 432x288 with 1 Axes>"
      ]
     },
     "metadata": {
      "needs_background": "light"
     },
     "output_type": "display_data"
    }
   ],
   "source": [
    "plot_tensor(model(tensor_image[None,:]).detach()[0])"
   ]
  },
  {
   "cell_type": "code",
   "execution_count": null,
   "metadata": {},
   "outputs": [],
   "source": []
  },
  {
   "cell_type": "code",
   "execution_count": null,
   "metadata": {},
   "outputs": [],
   "source": []
  },
  {
   "cell_type": "code",
   "execution_count": null,
   "metadata": {},
   "outputs": [],
   "source": []
  }
 ],
 "metadata": {
  "accelerator": "GPU",
  "colab": {
   "collapsed_sections": [],
   "name": "IGLUVisualAutoencoder.ipynb",
   "provenance": []
  },
  "kernelspec": {
   "display_name": "Python 3 (ipykernel)",
   "language": "python",
   "name": "python3"
  },
  "language_info": {
   "codemirror_mode": {
    "name": "ipython",
    "version": 3
   },
   "file_extension": ".py",
   "mimetype": "text/x-python",
   "name": "python",
   "nbconvert_exporter": "python",
   "pygments_lexer": "ipython3",
   "version": "3.7.3"
  }
 },
 "nbformat": 4,
 "nbformat_minor": 1
}
