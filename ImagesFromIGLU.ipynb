{
  "cells": [
    {
      "cell_type": "code",
      "execution_count": null,
      "metadata": {
        "id": "b9T_DceB2I8n"
      },
      "outputs": [],
      "source": [
        "!git clone https://github.com/iglu-contest/iglu\n",
        "!apt-get -qq install openjdk-8-jdk xvfb > /dev/null\n",
        "!update-alternatives --config java\n",
        "!sudo add-apt-repository ppa:openjdk-r/ppa\n",
        "!sudo apt-get update\n",
        "!sudo apt-get install openjdk-8-jdk\n",
        "!sudo apt-get install xvfb\n",
        "!pip uninstall -y iglu && pip install git+https://github.com/iglu-contest/iglu.git\n",
        "!pip install gym==0.18.3"
      ]
    },
    {
      "cell_type": "code",
      "execution_count": 3,
      "metadata": {
        "id": "8PdQBXrX6fWF"
      },
      "outputs": [],
      "source": [
        "# exec this cell ONLY in colab\n",
        "!wget -q https://raw.githubusercontent.com/iglu-contest/tutorials/main/env/colab_setup.sh -O - | sh > /dev/null 2>&1\n",
        "!pip install -q pyvirtualdisplay\n",
        "from pyvirtualdisplay import Display\n",
        "disp = Display(backend=\"xvnc\", size=(800, 600))\n",
        "disp.start();\n",
        "# for local notebooks instead launch jupyter as: xvfb-run -s \"-screen 0 640x480x24\" jupyter ..."
      ]
    },
    {
      "cell_type": "code",
      "execution_count": 6,
      "metadata": {
        "id": "Yyl-zAbg21Rw"
      },
      "outputs": [],
      "source": [
        "import iglu\n",
        "import gym\n",
        "env = gym.make('IGLUSilentBuilder-v0')\n",
        "obs = env.reset()"
      ]
    },
    {
      "cell_type": "code",
      "execution_count": 8,
      "metadata": {
        "id": "-gWCf2nrEh17"
      },
      "outputs": [],
      "source": [
        "from tqdm import tqdm\n",
        "import matplotlib.pyplot as plt\n",
        "from IPython.display import clear_output\n",
        "from PIL import Image\n",
        "import numpy as np\n",
        "total_reward = 0.\n",
        "done = False\n",
        "images = []\n",
        "\n",
        "for i in range(10):\n",
        "  obs = env.reset()\n",
        "  done = False\n",
        "  while not done:\n",
        "    display(Image.fromarray(obs['pov'],).resize((256, 256)))\n",
        "    action = env.action_space.sample()\n",
        "    # action['camera'][0] *= 0.1\n",
        "    # action['camera'][0] *= 0.3\n",
        "    obs, reward, done, info = env.step(action)\n",
        "    images.append(obs['pov'])\n",
        "    total_reward += reward\n",
        "    clear_output(wait=True)\n",
        "  print(i)\n",
        "len(images)"
      ]
    },
    {
      "cell_type": "code",
      "execution_count": null,
      "metadata": {
        "id": "8hw2OCKsH_UX"
      },
      "outputs": [],
      "source": [
        "images = np.asarray(images)"
      ]
    },
    {
      "cell_type": "code",
      "execution_count": null,
      "metadata": {
        "colab": {
          "base_uri": "https://localhost:8080/",
          "height": 285
        },
        "id": "V5hiQr9f7mUA",
        "outputId": "b3a59009-b374-4c99-9551-e529a6dfd0b3"
      },
      "outputs": [
        {
          "data": {
            "text/plain": [
              "<matplotlib.image.AxesImage at 0x7fc1a889bc90>"
            ]
          },
          "execution_count": 27,
          "metadata": {},
          "output_type": "execute_result"
        },
        {
          "data": {
            "image/png": "[encoded data removed]",
            "text/plain": [
              "<Figure size 432x288 with 1 Axes>"
            ]
          },
          "metadata": {},
          "output_type": "display_data"
        }
      ],
      "source": [
        "import matplotlib.pyplot as plt\n",
        "plt.imshow(images[0])"
      ]
    },
    {
      "cell_type": "code",
      "execution_count": null,
      "metadata": {
        "id": "lc_cToZPEP8z"
      },
      "outputs": [],
      "source": [
        "np.save('images.npy',images)"
      ]
    }
  ],
  "metadata": {
    "colab": {
      "name": "ImagesFromIGLU.ipynb",
      "provenance": [],
      "collapsed_sections": []
    },
    "kernelspec": {
      "display_name": "Python 3",
      "name": "python3"
    },
    "language_info": {
      "name": "python"
    }
  },
  "nbformat": 4,
  "nbformat_minor": 0
}