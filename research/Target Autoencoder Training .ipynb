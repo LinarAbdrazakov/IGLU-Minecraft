{
 "cells": [
  {
   "cell_type": "code",
   "execution_count": 1,
   "id": "8700f22a",
   "metadata": {},
   "outputs": [
    {
     "name": "stderr",
     "output_type": "stream",
     "text": [
      "/root/miniconda/envs/py37/lib/python3.7/site-packages/gym/logger.py:30: UserWarning: \u001b[33mWARN: Box bound precision lowered by casting to float32\u001b[0m\n",
      "  warnings.warn(colorize('%s: %s'%('WARN', msg % args), 'yellow'))\n",
      "/root/miniconda/envs/py37/lib/python3.7/site-packages/gym/logger.py:30: UserWarning: \u001b[33mWARN: Box bound precision lowered by casting to float32\u001b[0m\n",
      "  warnings.warn(colorize('%s: %s'%('WARN', msg % args), 'yellow'))\n"
     ]
    }
   ],
   "source": [
    "%load_ext autoreload\n",
    "%autoreload 2\n",
    "\n",
    "import gym\n",
    "import iglu\n",
    "from tqdm.notebook import tqdm\n",
    "import matplotlib.pyplot as plt\n",
    "from IPython.display import clear_output\n",
    "from PIL import Image\n",
    "import numpy as np\n",
    "import torch\n",
    "from torch.nn.functional import one_hot\n",
    "\n",
    "from iglu.tasks import RandomTasks"
   ]
  },
  {
   "cell_type": "code",
   "execution_count": 2,
   "id": "81abfa7a",
   "metadata": {},
   "outputs": [
    {
     "name": "stdout",
     "output_type": "stream",
     "text": [
      "Generation of training dataset\n"
     ]
    },
    {
     "data": {
      "application/vnd.jupyter.widget-view+json": {
       "model_id": "511273dda82040029bfc3136d1cdb4ae",
       "version_major": 2,
       "version_minor": 0
      },
      "text/plain": [
       "  0%|          | 0/5000 [00:00<?, ?it/s]"
      ]
     },
     "metadata": {},
     "output_type": "display_data"
    },
    {
     "name": "stdout",
     "output_type": "stream",
     "text": [
      "Generation of validation dataset\n"
     ]
    },
    {
     "data": {
      "application/vnd.jupyter.widget-view+json": {
       "model_id": "973dfe2cfc9e4fa4aa64beb782392b5f",
       "version_major": 2,
       "version_minor": 0
      },
      "text/plain": [
       "  0%|          | 0/1000 [00:00<?, ?it/s]"
      ]
     },
     "metadata": {},
     "output_type": "display_data"
    }
   ],
   "source": [
    "TRAINING_DATASET_SIZE = int(5e3)\n",
    "VALIDATION_DATASET_SIZE = int(1e3)\n",
    "\n",
    "MAX_BLOCKS = 30\n",
    "MAX_COLORS = 6\n",
    "MAX_DIST = 5\n",
    "\n",
    "training_target_list = []\n",
    "validation_target_list = []\n",
    "\n",
    "rt = RandomTasks(max_blocks=MAX_BLOCKS, \n",
    "                 max_dist=MAX_DIST,\n",
    "                 num_colors=MAX_COLORS)\n",
    "\n",
    "print(\"Generation of training dataset\")\n",
    "for i in tqdm(range(TRAINING_DATASET_SIZE)):\n",
    "    target = rt.sample().target_grid\n",
    "    training_target_list.append(target)\n",
    "    \n",
    "print(\"Generation of validation dataset\")\n",
    "for i in tqdm(range(VALIDATION_DATASET_SIZE)):\n",
    "    target = rt.sample().target_grid\n",
    "    validation_target_list.append(target)"
   ]
  },
  {
   "cell_type": "code",
   "execution_count": 7,
   "id": "8d23714e",
   "metadata": {},
   "outputs": [],
   "source": [
    "from torch.utils.data import Dataset\n",
    "from torch.utils.data import DataLoader\n",
    "\n",
    "class TargetDataset(Dataset):\n",
    "    def __init__(self, target_list):\n",
    "        self.target_list = target_list\n",
    "\n",
    "    def __len__(self):\n",
    "        return len(self.target_list)\n",
    "\n",
    "    def __getitem__(self, idx):\n",
    "        target = self.target_list[idx]\n",
    "        target_tensor_target = torch.tensor(target, dtype=torch.long)\n",
    "        target_tensor_input = one_hot(torch.tensor(target, dtype=torch.long), num_classes=7).permute(3, 0, 1, 2)\n",
    "        return target_tensor_input, target_tensor_target\n",
    "    \n",
    "training_dataset = TargetDataset(training_target_list)\n",
    "validation_dataset = TargetDataset(validation_target_list)"
   ]
  },
  {
   "cell_type": "code",
   "execution_count": 8,
   "id": "2ad0a278",
   "metadata": {},
   "outputs": [],
   "source": [
    "train_dataloader = DataLoader(training_dataset, batch_size=64, shuffle=True)\n",
    "val_dataloader = DataLoader(validation_dataset, batch_size=64, shuffle=True)"
   ]
  },
  {
   "cell_type": "code",
   "execution_count": 15,
   "id": "6549e04c",
   "metadata": {},
   "outputs": [],
   "source": [
    "# Training procedure\n",
    "from tqdm.notebook import tqdm\n",
    "\n",
    "import torch\n",
    "from torch import nn\n",
    "from torch import optim\n",
    "\n",
    "device = torch.device('cuda')\n",
    "\n",
    "class TargetEncoder(nn.Module):\n",
    "    def __init__(self, features_dim=512):\n",
    "        super(TargetEncoder, self).__init__()\n",
    "\n",
    "        # input (7, 9, 11, 11)\n",
    "\n",
    "        self.cnn = nn.Sequential(\n",
    "            nn.Conv3d(7, 32, kernel_size=3, stride=1, padding=0),\n",
    "            nn.ReLU(),\n",
    "            nn.Conv3d(32, 64, kernel_size=3, stride=1, padding=1),\n",
    "            nn.ReLU(),\n",
    "            nn.Conv3d(64, 64, kernel_size=3),\n",
    "            nn.ReLU(),\n",
    "            nn.Flatten()\n",
    "        )\n",
    "\n",
    "        self.linear = nn.Sequential(nn.Linear(15680, features_dim), nn.ReLU())\n",
    "\n",
    "    def forward(self, x):\n",
    "        return self.linear(self.cnn(x))\n",
    "\n",
    "\n",
    "class TargetDecoder(nn.Module):\n",
    "    def __init__(self, features_dim=512):\n",
    "        super(TargetDecoder, self).__init__()\n",
    "\n",
    "        self.linear = nn.Sequential(nn.Linear(features_dim, 15680))\n",
    "\n",
    "        self.cnn = nn.Sequential(\n",
    "            nn.ConvTranspose3d(64, 64, kernel_size=3),\n",
    "            nn.ReLU(),\n",
    "            nn.ConvTranspose3d(64, 32, kernel_size=3, padding=1),\n",
    "            nn.ReLU(), \n",
    "            nn.ConvTranspose3d(32, 7, kernel_size=3),\n",
    "            nn.Tanh()\n",
    "        )\n",
    "\n",
    "    def forward(self, x):\n",
    "        x = self.linear(x)\n",
    "        x = x.reshape(x.shape[0], 64, 5, 7, 7)\n",
    "        x = self.cnn(x)\n",
    "        return x\n",
    "\n",
    "class TargetAutoencoder(nn.Module):\n",
    "    def __init__(self):\n",
    "        super(TargetAutoencoder, self).__init__()\n",
    "        self.encoder = TargetEncoder(2024)\n",
    "        self.decoder = TargetDecoder(2024)\n",
    "        \n",
    "    def forward(self, x):\n",
    "        x = self.encoder(x)\n",
    "        x = self.decoder(x)\n",
    "        return x\n",
    "    \n",
    "\n",
    "target_autoencoder = TargetAutoencoder().to(device)\n",
    "optimizer = optim.Adam(target_autoencoder.parameters(), lr=1e-4)\n",
    "loss_function = nn.CrossEntropyLoss()"
   ]
  },
  {
   "cell_type": "code",
   "execution_count": 16,
   "id": "e509e2e8",
   "metadata": {},
   "outputs": [
    {
     "data": {
      "text/html": [
       "Finishing last run (ID:s0uc7bl7) before initializing another..."
      ],
      "text/plain": [
       "<IPython.core.display.HTML object>"
      ]
     },
     "metadata": {},
     "output_type": "display_data"
    },
    {
     "data": {
      "text/html": [
       "<br/>Waiting for W&B process to finish, PID 11243<br/>Program ended successfully."
      ],
      "text/plain": [
       "<IPython.core.display.HTML object>"
      ]
     },
     "metadata": {},
     "output_type": "display_data"
    },
    {
     "data": {
      "application/vnd.jupyter.widget-view+json": {
       "model_id": "",
       "version_major": 2,
       "version_minor": 0
      },
      "text/plain": [
       "VBox(children=(Label(value=' 0.00MB of 0.00MB uploaded (0.00MB deduped)\\r'), FloatProgress(value=1.0, max=1.0)…"
      ]
     },
     "metadata": {},
     "output_type": "display_data"
    },
    {
     "data": {
      "text/html": [
       "Find user logs for this run at: <code>/src/wandb/run-20210906_172734-s0uc7bl7/logs/debug.log</code>"
      ],
      "text/plain": [
       "<IPython.core.display.HTML object>"
      ]
     },
     "metadata": {},
     "output_type": "display_data"
    },
    {
     "data": {
      "text/html": [
       "Find internal logs for this run at: <code>/src/wandb/run-20210906_172734-s0uc7bl7/logs/debug-internal.log</code>"
      ],
      "text/plain": [
       "<IPython.core.display.HTML object>"
      ]
     },
     "metadata": {},
     "output_type": "display_data"
    },
    {
     "data": {
      "text/html": [
       "Synced 5 W&B file(s), 0 media file(s), 0 artifact file(s) and 0 other file(s)"
      ],
      "text/plain": [
       "<IPython.core.display.HTML object>"
      ]
     },
     "metadata": {},
     "output_type": "display_data"
    },
    {
     "data": {
      "text/html": [
       "\n",
       "                    <br/>Synced <strong style=\"color:#cdcd00\">pretty-cosmos-4</strong>: <a href=\"https://wandb.ai/linar/src/runs/s0uc7bl7\" target=\"_blank\">https://wandb.ai/linar/src/runs/s0uc7bl7</a><br/>\n",
       "                "
      ],
      "text/plain": [
       "<IPython.core.display.HTML object>"
      ]
     },
     "metadata": {},
     "output_type": "display_data"
    },
    {
     "data": {
      "text/html": [
       "...Successfully finished last run (ID:s0uc7bl7). Initializing new run:<br/><br/>"
      ],
      "text/plain": [
       "<IPython.core.display.HTML object>"
      ]
     },
     "metadata": {},
     "output_type": "display_data"
    },
    {
     "data": {
      "text/html": [
       "\n",
       "                Tracking run with wandb version 0.12.1<br/>\n",
       "                Syncing run <strong style=\"color:#cdcd00\">tough-jazz-5</strong> to <a href=\"https://wandb.ai\" target=\"_blank\">Weights & Biases</a> <a href=\"https://docs.wandb.com/integrations/jupyter.html\" target=\"_blank\">(Documentation)</a>.<br/>\n",
       "                Project page: <a href=\"https://wandb.ai/linar/src\" target=\"_blank\">https://wandb.ai/linar/src</a><br/>\n",
       "                Run page: <a href=\"https://wandb.ai/linar/src/runs/eybgb9f4\" target=\"_blank\">https://wandb.ai/linar/src/runs/eybgb9f4</a><br/>\n",
       "                Run data is saved locally in <code>/src/wandb/run-20210906_173140-eybgb9f4</code><br/><br/>\n",
       "            "
      ],
      "text/plain": [
       "<IPython.core.display.HTML object>"
      ]
     },
     "metadata": {},
     "output_type": "display_data"
    },
    {
     "data": {
      "application/vnd.jupyter.widget-view+json": {
       "model_id": "21dc6499eea948b38018520706e49152",
       "version_major": 2,
       "version_minor": 0
      },
      "text/plain": [
       "  0%|          | 0/50 [00:00<?, ?it/s]"
      ]
     },
     "metadata": {},
     "output_type": "display_data"
    }
   ],
   "source": [
    "import wandb\n",
    "\n",
    "wandb.init(\"Target Autoencoder\")\n",
    "\n",
    "EPOCHS = 50\n",
    "for epoch in tqdm(range(EPOCHS)):\n",
    "    # training\n",
    "    target_autoencoder.train()\n",
    "    train_loss = []\n",
    "    for target_tensor_input, target_tensor_target in train_dataloader:\n",
    "        target_tensor_input = target_tensor_input.float().to(device)\n",
    "        target_tensor_target = target_tensor_target.to(device)\n",
    "    \n",
    "        optimizer.zero_grad()\n",
    "        predict = target_autoencoder(target_tensor_input)\n",
    "        loss = loss_function(predict, target_tensor_target)\n",
    "        train_loss.append(loss.item())\n",
    "        loss.backward()\n",
    "        optimizer.step()\n",
    "    train_loss = np.array(train_loss).mean()\n",
    "        \n",
    "    # evaluation\n",
    "    target_autoencoder.eval()\n",
    "    val_loss = []\n",
    "    for target_tensor_input, target_tensor_target in val_dataloader:\n",
    "        target_tensor_input = target_tensor_input.float().to(device)\n",
    "        target_tensor_target = target_tensor_target.to(device)\n",
    "    \n",
    "        predict = target_autoencoder(target_tensor_input)\n",
    "        loss = loss_function(predict, target_tensor_target)\n",
    "        val_loss.append(loss.item())\n",
    "    val_loss = np.array(val_loss).mean()\n",
    "\n",
    "    wandb.log({'train_loss': train_loss, 'val_loss': val_loss})"
   ]
  },
  {
   "cell_type": "code",
   "execution_count": null,
   "id": "556741e9",
   "metadata": {},
   "outputs": [],
   "source": []
  }
 ],
 "metadata": {
  "kernelspec": {
   "display_name": "Python 3 (ipykernel)",
   "language": "python",
   "name": "python3"
  },
  "language_info": {
   "codemirror_mode": {
    "name": "ipython",
    "version": 3
   },
   "file_extension": ".py",
   "mimetype": "text/x-python",
   "name": "python",
   "nbconvert_exporter": "python",
   "pygments_lexer": "ipython3",
   "version": "3.7.3"
  }
 },
 "nbformat": 4,
 "nbformat_minor": 5
}
