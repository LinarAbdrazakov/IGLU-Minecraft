{
 "cells": [
  {
   "cell_type": "code",
   "execution_count": 1,
   "metadata": {
    "id": "bEtC0TWMtlhX"
   },
   "outputs": [],
   "source": [
    "import numpy as np\n",
    "import torch\n",
    "import torch.nn as nn\n",
    "import torch.nn.functional as F\n",
    "import torch.utils.data as data\n",
    "import torch.optim as optim\n",
    "import torchvision\n",
    "from torchvision.datasets import CIFAR10\n",
    "from torchvision import transforms\n",
    "import matplotlib.pyplot as plt\n"
   ]
  },
  {
   "cell_type": "code",
   "execution_count": null,
   "metadata": {
    "id": "-X_4bXHF4UX4"
   },
   "outputs": [],
   "source": [
    "!pip install wandb\n",
    "import wandb\n",
    "wandb.login()"
   ]
  },
  {
   "cell_type": "code",
   "execution_count": 2,
   "metadata": {
    "colab": {
     "base_uri": "https://localhost:8080/"
    },
    "id": "Bzi_-S6VRQ0b",
    "outputId": "0829c369-31fd-4658-ec3d-7adabb923fa8"
   },
   "outputs": [
    {
     "name": "stdout",
     "output_type": "stream",
     "text": [
      "Mounted at /content/drive\n"
     ]
    }
   ],
   "source": [
    "from google.colab import drive\n",
    "drive.mount('/content/drive')"
   ]
  },
  {
   "cell_type": "code",
   "execution_count": 3,
   "metadata": {
    "id": "BhGyiJ0cmD3j"
   },
   "outputs": [],
   "source": [
    "images = np.load('drive/MyDrive/images.npy') # путь до картинок из иглу\n",
    "images = np.transpose(images,(0,3,1,2))\n",
    "images = torch.Tensor(images)\n",
    "train_dataset = images"
   ]
  },
  {
   "cell_type": "code",
   "execution_count": 4,
   "metadata": {
    "colab": {
     "base_uri": "https://localhost:8080/"
    },
    "id": "uppRX7Hbu8IA",
    "outputId": "a743d78f-8c68-4858-eae7-6a4c88c053f2"
   },
   "outputs": [
    {
     "name": "stderr",
     "output_type": "stream",
     "text": [
      "/usr/local/lib/python3.7/dist-packages/torch/utils/data/dataloader.py:481: UserWarning: This DataLoader will create 4 worker processes in total. Our suggested max number of worker in current system is 2, which is smaller than what this DataLoader is going to create. Please be aware that excessive worker creation might get DataLoader running slow or even freeze, lower the worker number to avoid potential slowness/freeze if necessary.\n",
      "  cpuset_checked))\n"
     ]
    }
   ],
   "source": [
    "train_set, val_set = torch.utils.data.random_split(train_dataset, [100000, 13873])\n",
    "# test_set = CIFAR10(root='data', train=False, transform=transform, download=True)\n",
    "train_loader = data.DataLoader(train_set, batch_size=256, shuffle=True, drop_last=True, pin_memory=True, num_workers=4)\n",
    "val_loader = data.DataLoader(val_set, batch_size=256, shuffle=False, drop_last=False, num_workers=4)\n",
    "# test_loader = data.DataLoader(test_set, batch_size=256, shuffle=False, drop_last=False, num_workers=4)"
   ]
  },
  {
   "cell_type": "code",
   "execution_count": 12,
   "metadata": {
    "id": "r6gqSve11977"
   },
   "outputs": [],
   "source": [
    "latent_dims = 2\n",
    "variational_beta = 1"
   ]
  },
  {
   "cell_type": "code",
   "execution_count": 17,
   "metadata": {
    "id": "lIIaHdwGvPQg"
   },
   "outputs": [],
   "source": [
    "class VisualEncoder(nn.Module):\n",
    "    def __init__(self, features_dim=2):\n",
    "        super().__init__()\n",
    "\n",
    "        self.cnn = nn.Sequential(\n",
    "            nn.Conv2d(3, 32, kernel_size=8, stride=4, padding=0),  # (3, 64, 64) -> (32, 14, 14)\n",
    "            nn.ReLU(),\n",
    "            nn.Conv2d(32, 64, kernel_size=4, stride=2, padding=0), #             -> (64, 5, 5)\n",
    "            nn.ReLU(),\n",
    "            nn.Conv2d(64, 64, kernel_size=3, stride=1, padding=0), #             -> (64, 3, 3)\n",
    "            nn.ReLU(),\n",
    "            nn.Flatten(),\n",
    "        )\n",
    "\n",
    "        n_flatten = 1024\n",
    "        self.fc_mu = nn.Sequential(nn.Linear(n_flatten, features_dim), nn.ReLU())\n",
    "        self.fc_logvar = nn.Sequential(nn.Linear(n_flatten, features_dim), nn.ReLU())\n",
    "\n",
    "    def forward(self, x):\n",
    "        x = self.cnn(x)\n",
    "        x_mu = self.fc_mu(x)\n",
    "        x_logvar = self.fc_logvar(x)\n",
    "        return x_mu, x_logvar\n",
    "\n",
    "class VisualDecoder(nn.Module):\n",
    "    def __init__(self, features_dim=2):\n",
    "        super().__init__()\n",
    "\n",
    "        n_flatten = 1024\n",
    "        self.linear = nn.Sequential(nn.Linear(features_dim, n_flatten), nn.ReLU())\n",
    "\n",
    "        self.cnn = nn.Sequential(\n",
    "            nn.ConvTranspose2d(64, 64, kernel_size=3,stride=1, padding=0),\n",
    "            nn.ReLU(),\n",
    "            nn.ConvTranspose2d(64, 32, kernel_size=4, stride=2, padding=0,output_padding=1),\n",
    "            # nn.ConvTranspose2d(64, 32, kernel_size=4, stride=2, padding=0),\n",
    "            nn.ReLU(),\n",
    "            nn.ConvTranspose2d(32, 3, kernel_size=8,stride=4, padding=0),\n",
    "            nn.Tanh()\n",
    "        )\n",
    "    \n",
    "    def forward(self, x):\n",
    "        x = self.linear(x)\n",
    "        x = x.reshape(x.shape[0], 64, 4, 4)\n",
    "        x = self.cnn(x)\n",
    "        return x "
   ]
  },
  {
   "cell_type": "code",
   "execution_count": 18,
   "metadata": {
    "colab": {
     "base_uri": "https://localhost:8080/"
    },
    "id": "vj5eOljtwT-T",
    "outputId": "8e252885-89ec-4f88-e47f-7b66168c5531"
   },
   "outputs": [
    {
     "data": {
      "text/plain": [
       "Autoencoder(\n",
       "  (encoder): VisualEncoder(\n",
       "    (cnn): Sequential(\n",
       "      (0): Conv2d(3, 32, kernel_size=(8, 8), stride=(4, 4))\n",
       "      (1): ReLU()\n",
       "      (2): Conv2d(32, 64, kernel_size=(4, 4), stride=(2, 2))\n",
       "      (3): ReLU()\n",
       "      (4): Conv2d(64, 64, kernel_size=(3, 3), stride=(1, 1))\n",
       "      (5): ReLU()\n",
       "      (6): Flatten(start_dim=1, end_dim=-1)\n",
       "    )\n",
       "    (fc_mu): Sequential(\n",
       "      (0): Linear(in_features=1024, out_features=2, bias=True)\n",
       "      (1): ReLU()\n",
       "    )\n",
       "    (fc_logvar): Sequential(\n",
       "      (0): Linear(in_features=1024, out_features=2, bias=True)\n",
       "      (1): ReLU()\n",
       "    )\n",
       "  )\n",
       "  (decoder): VisualDecoder(\n",
       "    (linear): Sequential(\n",
       "      (0): Linear(in_features=2, out_features=1024, bias=True)\n",
       "      (1): ReLU()\n",
       "    )\n",
       "    (cnn): Sequential(\n",
       "      (0): ConvTranspose2d(64, 64, kernel_size=(3, 3), stride=(1, 1))\n",
       "      (1): ReLU()\n",
       "      (2): ConvTranspose2d(64, 32, kernel_size=(4, 4), stride=(2, 2), output_padding=(1, 1))\n",
       "      (3): ReLU()\n",
       "      (4): ConvTranspose2d(32, 3, kernel_size=(8, 8), stride=(4, 4))\n",
       "      (5): Tanh()\n",
       "    )\n",
       "  )\n",
       ")"
      ]
     },
     "execution_count": 18,
     "metadata": {},
     "output_type": "execute_result"
    }
   ],
   "source": [
    "class Autoencoder(nn.Module):\n",
    "  def __init__(self,\n",
    "               encoder_class : object = VisualEncoder,\n",
    "               decoder_class : object = VisualDecoder):\n",
    "    super().__init__()\n",
    "    self.encoder = encoder_class()\n",
    "    self.decoder = decoder_class()\n",
    "  def forward(self, x):\n",
    "    latent_mu, latent_logvar = self.encoder(x)\n",
    "    latent = self.latent_sample(latent_mu, latent_logvar)\n",
    "    decode = self.decoder(latent)\n",
    "    return decode, latent_mu, latent_logvar\n",
    "\n",
    "  def latent_sample(self, mu, logvar):\n",
    "    if self.training:\n",
    "      # the reparameterization trick\n",
    "      std = logvar.mul(0.5).exp_()\n",
    "      eps = torch.empty_like(std).normal_()\n",
    "      return eps.mul(std).add_(mu)\n",
    "    else:\n",
    "      return mu\n",
    "def vae_loss(recon_x, x, mu, logvar):\n",
    "    recon_loss = F.mse_loss(recon_x.view(-1, 12288), x.view(-1, 12288), reduction='sum')\n",
    "    kldivergence = -0.5 * torch.sum(1 + logvar - mu.pow(2) - logvar.exp())\n",
    "    return recon_loss + variational_beta * kldivergence\n",
    "model = Autoencoder()\n",
    "model.to('cuda')"
   ]
  },
  {
   "cell_type": "code",
   "execution_count": null,
   "metadata": {
    "colab": {
     "base_uri": "https://localhost:8080/"
    },
    "id": "tuwBv_35Th4s",
    "outputId": "64afbde1-9909-4247-93e3-5cddc5e7e46a"
   },
   "outputs": [
    {
     "name": "stderr",
     "output_type": "stream",
     "text": [
      "/usr/local/lib/python3.7/dist-packages/torch/utils/data/dataloader.py:481: UserWarning: This DataLoader will create 4 worker processes in total. Our suggested max number of worker in current system is 2, which is smaller than what this DataLoader is going to create. Please be aware that excessive worker creation might get DataLoader running slow or even freeze, lower the worker number to avoid potential slowness/freeze if necessary.\n",
      "  cpuset_checked))\n"
     ]
    },
    {
     "name": "stdout",
     "output_type": "stream",
     "text": [
      "tensor(182869.4688, device='cuda:0', grad_fn=<AddBackward0>)\n",
      "tensor(182229.7344, device='cuda:0', grad_fn=<AddBackward0>)\n",
      "tensor(181540.6562, device='cuda:0', grad_fn=<AddBackward0>)\n",
      "tensor(174676.3906, device='cuda:0', grad_fn=<AddBackward0>)\n",
      "tensor(181510.0625, device='cuda:0', grad_fn=<AddBackward0>)\n",
      "tensor(190556.3594, device='cuda:0', grad_fn=<AddBackward0>)\n",
      "tensor(168967.1094, device='cuda:0', grad_fn=<AddBackward0>)\n",
      "tensor(179564.3906, device='cuda:0', grad_fn=<AddBackward0>)\n",
      "tensor(187187.8750, device='cuda:0', grad_fn=<AddBackward0>)\n",
      "tensor(182834.2656, device='cuda:0', grad_fn=<AddBackward0>)\n",
      "tensor(178059.5469, device='cuda:0', grad_fn=<AddBackward0>)\n",
      "tensor(195593.0469, device='cuda:0', grad_fn=<AddBackward0>)\n",
      "tensor(169751.4531, device='cuda:0', grad_fn=<AddBackward0>)\n",
      "tensor(170947.5000, device='cuda:0', grad_fn=<AddBackward0>)\n",
      "tensor(184578.3594, device='cuda:0', grad_fn=<AddBackward0>)\n",
      "tensor(166036.8750, device='cuda:0', grad_fn=<AddBackward0>)\n",
      "tensor(178036.5938, device='cuda:0', grad_fn=<AddBackward0>)\n",
      "tensor(177431.8281, device='cuda:0', grad_fn=<AddBackward0>)\n",
      "tensor(178534.6250, device='cuda:0', grad_fn=<AddBackward0>)\n",
      "tensor(178450.4375, device='cuda:0', grad_fn=<AddBackward0>)\n",
      "tensor(196678.5625, device='cuda:0', grad_fn=<AddBackward0>)\n",
      "tensor(178430.0625, device='cuda:0', grad_fn=<AddBackward0>)\n",
      "tensor(196591.2344, device='cuda:0', grad_fn=<AddBackward0>)\n",
      "tensor(180691.0781, device='cuda:0', grad_fn=<AddBackward0>)\n",
      "tensor(185045.0938, device='cuda:0', grad_fn=<AddBackward0>)\n",
      "tensor(194754.2188, device='cuda:0', grad_fn=<AddBackward0>)\n",
      "tensor(171726.8750, device='cuda:0', grad_fn=<AddBackward0>)\n",
      "tensor(161906.0312, device='cuda:0', grad_fn=<AddBackward0>)\n",
      "tensor(158749.5469, device='cuda:0', grad_fn=<AddBackward0>)\n",
      "tensor(167093.1719, device='cuda:0', grad_fn=<AddBackward0>)\n",
      "tensor(169044.7969, device='cuda:0', grad_fn=<AddBackward0>)\n",
      "tensor(151096.0625, device='cuda:0', grad_fn=<AddBackward0>)\n",
      "tensor(161442.2188, device='cuda:0', grad_fn=<AddBackward0>)\n",
      "tensor(152201.5938, device='cuda:0', grad_fn=<AddBackward0>)\n",
      "tensor(159302.4688, device='cuda:0', grad_fn=<AddBackward0>)\n",
      "tensor(148246.4375, device='cuda:0', grad_fn=<AddBackward0>)\n",
      "tensor(156204.1875, device='cuda:0', grad_fn=<AddBackward0>)\n",
      "tensor(160881.5156, device='cuda:0', grad_fn=<AddBackward0>)\n",
      "tensor(152650.6875, device='cuda:0', grad_fn=<AddBackward0>)\n",
      "tensor(150203.2344, device='cuda:0', grad_fn=<AddBackward0>)\n",
      "tensor(158063.9688, device='cuda:0', grad_fn=<AddBackward0>)\n",
      "tensor(160741.2500, device='cuda:0', grad_fn=<AddBackward0>)\n",
      "tensor(157104.6562, device='cuda:0', grad_fn=<AddBackward0>)\n",
      "tensor(156802.2969, device='cuda:0', grad_fn=<AddBackward0>)\n",
      "tensor(160832.4531, device='cuda:0', grad_fn=<AddBackward0>)\n",
      "tensor(141606.6562, device='cuda:0', grad_fn=<AddBackward0>)\n",
      "tensor(160092.6406, device='cuda:0', grad_fn=<AddBackward0>)\n",
      "tensor(157691.4688, device='cuda:0', grad_fn=<AddBackward0>)\n",
      "tensor(160918.0625, device='cuda:0', grad_fn=<AddBackward0>)\n",
      "tensor(154683.6719, device='cuda:0', grad_fn=<AddBackward0>)\n",
      "tensor(155848.5000, device='cuda:0', grad_fn=<AddBackward0>)\n",
      "tensor(149392.4375, device='cuda:0', grad_fn=<AddBackward0>)\n",
      "tensor(152357.1406, device='cuda:0', grad_fn=<AddBackward0>)\n",
      "tensor(151902.1406, device='cuda:0', grad_fn=<AddBackward0>)\n",
      "tensor(148407.4219, device='cuda:0', grad_fn=<AddBackward0>)\n",
      "tensor(152026.4375, device='cuda:0', grad_fn=<AddBackward0>)\n",
      "tensor(154576.9375, device='cuda:0', grad_fn=<AddBackward0>)\n",
      "tensor(144882.7656, device='cuda:0', grad_fn=<AddBackward0>)\n",
      "tensor(155889.5938, device='cuda:0', grad_fn=<AddBackward0>)\n"
     ]
    }
   ],
   "source": [
    "# config_defaults = {\n",
    "#     'epochs': 10,\n",
    "#     'batch_size': 256,\n",
    "#     'learning_rate': 1e-3,\n",
    "#     'optimizer': 'adam',\n",
    "#     'model': 'VisualEncoder'\n",
    "#     }\n",
    "# wandb.init(project='test_try', entity='neuro_ai',config=config_defaults)\n",
    "# config = wandb.config\n",
    "# config = config_defaults\n",
    "# optimizer = optim.Adam(model.parameters(), config.learning_rate)\n",
    "optimizer = optim.Adam(model.parameters(), 1e-3)\n",
    "criterion = torch.nn.MSELoss()\n",
    "for epoch in range(150):\n",
    "  #train\n",
    "  model.train()\n",
    "  # train_loss = []\n",
    "  for data in train_loader:\n",
    "    data/=255\n",
    "    data = data.to('cuda')\n",
    "    image_batch_recon, latent_mu, latent_logvar = model(data)\n",
    "    loss = vae_loss(image_batch_recon, data, latent_mu, latent_logvar)\n",
    "    # train_loss.append(loss.item())\n",
    "    # wandb.log({\"train_loss\":loss})\n",
    "    optimizer.zero_grad()\n",
    "    loss.backward()\n",
    "    optimizer.step()\n",
    "  # train_loss = np.array(train_loss).mean()\n",
    "  #evaluate\n",
    "  # model.eval()\n",
    "  # val_loss = []\n",
    "  # for data in val_loader:\n",
    "  #     data/=255\n",
    "  #     data = data.to('cuda')\n",
    "  #     image_batch_recon, latent_mu, latent_logvar = model(data)\n",
    "  #     loss = vae_loss(image_batch_recon, data, latent_mu, latent_logvar)\n",
    "  #     val_loss.append(loss.item())\n",
    "  # val_loss = np.array(val_loss).mean()\n",
    "  # wandb.log({'val_loss': val_loss})\n",
    "  print(loss)"
   ]
  },
  {
   "cell_type": "code",
   "execution_count": null,
   "metadata": {
    "id": "GcWL4Ez4DqzQ"
   },
   "outputs": [],
   "source": [
    "torch.save(model.encoder,'encoder_model.pth')"
   ]
  },
  {
   "cell_type": "code",
   "execution_count": null,
   "metadata": {
    "id": "9d1rZFT-Bj_H"
   },
   "outputs": [],
   "source": [
    "torch.save(model.state_dict(), 'autoencoder_weights.pth')\n",
    "torch.save(model,'autoencoder_model.pth')\n",
    "torch.save(model.encoder.state_dict(),'encoder_weigths.pth')"
   ]
  },
  {
   "cell_type": "code",
   "execution_count": null,
   "metadata": {
    "colab": {
     "base_uri": "https://localhost:8080/"
    },
    "id": "i3qb5isM-YP1",
    "outputId": "efbd7800-c972-44d2-d2d2-baabee5042ef"
   },
   "outputs": [
    {
     "data": {
      "text/plain": [
       "VisualEncoder(\n",
       "  (cnn): Sequential(\n",
       "    (0): Conv2d(3, 32, kernel_size=(8, 8), stride=(4, 4))\n",
       "    (1): ReLU()\n",
       "    (2): Conv2d(32, 64, kernel_size=(4, 4), stride=(2, 2))\n",
       "    (3): ReLU()\n",
       "    (4): Conv2d(64, 64, kernel_size=(3, 3), stride=(1, 1))\n",
       "    (5): ReLU()\n",
       "    (6): Flatten(start_dim=1, end_dim=-1)\n",
       "  )\n",
       "  (linear): Sequential(\n",
       "    (0): Linear(in_features=1024, out_features=512, bias=True)\n",
       "    (1): ReLU()\n",
       "  )\n",
       ")"
      ]
     },
     "execution_count": 14,
     "metadata": {},
     "output_type": "execute_result"
    }
   ],
   "source": [
    "torch.load('encoder_model.pth')"
   ]
  },
  {
   "cell_type": "code",
   "execution_count": 14,
   "metadata": {
    "colab": {
     "base_uri": "https://localhost:8080/"
    },
    "id": "6owj_MRM8gic",
    "outputId": "a32b39c4-cff6-465a-a6df-0178a8d7cdc4"
   },
   "outputs": [
    {
     "name": "stderr",
     "output_type": "stream",
     "text": [
      "/usr/local/lib/python3.7/dist-packages/torch/utils/data/dataloader.py:481: UserWarning: This DataLoader will create 4 worker processes in total. Our suggested max number of worker in current system is 2, which is smaller than what this DataLoader is going to create. Please be aware that excessive worker creation might get DataLoader running slow or even freeze, lower the worker number to avoid potential slowness/freeze if necessary.\n",
      "  cpuset_checked))\n"
     ]
    },
    {
     "name": "stdout",
     "output_type": "stream",
     "text": [
      "torch.Size([256, 3, 64, 64])\n"
     ]
    }
   ],
   "source": [
    "for data in train_loader:\n",
    "  print(data.shape)\n",
    "  data = data.to('cuda')\n",
    "  tensor_to_pil = transforms.ToPILImage()(data[24,:,:,:].squeeze_(0)/255)\n",
    "  image_batch_recon, latent_mu, latent_logvar = model(data/255)\n",
    "  predict_to_pil = transforms.ToPILImage()(image_batch_recon[24,:,:,:].squeeze_(0))\n",
    "  break"
   ]
  },
  {
   "cell_type": "code",
   "execution_count": 15,
   "metadata": {
    "colab": {
     "base_uri": "https://localhost:8080/",
     "height": 285
    },
    "id": "mS8pfku86pnf",
    "outputId": "41319aa6-0011-4c2d-8e76-3f9c1fe4d860"
   },
   "outputs": [
    {
     "data": {
      "text/plain": [
       "<matplotlib.image.AxesImage at 0x7f840b6d2a50>"
      ]
     },
     "execution_count": 15,
     "metadata": {},
     "output_type": "execute_result"
    },
    {
     "data": {
      "image/png": "[encoded data removed]",
      "text/plain": [
       "<Figure size 432x288 with 1 Axes>"
      ]
     },
     "metadata": {
      "needs_background": "light"
     },
     "output_type": "display_data"
    }
   ],
   "source": [
    "plt.imshow(tensor_to_pil)"
   ]
  },
  {
   "cell_type": "code",
   "execution_count": 16,
   "metadata": {
    "colab": {
     "base_uri": "https://localhost:8080/",
     "height": 285
    },
    "id": "BBg_vqlA6uPm",
    "outputId": "8847bcba-e3d6-4d89-e078-811dc75229e7"
   },
   "outputs": [
    {
     "data": {
      "text/plain": [
       "<matplotlib.image.AxesImage at 0x7f840b7a9f90>"
      ]
     },
     "execution_count": 16,
     "metadata": {},
     "output_type": "execute_result"
    },
    {
     "data": {
      "image/png": "[encoded data removed]",
      "text/plain": [
       "<Figure size 432x288 with 1 Axes>"
      ]
     },
     "metadata": {
      "needs_background": "light"
     },
     "output_type": "display_data"
    }
   ],
   "source": [
    "plt.imshow(predict_to_pil)"
   ]
  }
 ],
 "metadata": {
  "accelerator": "GPU",
  "colab": {
   "collapsed_sections": [],
   "name": "VisualAutoencoder.ipynb",
   "provenance": []
  },
  "kernelspec": {
   "display_name": "Python 3 (ipykernel)",
   "language": "python",
   "name": "python3"
  },
  "language_info": {
   "codemirror_mode": {
    "name": "ipython",
    "version": 3
   },
   "file_extension": ".py",
   "mimetype": "text/x-python",
   "name": "python",
   "nbconvert_exporter": "python",
   "pygments_lexer": "ipython3",
   "version": "3.8.4"
  }
 },
 "nbformat": 4,
 "nbformat_minor": 1
}
