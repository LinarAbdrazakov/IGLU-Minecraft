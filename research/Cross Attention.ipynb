{
 "cells": [
  {
   "cell_type": "code",
   "execution_count": 1,
   "id": "195a87ab",
   "metadata": {},
   "outputs": [],
   "source": [
    "import torch \n",
    "from torch import nn"
   ]
  },
  {
   "cell_type": "code",
   "execution_count": 103,
   "id": "3e7b0d95",
   "metadata": {},
   "outputs": [],
   "source": [
    "class TransformerEncoderLayer(nn.Module):\n",
    "    def __init__(self, d_model, num_heads, dim_feedforward=None, activation=nn.ReLU):\n",
    "        super().__init__()\n",
    "        if dim_feedforward is None:\n",
    "            dim_feedforward = 4 * d_model\n",
    "        self.self_attn = nn.MultiheadAttention(d_model, num_heads, dropout=0.0, batch_first=True)\n",
    "        # Implementation of feedforward model\n",
    "        self.linear1 = nn.Linear(d_model, dim_feedforward)\n",
    "        self.linear2 = nn.Linear(dim_feedforward, d_model)\n",
    "        self.activation = activation()\n",
    "        \n",
    "    def forward(self, query, key, value):\n",
    "        src = query\n",
    "        src2 = self.self_attn(query=query, key=key, value=value)[0]\n",
    "        src = src + src2\n",
    "        src2 = self.linear2(self.activation(self.linear1(src2)))\n",
    "        src = src + src2\n",
    "        return src"
   ]
  },
  {
   "cell_type": "code",
   "execution_count": 127,
   "id": "c034b323",
   "metadata": {},
   "outputs": [],
   "source": [
    "class FusionNet(nn.Module):\n",
    "    def __init__(self, d_model=8, num_heads=1):\n",
    "        super().__init__()\n",
    "        self.target_cross_attn_1 = TransformerEncoderLayer(d_model=d_model, num_heads=num_heads)\n",
    "        self.img_cross_attn_1 = TransformerEncoderLayer(d_model=d_model, num_heads=num_heads)\n",
    "        self.conv_1 = nn.Conv3d(d_model, 2 * d_model, kernel_size=3, stride=1)\n",
    "        self.act_1 = nn.ELU()\n",
    "        \n",
    "        self.target_cross_attn_2 = TransformerEncoderLayer(d_model=2 * d_model, num_heads=num_heads)\n",
    "        self.img_cross_attn_2 = TransformerEncoderLayer(d_model=2 * d_model, num_heads=num_heads)\n",
    "        self.conv_2 = nn.Conv3d(2 * d_model, 4 * d_model, kernel_size=3, stride=1)\n",
    "        self.act_2 = nn.ELU()\n",
    "        \n",
    "        self.target_cross_attn_3 = TransformerEncoderLayer(d_model=4 * d_model, num_heads=num_heads)\n",
    "        self.img_cross_attn_3 = TransformerEncoderLayer(d_model=4 * d_model, num_heads=num_heads)\n",
    "        self.conv_3 = nn.Conv3d(4 * d_model, 8 * d_model, kernel_size=3, stride=1)\n",
    "        self.act_3 = nn.ELU()\n",
    "        \n",
    "        self.target_cross_attn_4 = TransformerEncoderLayer(d_model=8 * d_model, num_heads=num_heads)\n",
    "        self.img_cross_attn_4 = TransformerEncoderLayer(d_model=8 * d_model, num_heads=num_heads)\n",
    "        self.conv_4 = nn.Conv3d(8 * d_model, 16 * d_model, kernel_size=3, stride=1)\n",
    "        self.act_4 = nn.ELU()\n",
    "        \n",
    "        self.fusion_head = nn.Sequential(\n",
    "            nn.Linear(9 * 128 + 512, 1024),\n",
    "            nn.ELU(),\n",
    "            nn.Linear(1024, 512),\n",
    "            nn.ELU(),\n",
    "            nn.Linear(512, 256),\n",
    "            nn.ELU(),\n",
    "            nn.Linear(256, 256),\n",
    "            nn.ELU(),\n",
    "        )\n",
    "        \n",
    "        \n",
    "    def forward(self, target, img_features):\n",
    "        batch_size = target.shape[0]\n",
    "        \n",
    "        # layer 1\n",
    "        target = target.permute(0, 2, 3, 4, 1).reshape(batch_size, 9*11*11, 8)\n",
    "        img = img_features.reshape(batch_size, 64, 8)\n",
    "        target_1 = self.target_cross_attn_1(query=target, key=img, value=img)\n",
    "        img_1 = self.img_cross_attn_1(query=img, key=target, value=target)\n",
    "        target_1 = target_1.reshape(batch_size, 9, 11, 11, 8).permute(0, 4, 1, 2, 3)\n",
    "        target_1 = self.act_1(self.conv_1(target_1))\n",
    "        img_1 = img_1.reshape(batch_size, 512)\n",
    "        \n",
    "        # layer 2\n",
    "        target_1 = target_1.permute(0, 2, 3, 4, 1).reshape(batch_size, 7*9*9, 16)\n",
    "        img_1 = img_1.reshape(batch_size, 32, 16)\n",
    "        target_2 = self.target_cross_attn_2(query=target_1, key=img_1, value=img_1)\n",
    "        img_2 = self.img_cross_attn_2(query=img_1, key=target_1, value=target_1)\n",
    "        target_2 = target_2.reshape(batch_size, 7, 9, 9, 16).permute(0, 4, 1, 2, 3)\n",
    "        target_2 = self.act_2(self.conv_2(target_2))\n",
    "        img_2 = img_2.reshape(batch_size, 512)\n",
    "        \n",
    "        # layer 3\n",
    "        target_2 = target_2.permute(0, 2, 3, 4, 1).reshape(batch_size, 5*7*7, 32)\n",
    "        img_2 = img_2.reshape(batch_size, 16, 32)\n",
    "        target_3 = self.target_cross_attn_3(query=target_2, key=img_2, value=img_2)\n",
    "        img_3 = self.img_cross_attn_3(query=img_2, key=target_2, value=target_2)\n",
    "        target_3 = target_3.reshape(batch_size, 5, 7, 7, 32).permute(0, 4, 1, 2, 3)\n",
    "        target_3 = self.act_3(self.conv_3(target_3))\n",
    "        img_3 = img_3.reshape(batch_size, 512)\n",
    "        \n",
    "        # layer 4\n",
    "        target_3 = target_3.permute(0, 2, 3, 4, 1).reshape(batch_size, 3*5*5, 64)\n",
    "        img_3 = img_3.reshape(batch_size, 8, 64)\n",
    "        target_4 = self.target_cross_attn_4(query=target_3, key=img_3, value=img_3)\n",
    "        img_4 = self.img_cross_attn_4(query=img_3, key=target_3, value=target_3)\n",
    "        target_4 = target_4.reshape(batch_size, 3, 5, 5, 64).permute(0, 4, 1, 2, 3)\n",
    "        target_4 = self.act_4(self.conv_4(target_4))\n",
    "        img_4 = img_4.reshape(batch_size, 512)\n",
    "        \n",
    "        features = torch.cat([target_4.reshape(batch_size, -1), img_4.reshape(batch_size, -1)], dim=1)\n",
    "        features = self.fusion_head(features)\n",
    "        \n",
    "        return features"
   ]
  },
  {
   "cell_type": "code",
   "execution_count": 119,
   "id": "5c754d15",
   "metadata": {},
   "outputs": [],
   "source": [
    "net = FusionNet()"
   ]
  },
  {
   "cell_type": "code",
   "execution_count": 120,
   "id": "01bdcae2",
   "metadata": {},
   "outputs": [],
   "source": [
    "target = torch.rand(1, 8, 9, 11, 11)\n",
    "img = torch.rand(1, 512)\n",
    "res = net(target, img)"
   ]
  },
  {
   "cell_type": "code",
   "execution_count": 121,
   "id": "440dc9ab",
   "metadata": {},
   "outputs": [
    {
     "data": {
      "text/plain": [
       "torch.Size([1, 256])"
      ]
     },
     "execution_count": 121,
     "metadata": {},
     "output_type": "execute_result"
    }
   ],
   "source": [
    "res.shape"
   ]
  },
  {
   "cell_type": "code",
   "execution_count": 122,
   "id": "99b1f485",
   "metadata": {},
   "outputs": [
    {
     "data": {
      "text/plain": [
       "2853600"
      ]
     },
     "execution_count": 122,
     "metadata": {},
     "output_type": "execute_result"
    }
   ],
   "source": [
    "sum(p.numel() for p in net.parameters())"
   ]
  },
  {
   "cell_type": "code",
   "execution_count": null,
   "id": "b20e0628",
   "metadata": {},
   "outputs": [],
   "source": []
  },
  {
   "cell_type": "code",
   "execution_count": null,
   "id": "5a2c0443",
   "metadata": {},
   "outputs": [],
   "source": []
  },
  {
   "cell_type": "code",
   "execution_count": 3,
   "id": "dc8bd240",
   "metadata": {},
   "outputs": [],
   "source": [
    "d_model = 7\n",
    "num_heads = 1\n",
    "\n",
    "target_cross_attn = nn.MultiheadAttention(d_model, num_heads, dropout=0.0, batch_first=True)\n",
    "img_cross_attn = nn.MultiheadAttention(d_model, num_heads, dropout=0.0, batch_first=True)\n",
    "conv = nn.Conv3d(7, 7, kernel_size=3, stride=1)"
   ]
  },
  {
   "cell_type": "code",
   "execution_count": 5,
   "id": "6c750d9f",
   "metadata": {},
   "outputs": [],
   "source": [
    "target = torch.rand(1, 9*11*11, d_model)\n",
    "img = torch.rand(1, 50, d_model)"
   ]
  },
  {
   "cell_type": "code",
   "execution_count": 9,
   "id": "68618e9c",
   "metadata": {},
   "outputs": [],
   "source": [
    "target_2 = target_cross_attn(query=target, \n",
    "                             key=img, \n",
    "                             value=img)[0]\n",
    "\n",
    "img_2 = target_cross_attn(query=img, \n",
    "                          key=target, \n",
    "                          value=target)[0]"
   ]
  },
  {
   "cell_type": "code",
   "execution_count": 12,
   "id": "bc0baa84",
   "metadata": {},
   "outputs": [
    {
     "data": {
      "text/plain": [
       "torch.Size([1, 1089, 7])"
      ]
     },
     "execution_count": 12,
     "metadata": {},
     "output_type": "execute_result"
    }
   ],
   "source": [
    "target_2.shape"
   ]
  },
  {
   "cell_type": "code",
   "execution_count": null,
   "id": "c8324901",
   "metadata": {},
   "outputs": [],
   "source": []
  }
 ],
 "metadata": {
  "kernelspec": {
   "display_name": "Python 3 (ipykernel)",
   "language": "python",
   "name": "python3"
  },
  "language_info": {
   "codemirror_mode": {
    "name": "ipython",
    "version": 3
   },
   "file_extension": ".py",
   "mimetype": "text/x-python",
   "name": "python",
   "nbconvert_exporter": "python",
   "pygments_lexer": "ipython3",
   "version": "3.7.3"
  }
 },
 "nbformat": 4,
 "nbformat_minor": 5
}
