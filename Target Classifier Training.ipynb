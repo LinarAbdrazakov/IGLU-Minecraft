{
 "cells": [
  {
   "cell_type": "code",
   "execution_count": 3,
   "id": "8700f22a",
   "metadata": {},
   "outputs": [
    {
     "name": "stdout",
     "output_type": "stream",
     "text": [
      "The autoreload extension is already loaded. To reload it, use:\n",
      "  %reload_ext autoreload\n"
     ]
    }
   ],
   "source": [
    "%load_ext autoreload\n",
    "%autoreload 2\n",
    "\n",
    "import gym\n",
    "import iglu\n",
    "from tqdm.notebook import tqdm\n",
    "import matplotlib.pyplot as plt\n",
    "from IPython.display import clear_output\n",
    "from PIL import Image\n",
    "import numpy as np\n",
    "import torch\n",
    "from torch.nn.functional import one_hot\n",
    "\n",
    "from iglu.tasks import RandomTasks\n",
    "from iglu.tasks.task_set import TaskSet"
   ]
  },
  {
   "cell_type": "code",
   "execution_count": 4,
   "id": "5536b2e6",
   "metadata": {},
   "outputs": [
    {
     "name": "stdout",
     "output_type": "stream",
     "text": [
      "C1: bell (29 blocks, 5 colors)\n",
      "C2: black-hole (28 blocks, 2 colors)\n",
      "C3: blue-original-L (3 blocks, 1 colors)\n",
      "C4: flower_new (17 blocks, 4 colors)\n",
      "C5: overlapping-chain-links (20 blocks, 2 colors)\n",
      "C6: rectangle-chain (40 blocks, 4 colors)\n",
      "C7: scissors (23 blocks, 2 colors)\n",
      "C8: table2 (12 blocks, 2 colors)\n",
      "C9: asterisk (33 blocks, 2 colors)\n",
      "C10: concentric_semicircles (21 blocks, 3 colors)\n",
      "C11: broken_heart (21 blocks, 2 colors)\n",
      "C12: diagonal-Ls (18 blocks, 6 colors)\n",
      "C13: eye (29 blocks, 3 colors)\n",
      "C14: diagonal-zigzag (16 blocks, 3 colors)\n",
      "C15: double_stairs (36 blocks, 4 colors)\n",
      "C16: bloody-sword (24 blocks, 4 colors)\n",
      "C17: orange-flat-original-L (3 blocks, 1 colors)\n",
      "C18: overlapping-reticles (12 blocks, 3 colors)\n",
      "C19: slide_with_arch (48 blocks, 3 colors)\n",
      "C20: rainbow-lasso (9 blocks, 6 colors)\n",
      "C21: spectacles (29 blocks, 2 colors)\n",
      "C22: smiley (6 blocks, 5 colors)\n",
      "C23: suspension_bridge (68 blocks, 4 colors)\n",
      "C24: cup (46 blocks, 4 colors)\n",
      "C25: music-notes (18 blocks, 2 colors)\n",
      "C26: rainbow-diagonal-stack (15 blocks, 6 colors)\n",
      "C27: funny-Ts (25 blocks, 4 colors)\n",
      "C28: duck (21 blocks, 2 colors)\n",
      "C29: tetris (20 blocks, 5 colors)\n",
      "C30: 3d-triangle (20 blocks, 6 colors)\n",
      "C31: hot (20 blocks, 3 colors)\n",
      "C32: bigger-original-L (5 blocks, 1 colors)\n",
      "C33: connected_diamonds_with_missing_blocks (14 blocks, 2 colors)\n",
      "C34: complex_five (13 blocks, 3 colors)\n",
      "C35: strange-triangles (20 blocks, 6 colors)\n",
      "C36: street_lamps (31 blocks, 3 colors)\n",
      "C37: embedded_fives (56 blocks, 6 colors)\n",
      "C38: l-shape\n",
      "C39: three-squares (24 blocks, 3 colors)\n",
      "C40: cross-stack (9 blocks, 6 colors)\n",
      "C41: multiple_concepts (19 blocks, 3 colors)\n",
      "C42: rubiks (18 blocks, 4 colors)\n",
      "C43: girl_with_frock (29 blocks, 3 colors)\n",
      "C44: hollow_diseased_rectangle (19 blocks, 4 colors)\n",
      "C45: u-3 (14 blocks, 2 colors)\n",
      "C46: wtf (11 blocks, 6 colors)\n",
      "C47: staircase (18 blocks, 3 colors)\n",
      "C48: umbrella (37 blocks, 4 colors)\n",
      "C49: letter-cube (36 blocks, 4 colors)\n",
      "C50: 3d-x_s (15 blocks, 3 colors)\n",
      "C51: interlocking-magnets (16 blocks, 4 colors)\n",
      "C52: hut_and_trees (31 blocks, 3 colors)\n",
      "C53: funny-cube (20 blocks, 4 colors)\n",
      "C54: 3d-diagonals (10 blocks, 3 colors)\n",
      "C55: chains (19 blocks, 3 colors)\n",
      "C56: color-wheel (25 blocks, 4 colors)\n",
      "C57: four-three (17 blocks, 2 colors)\n",
      "C58: ducks_in_pool (24 blocks, 2 colors)\n",
      "C59: parallel-bars (20 blocks, 4 colors)\n",
      "C60: diagonal-2 (20 blocks, 6 colors)\n",
      "C61: chair2 (19 blocks, 2 colors)\n",
      "C62: chair3 (32 blocks, 3 colors)\n",
      "C63: question (6 blocks, 1 colors)\n",
      "C64: torch (17 blocks, 2 colors)\n",
      "C65: superhero (15 blocks, 3 colors)\n",
      "C66: connected_triangles (30 blocks, 3 colors)\n",
      "C67: storm-cloud (25 blocks, 2 colors)\n",
      "C68: christmas-tree (25 blocks, 6 colors)\n",
      "C69: pickup_truck (38 blocks, 5 colors)\n",
      "C70: random_snake (29 blocks, 2 colors)\n",
      "C71: connected_rows_with_missing_blocks (15 blocks, 4 colors)\n",
      "C72: cat (37 blocks, 4 colors)\n",
      "C73: x_equals_y (18 blocks, 3 colors)\n",
      "C74: random_objects (14 blocks, 4 colors)\n",
      "C75: creative-five (11 blocks, 6 colors)\n",
      "C76: double_tripod (16 blocks, 5 colors)\n",
      "C77: 3d-maze (40 blocks, 5 colors)\n",
      "C78: random_objects_2 (24 blocks, 3 colors)\n",
      "C79: connected_crosses (25 blocks, 4 colors)\n",
      "C80: lunging-man (17 blocks, 4 colors)\n",
      "C81: cube-x (17 blocks, 3 colors)\n",
      "C82: eiffel-tower (40 blocks, 4 colors)\n",
      "C83: pyramid-table (33 blocks, 4 colors)\n",
      "C84: trident (13 blocks, 2 colors)\n",
      "C85: upvote (9 blocks, 2 colors)\n",
      "C86: butterfly (24 blocks, 3 colors)\n",
      "C87: sickles (10 blocks, 1 colors)\n",
      "C88: sun_and_birds (19 blocks, 2 colors)\n",
      "C89: m-and-m (23 blocks, 2 colors)\n",
      "C90: wind-farm (30 blocks, 4 colors)\n",
      "C91: castle (41 blocks, 5 colors)\n",
      "C92: cherries (16 blocks, 2 colors)\n",
      "C93: L-back-to-back (8 blocks, 2 colors)\n",
      "C94: disappearing-tunnel (35 blocks, 6 colors)\n",
      "C95: chimney (26 blocks, 3 colors)\n",
      "C96: four-corners (16 blocks, 4 colors)\n",
      "C97: omega-u-corner (14 blocks, 2 colors)\n",
      "C98: insects (24 blocks, 6 colors)\n",
      "C99: keys (35 blocks, 2 colors)\n",
      "C100: wannabe_olympic_rings (42 blocks, 4 colors)\n",
      "C101: connected_tunnels (39 blocks, 3 colors)\n",
      "C102: man_on_broom (16 blocks, 4 colors)\n",
      "C103: rotating_chair (19 blocks, 1 colors)\n",
      "C104: clothesline (36 blocks, 2 colors)\n",
      "C105: lol_ethylene (34 blocks, 3 colors)\n",
      "C106: minimal_tree (18 blocks, 2 colors)\n",
      "C107: colorful_alien (20 blocks, 3 colors)\n",
      "C108: illinois-i (29 blocks, 2 colors)\n",
      "C109: waving-flag (11 blocks, 2 colors)\n",
      "C110: color-loop (16 blocks, 4 colors)\n",
      "C111: color-cube (16 blocks, 4 colors)\n",
      "C112: color-spiral (33 blocks, 5 colors)\n",
      "C113: numbers (43 blocks, 4 colors)\n",
      "C114: e3 (18 blocks, 2 colors)\n",
      "C115: hollow_stools (23 blocks, 4 colors)\n",
      "C116: diagonal_arch_and_triangle (17 blocks, 4 colors)\n",
      "C117: pyramid_with_horns (20 blocks, 4 colors)\n",
      "C118: random_objects_3 (12 blocks, 2 colors)\n",
      "C119: funny_chair (38 blocks, 3 colors)\n",
      "C120: h_1_plus (14 blocks, 2 colors)\n",
      "C121: 2d_giraffe (19 blocks, 3 colors)\n",
      "C122: funny_bird (25 blocks, 4 colors)\n",
      "C123: footballer (26 blocks, 3 colors)\n",
      "C124: connected_triangles_2 (29 blocks, 3 colors)\n",
      "C125: fail_hourglass (22 blocks, 3 colors)\n",
      "C126: teapot (20 blocks, 2 colors)\n",
      "C127: backpack (26 blocks, 3 colors)\n",
      "C128: weird_chain (16 blocks, 4 colors)\n",
      "C129: rhombuses_with_ring (34 blocks, 3 colors)\n",
      "C130: differently_oriented_squares (24 blocks, 2 colors)\n",
      "C131: table_with_objects (35 blocks, 6 colors)\n",
      "C132: diagonal_slab_with_pattern (20 blocks, 2 colors)\n",
      "C133: adjacent_gates (28 blocks, 3 colors)\n",
      "C134: parachute (28 blocks, 6 colors)\n",
      "C135: bent-arrow (11 blocks, 1 colors)\n",
      "C136: waving-man (17 blocks, 4 colors)\n",
      "C137: no-u-turn (39 blocks, 2 colors)\n",
      "C138: color-Us (42 blocks, 6 colors)\n",
      "C139: minimalistic-mouse (16 blocks, 3 colors)\n",
      "C140: weird-rows (28 blocks, 4 colors)\n",
      "C141: dancing-banana (19 blocks, 4 colors)\n",
      "C142: potted-weeds (28 blocks, 3 colors)\n",
      "C143: drooping-flower (21 blocks, 5 colors)\n",
      "C144: curly-R (20 blocks, 3 colors)\n",
      "C145: pulse (18 blocks, 1 colors)\n",
      "C146: boxy-to-diagonal (17 blocks, 5 colors)\n",
      "C147: pi (26 blocks, 4 colors)\n",
      "C148: headphones (40 blocks, 4 colors)\n",
      "C149: drink-with-umbrella (37 blocks, 4 colors)\n",
      "C150: checkerboard (16 blocks, 6 colors)\n",
      "C151: hanger (16 blocks, 3 colors)\n",
      "C152: ballerina (23 blocks, 3 colors)\n",
      "C153: cursive-ok (27 blocks, 2 colors)\n",
      "C154: gateway-to-stairs (52 blocks, 6 colors)\n",
      "C155: sickles-difficult (24 blocks, 2 colors)\n",
      "C156: sun_and_birds-difficult (19 blocks, 2 colors)\n",
      "C157: butterfly-difficult (24 blocks, 3 colors)\n"
     ]
    }
   ],
   "source": [
    "print('\\n'.join(f'{k}: {v}' for k, v in TaskSet.ALL.items()))"
   ]
  },
  {
   "cell_type": "code",
   "execution_count": 8,
   "id": "81abfa7a",
   "metadata": {},
   "outputs": [
    {
     "name": "stdout",
     "output_type": "stream",
     "text": [
      "Generation of training dataset\n"
     ]
    }
   ],
   "source": [
    "target_list = []\n",
    "label_list = []\n",
    "\n",
    "print(\"Generation of training dataset\")\n",
    "for key, v in TaskSet.ALL.items():\n",
    "    if key == 'C38': continue\n",
    "    target = TaskSet(preset=[key]).sample().target_grid\n",
    "    target_list.append(target)\n",
    "    label_list.append(key)"
   ]
  },
  {
   "cell_type": "code",
   "execution_count": 12,
   "id": "8d23714e",
   "metadata": {},
   "outputs": [],
   "source": [
    "from torch.utils.data import Dataset\n",
    "from torch.utils.data import DataLoader\n",
    "\n",
    "class TargetDataset(Dataset):\n",
    "    def __init__(self, target_list, label_list):\n",
    "        self.target_list = target_list\n",
    "        self.label_list = label_list\n",
    "\n",
    "    def __len__(self):\n",
    "        return len(self.target_list)\n",
    "\n",
    "    def __getitem__(self, idx):\n",
    "        target = self.target_list[idx]\n",
    "        target_tensor_target = torch.tensor(target, dtype=torch.long)\n",
    "        target_tensor_input = one_hot(torch.tensor(target, dtype=torch.long), num_classes=7).permute(3, 0, 1, 2)\n",
    "        label_tensor = torch.tensor(idx, dtype=torch.long)\n",
    "        return target_tensor_input, label_tensor\n",
    "    \n",
    "training_dataset = TargetDataset(target_list, label_list)"
   ]
  },
  {
   "cell_type": "code",
   "execution_count": 14,
   "id": "2ad0a278",
   "metadata": {},
   "outputs": [],
   "source": [
    "train_dataloader = DataLoader(training_dataset, batch_size=156, shuffle=True)"
   ]
  },
  {
   "cell_type": "code",
   "execution_count": 25,
   "id": "6549e04c",
   "metadata": {},
   "outputs": [],
   "source": [
    "# Training procedure\n",
    "from tqdm.notebook import tqdm\n",
    "\n",
    "import torch\n",
    "from torch import nn\n",
    "from torch import optim\n",
    "\n",
    "device = torch.device('cuda')\n",
    "\n",
    "class TargetEncoder(nn.Module):\n",
    "    def __init__(self, features_dim=512):\n",
    "        super(TargetEncoder, self).__init__()\n",
    "\n",
    "        # input (7, 9, 11, 11)\n",
    "\n",
    "        self.cnn = nn.Sequential(\n",
    "            nn.Conv3d(7, 32, kernel_size=3, stride=1, padding=0),\n",
    "            nn.ReLU(),\n",
    "            nn.Conv3d(32, 64, kernel_size=3, stride=1, padding=1),\n",
    "            nn.ReLU(),\n",
    "            nn.Conv3d(64, 64, kernel_size=3),\n",
    "            nn.ReLU(),\n",
    "            nn.Flatten()\n",
    "        )\n",
    "\n",
    "        self.linear = nn.Sequential(nn.Linear(15680, features_dim), nn.ReLU())\n",
    "\n",
    "    def forward(self, x):\n",
    "        return self.linear(self.cnn(x))\n",
    "\n",
    "\n",
    "class TargetDecoder(nn.Module):\n",
    "    def __init__(self, features_dim=512):\n",
    "        super(TargetDecoder, self).__init__()\n",
    "\n",
    "        self.linear = nn.Sequential(nn.Linear(features_dim, 15680))\n",
    "\n",
    "        self.cnn = nn.Sequential(\n",
    "            nn.ConvTranspose3d(64, 64, kernel_size=3),\n",
    "            nn.ReLU(),\n",
    "            nn.ConvTranspose3d(64, 32, kernel_size=3, padding=1),\n",
    "            nn.ReLU(), \n",
    "            nn.ConvTranspose3d(32, 7, kernel_size=3),\n",
    "            nn.Tanh()\n",
    "        )\n",
    "\n",
    "    def forward(self, x):\n",
    "        x = self.linear(x)\n",
    "        x = x.reshape(x.shape[0], 64, 5, 7, 7)\n",
    "        x = self.cnn(x)\n",
    "        return x\n",
    "\n",
    "class TargetAutoencoder(nn.Module):\n",
    "    def __init__(self):\n",
    "        super(TargetAutoencoder, self).__init__()\n",
    "        self.encoder = TargetEncoder(2024)\n",
    "        self.decoder = TargetDecoder(2024)\n",
    "        \n",
    "    def forward(self, x):\n",
    "        x = self.encoder(x)\n",
    "        x = self.decoder(x)\n",
    "        return x\n",
    "    \n",
    "class TargetClassifier(nn.Module):\n",
    "    def __init__(self):\n",
    "        super(TargetClassifier, self).__init__()\n",
    "        self.encoder = TargetEncoder(1024)\n",
    "        self.linear = nn.Linear(1024, 156)\n",
    "        \n",
    "    def forward(self, x):\n",
    "        x = self.encoder(x)\n",
    "        x = self.linear(x)\n",
    "        return x\n",
    "    \n",
    "\n",
    "#target_autoencoder = TargetAutoencoder().to(device)\n",
    "target_classifier = TargetClassifier().to(device)\n",
    "optimizer = optim.Adam(target_classifier.parameters(), lr=1e-4)\n",
    "loss_function = nn.CrossEntropyLoss()"
   ]
  },
  {
   "cell_type": "code",
   "execution_count": 26,
   "id": "e509e2e8",
   "metadata": {},
   "outputs": [
    {
     "data": {
      "text/html": [
       "Finishing last run (ID:1jhdwgu8) before initializing another..."
      ],
      "text/plain": [
       "<IPython.core.display.HTML object>"
      ]
     },
     "metadata": {},
     "output_type": "display_data"
    },
    {
     "data": {
      "text/html": [
       "<br/>Waiting for W&B process to finish, PID 328<br/>Program ended successfully."
      ],
      "text/plain": [
       "<IPython.core.display.HTML object>"
      ]
     },
     "metadata": {},
     "output_type": "display_data"
    },
    {
     "data": {
      "application/vnd.jupyter.widget-view+json": {
       "model_id": "",
       "version_major": 2,
       "version_minor": 0
      },
      "text/plain": [
       "VBox(children=(Label(value=' 0.00MB of 0.00MB uploaded (0.00MB deduped)\\r'), FloatProgress(value=1.0, max=1.0)…"
      ]
     },
     "metadata": {},
     "output_type": "display_data"
    },
    {
     "data": {
      "text/html": [
       "Find user logs for this run at: <code>/IGLU-Minecraft/wandb/run-20210927_131438-1jhdwgu8/logs/debug.log</code>"
      ],
      "text/plain": [
       "<IPython.core.display.HTML object>"
      ]
     },
     "metadata": {},
     "output_type": "display_data"
    },
    {
     "data": {
      "text/html": [
       "Find internal logs for this run at: <code>/IGLU-Minecraft/wandb/run-20210927_131438-1jhdwgu8/logs/debug-internal.log</code>"
      ],
      "text/plain": [
       "<IPython.core.display.HTML object>"
      ]
     },
     "metadata": {},
     "output_type": "display_data"
    },
    {
     "data": {
      "text/html": [
       "<h3>Run summary:</h3><br/><style>\n",
       "    table.wandb td:nth-child(1) { padding: 0 10px; text-align: right }\n",
       "    </style><table class=\"wandb\">\n",
       "<tr><td>train_acc</td><td>1.0</td></tr><tr><td>train_loss</td><td>0.0</td></tr></table>"
      ],
      "text/plain": [
       "<IPython.core.display.HTML object>"
      ]
     },
     "metadata": {},
     "output_type": "display_data"
    },
    {
     "data": {
      "text/html": [
       "<h3>Run history:</h3><br/><style>\n",
       "    table.wandb td:nth-child(1) { padding: 0 10px; text-align: right }\n",
       "    </style><table class=\"wandb\">\n",
       "<tr><td>train_acc</td><td>▁▁▁▁▁▁▁▁▁▁▁▁▁▁▁▁▁▁▁▁▁▁▁▁▁▁▁▁▁▁▁▁▁▁▁▁▁▁▁▁</td></tr><tr><td>train_loss</td><td>██▇▇▇▇▆▆▆▆▅▅▅▅▄▄▄▄▄▄▃▃▃▃▃▃▂▂▂▂▂▂▂▂▂▁▁▁▁▁</td></tr></table><br/>"
      ],
      "text/plain": [
       "<IPython.core.display.HTML object>"
      ]
     },
     "metadata": {},
     "output_type": "display_data"
    },
    {
     "data": {
      "text/html": [
       "Synced 5 W&B file(s), 0 media file(s), 0 artifact file(s) and 0 other file(s)"
      ],
      "text/plain": [
       "<IPython.core.display.HTML object>"
      ]
     },
     "metadata": {},
     "output_type": "display_data"
    },
    {
     "data": {
      "text/html": [
       "\n",
       "                    <br/>Synced <strong style=\"color:#cdcd00\">deft-valley-70</strong>: <a href=\"https://wandb.ai/linar/IGLU-Minecraft/runs/1jhdwgu8\" target=\"_blank\">https://wandb.ai/linar/IGLU-Minecraft/runs/1jhdwgu8</a><br/>\n",
       "                "
      ],
      "text/plain": [
       "<IPython.core.display.HTML object>"
      ]
     },
     "metadata": {},
     "output_type": "display_data"
    },
    {
     "data": {
      "text/html": [
       "...Successfully finished last run (ID:1jhdwgu8). Initializing new run:<br/><br/>"
      ],
      "text/plain": [
       "<IPython.core.display.HTML object>"
      ]
     },
     "metadata": {},
     "output_type": "display_data"
    },
    {
     "data": {
      "text/html": [
       "\n",
       "                Tracking run with wandb version 0.12.2<br/>\n",
       "                Syncing run <strong style=\"color:#cdcd00\">fast-snow-71</strong> to <a href=\"https://wandb.ai\" target=\"_blank\">Weights & Biases</a> <a href=\"https://docs.wandb.com/integrations/jupyter.html\" target=\"_blank\">(Documentation)</a>.<br/>\n",
       "                Project page: <a href=\"https://wandb.ai/linar/IGLU-Minecraft\" target=\"_blank\">https://wandb.ai/linar/IGLU-Minecraft</a><br/>\n",
       "                Run page: <a href=\"https://wandb.ai/linar/IGLU-Minecraft/runs/19a3wrae\" target=\"_blank\">https://wandb.ai/linar/IGLU-Minecraft/runs/19a3wrae</a><br/>\n",
       "                Run data is saved locally in <code>/IGLU-Minecraft/wandb/run-20210927_131504-19a3wrae</code><br/><br/>\n",
       "            "
      ],
      "text/plain": [
       "<IPython.core.display.HTML object>"
      ]
     },
     "metadata": {},
     "output_type": "display_data"
    },
    {
     "data": {
      "application/vnd.jupyter.widget-view+json": {
       "model_id": "7d729fbc9e9c4144b91226193c4cc182",
       "version_major": 2,
       "version_minor": 0
      },
      "text/plain": [
       "  0%|          | 0/5000 [00:00<?, ?it/s]"
      ]
     },
     "metadata": {},
     "output_type": "display_data"
    },
    {
     "ename": "KeyboardInterrupt",
     "evalue": "",
     "output_type": "error",
     "traceback": [
      "\u001b[0;31m---------------------------------------------------------------------------\u001b[0m",
      "\u001b[0;31mKeyboardInterrupt\u001b[0m                         Traceback (most recent call last)",
      "\u001b[0;32m/tmp/ipykernel_64/1377029379.py\u001b[0m in \u001b[0;36m<module>\u001b[0;34m\u001b[0m\n\u001b[1;32m     10\u001b[0m     \u001b[0mtrain_acc\u001b[0m \u001b[0;34m=\u001b[0m \u001b[0;34m[\u001b[0m\u001b[0;34m]\u001b[0m\u001b[0;34m\u001b[0m\u001b[0;34m\u001b[0m\u001b[0m\n\u001b[1;32m     11\u001b[0m     \u001b[0;32mfor\u001b[0m \u001b[0mtarget_tensor_input\u001b[0m\u001b[0;34m,\u001b[0m \u001b[0mlabel_tensor\u001b[0m \u001b[0;32min\u001b[0m \u001b[0mtrain_dataloader\u001b[0m\u001b[0;34m:\u001b[0m\u001b[0;34m\u001b[0m\u001b[0;34m\u001b[0m\u001b[0m\n\u001b[0;32m---> 12\u001b[0;31m         \u001b[0mtarget_tensor_input\u001b[0m \u001b[0;34m=\u001b[0m \u001b[0mtarget_tensor_input\u001b[0m\u001b[0;34m.\u001b[0m\u001b[0mfloat\u001b[0m\u001b[0;34m(\u001b[0m\u001b[0;34m)\u001b[0m\u001b[0;34m.\u001b[0m\u001b[0mto\u001b[0m\u001b[0;34m(\u001b[0m\u001b[0mdevice\u001b[0m\u001b[0;34m)\u001b[0m\u001b[0;34m\u001b[0m\u001b[0;34m\u001b[0m\u001b[0m\n\u001b[0m\u001b[1;32m     13\u001b[0m         \u001b[0mlabel_tensor\u001b[0m \u001b[0;34m=\u001b[0m \u001b[0mlabel_tensor\u001b[0m\u001b[0;34m.\u001b[0m\u001b[0mto\u001b[0m\u001b[0;34m(\u001b[0m\u001b[0mdevice\u001b[0m\u001b[0;34m)\u001b[0m\u001b[0;34m\u001b[0m\u001b[0;34m\u001b[0m\u001b[0m\n\u001b[1;32m     14\u001b[0m \u001b[0;34m\u001b[0m\u001b[0m\n",
      "\u001b[0;31mKeyboardInterrupt\u001b[0m: "
     ]
    }
   ],
   "source": [
    "import wandb\n",
    "\n",
    "wandb.init(\"Target Classifier\")\n",
    "\n",
    "EPOCHS = 5000\n",
    "for epoch in tqdm(range(EPOCHS)):\n",
    "    # training\n",
    "    target_autoencoder.train()\n",
    "    train_loss = []\n",
    "    train_acc = []\n",
    "    for target_tensor_input, label_tensor in train_dataloader:\n",
    "        target_tensor_input = target_tensor_input.float().to(device)\n",
    "        label_tensor = label_tensor.to(device)\n",
    "    \n",
    "        optimizer.zero_grad()\n",
    "        predict = target_classifier(target_tensor_input)\n",
    "        loss = loss_function(predict, label_tensor)\n",
    "        train_acc.append((predict.argmax(dim=1) == label_tensor).float().mean().item())\n",
    "        train_loss.append(loss.item())\n",
    "        loss.backward()\n",
    "        optimizer.step()\n",
    "    train_loss = np.array(train_loss).mean()\n",
    "    train_acc = np.array(train_acc).mean()\n",
    "\n",
    "    wandb.log({'train_loss': train_loss, 'train_acc': train_acc})"
   ]
  },
  {
   "cell_type": "code",
   "execution_count": null,
   "id": "556741e9",
   "metadata": {},
   "outputs": [],
   "source": []
  },
  {
   "cell_type": "code",
   "execution_count": 10,
   "id": "f5aea411",
   "metadata": {},
   "outputs": [],
   "source": [
    "from torch import nn\n",
    "\n",
    "model = nn.Sequential(\n",
    "    nn.Conv3d(7, 32, kernel_size=3, stride=1, padding=0),\n",
    "    nn.ReLU(),\n",
    "    nn.Conv3d(32, 32, kernel_size=3, stride=1, padding=0),\n",
    "    nn.ReLU(),\n",
    "    nn.Conv3d(32, 32, kernel_size=3),\n",
    "    nn.ReLU(),\n",
    "    nn.Conv3d(32, 32, kernel_size=3),\n",
    "    nn.ReLU(),\n",
    "    nn.Conv3d(32, 32, kernel_size=3),\n",
    "    nn.Flatten()\n",
    ")"
   ]
  },
  {
   "cell_type": "code",
   "execution_count": 11,
   "id": "16f17f74",
   "metadata": {},
   "outputs": [
    {
     "data": {
      "text/plain": [
       "116800"
      ]
     },
     "execution_count": 11,
     "metadata": {},
     "output_type": "execute_result"
    }
   ],
   "source": [
    "sum(p.numel() for p in model.parameters())"
   ]
  },
  {
   "cell_type": "code",
   "execution_count": null,
   "id": "b324e3c4",
   "metadata": {},
   "outputs": [],
   "source": []
  }
 ],
 "metadata": {
  "kernelspec": {
   "display_name": "Python 3 (ipykernel)",
   "language": "python",
   "name": "python3"
  },
  "language_info": {
   "codemirror_mode": {
    "name": "ipython",
    "version": 3
   },
   "file_extension": ".py",
   "mimetype": "text/x-python",
   "name": "python",
   "nbconvert_exporter": "python",
   "pygments_lexer": "ipython3",
   "version": "3.7.3"
  }
 },
 "nbformat": 4,
 "nbformat_minor": 5
}
